{
 "cells": [
  {
   "cell_type": "code",
   "execution_count": 1,
   "metadata": {},
   "outputs": [],
   "source": [
    "\n",
    "import urllib.request\n",
    "import urllib.parse\n",
    "import re\n",
    "import pandas as pd\n",
    "import glob"
   ]
  },
  {
   "cell_type": "code",
   "execution_count": 2,
   "metadata": {},
   "outputs": [],
   "source": [
    "''' Sample - First 20 Files in PricebabaHTML '''\n",
    "\n",
    "''' The job of glob is to come up with a list of filenames. '''\n",
    "\n",
    "pricebabaFilesSampleHTML = glob.glob('D:/EPBAProject/Pricebaba/PricebabaHTMLDataSample/*.HTML')"
   ]
  },
  {
   "cell_type": "code",
   "execution_count": 4,
   "metadata": {},
   "outputs": [],
   "source": [
    "''' Read the contents of the files into a list .encoding should be mentioned as utf-8 otherwise gives an error. 'r' needs to be included as well otherwise gives an error. '''\n",
    "\n",
    "pricebabaSample_html = []\n",
    "for filename in pricebabaFilesSampleHTML:\n",
    "    with open(filename, 'r', encoding='utf-8') as f:\n",
    "        pricebabaSample_html.append(f.read())"
   ]
  },
  {
   "cell_type": "code",
   "execution_count": 5,
   "metadata": {},
   "outputs": [
    {
     "data": {
      "text/plain": [
       "[]"
      ]
     },
     "execution_count": 5,
     "metadata": {},
     "output_type": "execute_result"
    }
   ],
   "source": [
    "STRpricebabaSample_html = str(pricebabaSample_html)\n"
   ]
  },
  {
   "cell_type": "code",
   "execution_count": 6,
   "metadata": {},
   "outputs": [],
   "source": [
    "''' Reviews - Getting 36 Reviews for First 20 Sample Files . Parsing for Reviews through Regex. To enter the regular Expression in r' ' '''\n",
    "\n",
    "PriceBabaSampleReviewsHTML = re.findall(r'<div class=\"p-h-m\"><span>(.*?)</span>', str(pricebabaSample_html))\n"
   ]
  },
  {
   "cell_type": "code",
   "execution_count": 7,
   "metadata": {},
   "outputs": [],
   "source": [
    "''' ProductName. '''\n",
    "\n",
    "PriceBabaSampleProductHTML = re.findall(r'User Reviews for (.*?) \\(', str(pricebabaSample_html))"
   ]
  },
  {
   "cell_type": "code",
   "execution_count": 8,
   "metadata": {},
   "outputs": [],
   "source": [
    "''' Rating '''\n",
    "        \n",
    "PriceBabaSampleRatingHTML = re.findall(r'<div class=\\\"usr-rvw__rtng-wrpr\\\"><div class=\\\"cui-rating\\\" title=\\\"Rated (.*?) out', \n",
    "                                       str(pricebabaSample_html))  "
   ]
  },
  {
   "cell_type": "code",
   "execution_count": 9,
   "metadata": {},
   "outputs": [],
   "source": [
    "PriceBabaSampleRatingHTML = [ int(x) for x in PriceBabaSampleRatingHTML]"
   ]
  },
  {
   "cell_type": "code",
   "execution_count": 10,
   "metadata": {},
   "outputs": [],
   "source": [
    "''' Date - Name of the reviewer is also included. '''\n",
    "\n",
    "PriceBabaSampleDateHTML = re.findall(r\"<div class=\\\"m-t-m \\\"><span>(.*?)</span>\", str(pricebabaSample_html))  "
   ]
  },
  {
   "cell_type": "code",
   "execution_count": 11,
   "metadata": {},
   "outputs": [],
   "source": [
    "''' Combining Product Name,Rating,Date, Review with the help of | in regex'''\n",
    "\n",
    "PriceBabaSampleCombined = re.findall(r\"User Reviews for (.*?) \\(|<div class=\\\"usr-rvw__rtng-wrpr\\\"><div class=\\\"cui-rating\\\" title=\\\"Rated (.*?) out|<div class=\\\"m-t-m \\\"><span>(.*?)</span>|<div class=\\\"p-h-m\\\"><span>(.*?)</span>\", str(pricebabaSample_html))\n"
   ]
  },
  {
   "cell_type": "code",
   "execution_count": 12,
   "metadata": {},
   "outputs": [],
   "source": [
    "\n",
    "''' Converting tuple to dataframe '''\n",
    "\n",
    "PriceBabaAllSampleCombinedDF= pd.DataFrame(PriceBabaSampleCombined)"
   ]
  },
  {
   "cell_type": "code",
   "execution_count": 13,
   "metadata": {},
   "outputs": [
    {
     "ename": "FileNotFoundError",
     "evalue": "[Errno 2] No such file or directory: 'D:/EPBAProject/Pricebaba/PriceBabaHTMLDataSampleFiles/AllCombinedSample.csv'",
     "output_type": "error",
     "traceback": [
      "\u001b[1;31m---------------------------------------------------------------------------\u001b[0m",
      "\u001b[1;31mFileNotFoundError\u001b[0m                         Traceback (most recent call last)",
      "\u001b[1;32m<ipython-input-13-332e334d2a3c>\u001b[0m in \u001b[0;36m<module>\u001b[1;34m\u001b[0m\n\u001b[0;32m      1\u001b[0m \u001b[1;34m''' Saving the combined DF as CSV '''\u001b[0m\u001b[1;33m\u001b[0m\u001b[1;33m\u001b[0m\u001b[0m\n\u001b[0;32m      2\u001b[0m \u001b[1;33m\u001b[0m\u001b[0m\n\u001b[1;32m----> 3\u001b[1;33m \u001b[0mPriceBabaAllSampleCombinedDF\u001b[0m\u001b[1;33m.\u001b[0m\u001b[0mto_csv\u001b[0m\u001b[1;33m(\u001b[0m\u001b[1;34m'D:/EPBAProject/Pricebaba/PriceBabaHTMLDataSampleFiles/AllCombinedSample.csv'\u001b[0m\u001b[1;33m)\u001b[0m\u001b[1;33m\u001b[0m\u001b[1;33m\u001b[0m\u001b[0m\n\u001b[0m",
      "\u001b[1;32m~\\AppData\\Local\\Continuum\\anaconda3\\lib\\site-packages\\pandas\\core\\generic.py\u001b[0m in \u001b[0;36mto_csv\u001b[1;34m(self, path_or_buf, sep, na_rep, float_format, columns, header, index, index_label, mode, encoding, compression, quoting, quotechar, line_terminator, chunksize, date_format, doublequote, escapechar, decimal)\u001b[0m\n\u001b[0;32m   3226\u001b[0m             \u001b[0mdecimal\u001b[0m\u001b[1;33m=\u001b[0m\u001b[0mdecimal\u001b[0m\u001b[1;33m,\u001b[0m\u001b[1;33m\u001b[0m\u001b[1;33m\u001b[0m\u001b[0m\n\u001b[0;32m   3227\u001b[0m         )\n\u001b[1;32m-> 3228\u001b[1;33m         \u001b[0mformatter\u001b[0m\u001b[1;33m.\u001b[0m\u001b[0msave\u001b[0m\u001b[1;33m(\u001b[0m\u001b[1;33m)\u001b[0m\u001b[1;33m\u001b[0m\u001b[1;33m\u001b[0m\u001b[0m\n\u001b[0m\u001b[0;32m   3229\u001b[0m \u001b[1;33m\u001b[0m\u001b[0m\n\u001b[0;32m   3230\u001b[0m         \u001b[1;32mif\u001b[0m \u001b[0mpath_or_buf\u001b[0m \u001b[1;32mis\u001b[0m \u001b[1;32mNone\u001b[0m\u001b[1;33m:\u001b[0m\u001b[1;33m\u001b[0m\u001b[1;33m\u001b[0m\u001b[0m\n",
      "\u001b[1;32m~\\AppData\\Local\\Continuum\\anaconda3\\lib\\site-packages\\pandas\\io\\formats\\csvs.py\u001b[0m in \u001b[0;36msave\u001b[1;34m(self)\u001b[0m\n\u001b[0;32m    181\u001b[0m                 \u001b[0mself\u001b[0m\u001b[1;33m.\u001b[0m\u001b[0mmode\u001b[0m\u001b[1;33m,\u001b[0m\u001b[1;33m\u001b[0m\u001b[1;33m\u001b[0m\u001b[0m\n\u001b[0;32m    182\u001b[0m                 \u001b[0mencoding\u001b[0m\u001b[1;33m=\u001b[0m\u001b[0mself\u001b[0m\u001b[1;33m.\u001b[0m\u001b[0mencoding\u001b[0m\u001b[1;33m,\u001b[0m\u001b[1;33m\u001b[0m\u001b[1;33m\u001b[0m\u001b[0m\n\u001b[1;32m--> 183\u001b[1;33m                 \u001b[0mcompression\u001b[0m\u001b[1;33m=\u001b[0m\u001b[0mself\u001b[0m\u001b[1;33m.\u001b[0m\u001b[0mcompression\u001b[0m\u001b[1;33m,\u001b[0m\u001b[1;33m\u001b[0m\u001b[1;33m\u001b[0m\u001b[0m\n\u001b[0m\u001b[0;32m    184\u001b[0m             )\n\u001b[0;32m    185\u001b[0m             \u001b[0mclose\u001b[0m \u001b[1;33m=\u001b[0m \u001b[1;32mTrue\u001b[0m\u001b[1;33m\u001b[0m\u001b[1;33m\u001b[0m\u001b[0m\n",
      "\u001b[1;32m~\\AppData\\Local\\Continuum\\anaconda3\\lib\\site-packages\\pandas\\io\\common.py\u001b[0m in \u001b[0;36m_get_handle\u001b[1;34m(path_or_buf, mode, encoding, compression, memory_map, is_text)\u001b[0m\n\u001b[0;32m    397\u001b[0m         \u001b[1;32mif\u001b[0m \u001b[0mencoding\u001b[0m\u001b[1;33m:\u001b[0m\u001b[1;33m\u001b[0m\u001b[1;33m\u001b[0m\u001b[0m\n\u001b[0;32m    398\u001b[0m             \u001b[1;31m# Encoding\u001b[0m\u001b[1;33m\u001b[0m\u001b[1;33m\u001b[0m\u001b[1;33m\u001b[0m\u001b[0m\n\u001b[1;32m--> 399\u001b[1;33m             \u001b[0mf\u001b[0m \u001b[1;33m=\u001b[0m \u001b[0mopen\u001b[0m\u001b[1;33m(\u001b[0m\u001b[0mpath_or_buf\u001b[0m\u001b[1;33m,\u001b[0m \u001b[0mmode\u001b[0m\u001b[1;33m,\u001b[0m \u001b[0mencoding\u001b[0m\u001b[1;33m=\u001b[0m\u001b[0mencoding\u001b[0m\u001b[1;33m,\u001b[0m \u001b[0mnewline\u001b[0m\u001b[1;33m=\u001b[0m\u001b[1;34m\"\"\u001b[0m\u001b[1;33m)\u001b[0m\u001b[1;33m\u001b[0m\u001b[1;33m\u001b[0m\u001b[0m\n\u001b[0m\u001b[0;32m    400\u001b[0m         \u001b[1;32melif\u001b[0m \u001b[0mis_text\u001b[0m\u001b[1;33m:\u001b[0m\u001b[1;33m\u001b[0m\u001b[1;33m\u001b[0m\u001b[0m\n\u001b[0;32m    401\u001b[0m             \u001b[1;31m# No explicit encoding\u001b[0m\u001b[1;33m\u001b[0m\u001b[1;33m\u001b[0m\u001b[1;33m\u001b[0m\u001b[0m\n",
      "\u001b[1;31mFileNotFoundError\u001b[0m: [Errno 2] No such file or directory: 'D:/EPBAProject/Pricebaba/PriceBabaHTMLDataSampleFiles/AllCombinedSample.csv'"
     ]
    }
   ],
   "source": [
    "''' Saving the combined DF as CSV '''\n",
    "\n",
    "PriceBabaAllSampleCombinedDF.to_csv('D:/EPBAProject/Pricebaba/PriceBabaHTMLDataSampleFiles/AllCombinedSample.csv')"
   ]
  },
  {
   "cell_type": "code",
   "execution_count": 14,
   "metadata": {},
   "outputs": [],
   "source": [
    "#-------------------------------------------------------------------------------------------------------------------------------"
   ]
  },
  {
   "cell_type": "code",
   "execution_count": 15,
   "metadata": {},
   "outputs": [
    {
     "data": {
      "text/plain": [
       "' WHOLE DATA '"
      ]
     },
     "execution_count": 15,
     "metadata": {},
     "output_type": "execute_result"
    }
   ],
   "source": [
    "''' WHOLE DATA '''"
   ]
  },
  {
   "cell_type": "code",
   "execution_count": 16,
   "metadata": {},
   "outputs": [],
   "source": [
    "pricebabaFilesHTML = glob.glob('D:/EPBAProject/Pricebaba/PricebabaHTMLData/*.HTML')"
   ]
  },
  {
   "cell_type": "code",
   "execution_count": 17,
   "metadata": {},
   "outputs": [],
   "source": [
    "''' Read the contents of the reviews into a list . Note encoding should be mentioned as utf-8 otherwise gives an error. Note 'r' needs to be included as well otherwise gives an error. '''\n",
    "\n",
    "pricebaba_html = []\n",
    "for filename in pricebabaFilesHTML:\n",
    "    with open(filename, 'r', encoding='utf-8') as f:\n",
    "        pricebaba_html.append(f.read())"
   ]
  },
  {
   "cell_type": "code",
   "execution_count": 18,
   "metadata": {},
   "outputs": [],
   "source": [
    "''' Reviews - Getting 6470 reviews. '''\n",
    "\n",
    "PriceBabaReviewsHTML = re.findall(r'<div class=\"p-h-m\"><span>(.*?)</span>', str(pricebaba_html))"
   ]
  },
  {
   "cell_type": "code",
   "execution_count": 19,
   "metadata": {},
   "outputs": [],
   "source": [
    "''' ProductName. '''\n",
    "\n",
    "PriceBabaProductHTML = re.findall(r'User Reviews for (.*?) \\(', str(pricebaba_html))"
   ]
  },
  {
   "cell_type": "code",
   "execution_count": 20,
   "metadata": {},
   "outputs": [],
   "source": [
    "''' Rating '''\n",
    "        \n",
    "PriceBabaRatingHTML = re.findall(r'<div class=\\\"usr-rvw__rtng-wrpr\\\"><div class=\\\"cui-rating\\\" title=\\\"Rated (.*?) out', str(pricebaba_html))        \n",
    "\n",
    "PriceBabaRatingHTML = [ int(x) for x in PriceBabaRatingHTML]"
   ]
  },
  {
   "cell_type": "code",
   "execution_count": 21,
   "metadata": {},
   "outputs": [],
   "source": [
    "''' Date - Name of the reviewer is also included. '''\n",
    "\n",
    "PriceBabaDateHTML = re.findall(r\"<div class=\\\"m-t-m \\\"><span>(.*?)</span>\", str(pricebaba_html))  "
   ]
  },
  {
   "cell_type": "code",
   "execution_count": 22,
   "metadata": {},
   "outputs": [],
   "source": [
    "''' Combining Product Name,Rating,Date, Review with the help of | in Regex'''\n",
    "\n",
    "PriceBabaCombined = re.findall(r\"User Reviews for (.*?) \\(|<div class=\\\"usr-rvw__rtng-wrpr\\\"><div class=\\\"cui-rating\\\" title=\\\"Rated (.*?) out|<div class=\\\"m-t-m \\\"><span>(.*?)</span>|<div class=\\\"p-h-m\\\"><span>(.*?)</span>\", str(pricebaba_html))\n",
    "\n"
   ]
  },
  {
   "cell_type": "code",
   "execution_count": 23,
   "metadata": {},
   "outputs": [],
   "source": [
    "''' Converting tuple to dataframe '''\n",
    "\n",
    "PriceBabaAllCombinedDF= pd.DataFrame(PriceBabaCombined)"
   ]
  },
  {
   "cell_type": "code",
   "execution_count": null,
   "metadata": {},
   "outputs": [],
   "source": [
    "\n",
    "''' Saving the combined DF as CSV '''\n",
    "\n",
    "PriceBabaAllCombinedDF.to_csv('D:/EPBAProject/Pricebaba/PriceBabaHTMLDataFiles/AllCombined.csv')"
   ]
  }
 ],
 "metadata": {
  "kernelspec": {
   "display_name": "Python 3",
   "language": "python",
   "name": "python3"
  },
  "language_info": {
   "codemirror_mode": {
    "name": "ipython",
    "version": 3
   },
   "file_extension": ".py",
   "mimetype": "text/x-python",
   "name": "python",
   "nbconvert_exporter": "python",
   "pygments_lexer": "ipython3",
   "version": "3.7.5"
  }
 },
 "nbformat": 4,
 "nbformat_minor": 2
}
