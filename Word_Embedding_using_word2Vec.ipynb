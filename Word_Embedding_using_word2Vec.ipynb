{
 "cells": [
  {
   "cell_type": "code",
   "execution_count": 1,
   "metadata": {
    "colab": {
     "base_uri": "https://localhost:8080/",
     "height": 68
    },
    "colab_type": "code",
    "id": "AWF7esR04XPD",
    "outputId": "e73ef113-b2bb-49f2-8e1f-78b37675c47a"
   },
   "outputs": [
    {
     "name": "stderr",
     "output_type": "stream",
     "text": [
      "[nltk_data] Downloading package stopwords to\n",
      "[nltk_data]     C:\\Users\\halapets\\AppData\\Roaming\\nltk_data...\n",
      "[nltk_data]   Package stopwords is already up-to-date!\n"
     ]
    }
   ],
   "source": [
    "#Import Libraries\n",
    "import pandas as pd\n",
    "import numpy as np\n",
    "import string\n",
    "import nltk\n",
    "from nltk.tokenize import RegexpTokenizer\n",
    "from nltk.corpus import stopwords\n",
    "nltk.download('stopwords')\n",
    "import re"
   ]
  },
  {
   "cell_type": "code",
   "execution_count": 2,
   "metadata": {},
   "outputs": [
    {
     "name": "stderr",
     "output_type": "stream",
     "text": [
      "[nltk_data] Downloading package treebank to\n",
      "[nltk_data]     C:\\Users\\halapets\\AppData\\Roaming\\nltk_data...\n",
      "[nltk_data]   Package treebank is already up-to-date!\n",
      "[nltk_data] Downloading package punkt to\n",
      "[nltk_data]     C:\\Users\\halapets\\AppData\\Roaming\\nltk_data...\n",
      "[nltk_data]   Package punkt is already up-to-date!\n",
      "[nltk_data] Downloading package universal_tagset to\n",
      "[nltk_data]     C:\\Users\\halapets\\AppData\\Roaming\\nltk_data...\n",
      "[nltk_data]   Package universal_tagset is already up-to-date!\n"
     ]
    }
   ],
   "source": [
    "#Importing libraries\n",
    "from sklearn.feature_extraction.text import CountVectorizer\n",
    "from sklearn.base import TransformerMixin\n",
    "import numpy as np\n",
    "import pandas as pd\n",
    "from matplotlib import pyplot as plt\n",
    "import nltk\n",
    "from nltk.corpus import stopwords\n",
    "from nltk.tokenize import word_tokenize\n",
    "import re\n",
    "import requests\n",
    "import seaborn as sns\n",
    "import pprint, time\n",
    "from sklearn.model_selection import train_test_split\n",
    "nltk.download('treebank')\n",
    "from nltk.tokenize import sent_tokenize\n",
    "import string\n",
    "from nltk.tokenize import RegexpTokenizer\n",
    "from nltk.stem import WordNetLemmatizer\n",
    "from nltk.stem.porter import PorterStemmer\n",
    "from collections import Counter\n",
    "from spellchecker import SpellChecker\n",
    "import random\n",
    "from sklearn_crfsuite import CRF\n",
    "from sklearn_crfsuite import metrics\n",
    "from sklearn_crfsuite import scorers\n",
    "import base64\n",
    "from sklearn.feature_extraction.text import TfidfVectorizer\n",
    "from sklearn.pipeline import Pipeline\n",
    "from sklearn.metrics import accuracy_score, classification_report, confusion_matrix\n",
    "\n",
    "nltk.download('punkt')\n",
    "\n",
    "nltk.download('universal_tagset')\n",
    "\n",
    "%matplotlib inline\n",
    "\n",
    "punct = string.punctuation"
   ]
  },
  {
   "cell_type": "code",
   "execution_count": 3,
   "metadata": {
    "colab": {
     "base_uri": "https://localhost:8080/",
     "height": 204
    },
    "colab_type": "code",
    "id": "u5a6cY8q4qpB",
    "outputId": "4a9d59a8-69e2-4d5d-aced-b406317d2d44"
   },
   "outputs": [
    {
     "data": {
      "text/html": [
       "<div>\n",
       "<style scoped>\n",
       "    .dataframe tbody tr th:only-of-type {\n",
       "        vertical-align: middle;\n",
       "    }\n",
       "\n",
       "    .dataframe tbody tr th {\n",
       "        vertical-align: top;\n",
       "    }\n",
       "\n",
       "    .dataframe thead th {\n",
       "        text-align: right;\n",
       "    }\n",
       "</style>\n",
       "<table border=\"1\" class=\"dataframe\">\n",
       "  <thead>\n",
       "    <tr style=\"text-align: right;\">\n",
       "      <th></th>\n",
       "      <th>Product</th>\n",
       "      <th>ReviewUpdated</th>\n",
       "      <th>Rating</th>\n",
       "      <th>Date</th>\n",
       "      <th>Website</th>\n",
       "      <th>TitleGoodBad</th>\n",
       "      <th>ProductPrice</th>\n",
       "      <th>ProductPriceRange</th>\n",
       "      <th>Year</th>\n",
       "      <th>positive_negative</th>\n",
       "      <th>...</th>\n",
       "      <th>Positive_Negative_Tag</th>\n",
       "      <th>LengthofReviews</th>\n",
       "      <th>SentimentPolarity</th>\n",
       "      <th>SentimentSubjectivity</th>\n",
       "      <th>SentimentPolarityClass</th>\n",
       "      <th>AvgSentPolarity</th>\n",
       "      <th>AvgSentimentPolarityClass</th>\n",
       "      <th>AvgSentimentSubjectivity</th>\n",
       "      <th>ReviewUpdated1</th>\n",
       "      <th>ReviewUpdated2</th>\n",
       "    </tr>\n",
       "  </thead>\n",
       "  <tbody>\n",
       "    <tr>\n",
       "      <th>0</th>\n",
       "      <td>Xiaomi Redmi Note 3</td>\n",
       "      <td>['yet', 'another', 'value', 'money', 'product'...</td>\n",
       "      <td>3.0</td>\n",
       "      <td>Jul 17, 2016 10:59 PM</td>\n",
       "      <td>MouthShut</td>\n",
       "      <td>Yet another Value for Money product from Xiaomi</td>\n",
       "      <td>9999</td>\n",
       "      <td>Budget Range</td>\n",
       "      <td>2016.0</td>\n",
       "      <td>1</td>\n",
       "      <td>...</td>\n",
       "      <td>Positive Rating</td>\n",
       "      <td>344</td>\n",
       "      <td>-0.028571</td>\n",
       "      <td>0.576190</td>\n",
       "      <td>Negative Rating</td>\n",
       "      <td>0.403533</td>\n",
       "      <td>Positive Rating</td>\n",
       "      <td>NaN</td>\n",
       "      <td>Yet another Value for Money product from Xiaom...</td>\n",
       "      <td>Yet another Value for Money product from Xiaom...</td>\n",
       "    </tr>\n",
       "    <tr>\n",
       "      <th>1</th>\n",
       "      <td>Xiaomi Redmi Note 3</td>\n",
       "      <td>['awesome', 'marvelous', 'mobile', 'go', 'valu...</td>\n",
       "      <td>5.0</td>\n",
       "      <td>Jul 17, 2016 10:42 PM</td>\n",
       "      <td>MouthShut</td>\n",
       "      <td>Awesome</td>\n",
       "      <td>9999</td>\n",
       "      <td>Budget Range</td>\n",
       "      <td>2016.0</td>\n",
       "      <td>1</td>\n",
       "      <td>...</td>\n",
       "      <td>Positive Rating</td>\n",
       "      <td>276</td>\n",
       "      <td>0.780000</td>\n",
       "      <td>0.640000</td>\n",
       "      <td>Positive Rating</td>\n",
       "      <td>0.403533</td>\n",
       "      <td>Positive Rating</td>\n",
       "      <td>NaN</td>\n",
       "      <td>Awesome  Marvelous Mobile just go for it., Val...</td>\n",
       "      <td>Awesome  Marvelous Mobile just go for it., Val...</td>\n",
       "    </tr>\n",
       "    <tr>\n",
       "      <th>2</th>\n",
       "      <td>Xiaomi Redmi Note 3</td>\n",
       "      <td>['power', 'pack', 'review', 'redmi', 'note', '...</td>\n",
       "      <td>5.0</td>\n",
       "      <td>Jul 17, 2016 06:18 PM</td>\n",
       "      <td>MouthShut</td>\n",
       "      <td>Power pack review on Redmi Note 3</td>\n",
       "      <td>9999</td>\n",
       "      <td>Budget Range</td>\n",
       "      <td>2016.0</td>\n",
       "      <td>1</td>\n",
       "      <td>...</td>\n",
       "      <td>Positive Rating</td>\n",
       "      <td>322</td>\n",
       "      <td>0.474444</td>\n",
       "      <td>0.477037</td>\n",
       "      <td>Positive Rating</td>\n",
       "      <td>0.403533</td>\n",
       "      <td>Positive Rating</td>\n",
       "      <td>NaN</td>\n",
       "      <td>Power pack review on Redmi Note 3  REDMI NOTE ...</td>\n",
       "      <td>Power pack review on Redmi Note 3  REDMI NOTE ...</td>\n",
       "    </tr>\n",
       "    <tr>\n",
       "      <th>3</th>\n",
       "      <td>Xiaomi Redmi Note 3</td>\n",
       "      <td>['flagship', 'smartfone', 'phone', 'looks', 'v...</td>\n",
       "      <td>4.0</td>\n",
       "      <td>Jul 17, 2016 04:44 PM</td>\n",
       "      <td>MouthShut</td>\n",
       "      <td>Flagship smartfone under 13000rs</td>\n",
       "      <td>9999</td>\n",
       "      <td>Budget Range</td>\n",
       "      <td>2016.0</td>\n",
       "      <td>1</td>\n",
       "      <td>...</td>\n",
       "      <td>Positive Rating</td>\n",
       "      <td>333</td>\n",
       "      <td>0.502500</td>\n",
       "      <td>0.832500</td>\n",
       "      <td>Positive Rating</td>\n",
       "      <td>0.403533</td>\n",
       "      <td>Positive Rating</td>\n",
       "      <td>NaN</td>\n",
       "      <td>Flagship smartfone under 13000rs  This phone l...</td>\n",
       "      <td>Flagship smartfone under 13000rs  This phone l...</td>\n",
       "    </tr>\n",
       "    <tr>\n",
       "      <th>4</th>\n",
       "      <td>Xiaomi Redmi Note 3</td>\n",
       "      <td>['boon', 'mobile', 'master', 'piece', 'economi...</td>\n",
       "      <td>5.0</td>\n",
       "      <td>Jul 17, 2016 12:32 PM</td>\n",
       "      <td>MouthShut</td>\n",
       "      <td>Boon for mobile</td>\n",
       "      <td>9999</td>\n",
       "      <td>Budget Range</td>\n",
       "      <td>2016.0</td>\n",
       "      <td>1</td>\n",
       "      <td>...</td>\n",
       "      <td>Positive Rating</td>\n",
       "      <td>316</td>\n",
       "      <td>0.448571</td>\n",
       "      <td>0.627857</td>\n",
       "      <td>Positive Rating</td>\n",
       "      <td>0.403533</td>\n",
       "      <td>Positive Rating</td>\n",
       "      <td>NaN</td>\n",
       "      <td>Boon for mobile  Master piece in such a econom...</td>\n",
       "      <td>Boon for mobile  Master piece in such a econom...</td>\n",
       "    </tr>\n",
       "  </tbody>\n",
       "</table>\n",
       "<p>5 rows × 23 columns</p>\n",
       "</div>"
      ],
      "text/plain": [
       "               Product                                      ReviewUpdated  \\\n",
       "0  Xiaomi Redmi Note 3  ['yet', 'another', 'value', 'money', 'product'...   \n",
       "1  Xiaomi Redmi Note 3  ['awesome', 'marvelous', 'mobile', 'go', 'valu...   \n",
       "2  Xiaomi Redmi Note 3  ['power', 'pack', 'review', 'redmi', 'note', '...   \n",
       "3  Xiaomi Redmi Note 3  ['flagship', 'smartfone', 'phone', 'looks', 'v...   \n",
       "4  Xiaomi Redmi Note 3  ['boon', 'mobile', 'master', 'piece', 'economi...   \n",
       "\n",
       "   Rating                   Date    Website  \\\n",
       "0     3.0  Jul 17, 2016 10:59 PM  MouthShut   \n",
       "1     5.0  Jul 17, 2016 10:42 PM  MouthShut   \n",
       "2     5.0  Jul 17, 2016 06:18 PM  MouthShut   \n",
       "3     4.0  Jul 17, 2016 04:44 PM  MouthShut   \n",
       "4     5.0  Jul 17, 2016 12:32 PM  MouthShut   \n",
       "\n",
       "                                        TitleGoodBad ProductPrice  \\\n",
       "0  Yet another Value for Money product from Xiaomi           9999   \n",
       "1                                          Awesome           9999   \n",
       "2                Power pack review on Redmi Note 3           9999   \n",
       "3                 Flagship smartfone under 13000rs           9999   \n",
       "4                                  Boon for mobile           9999   \n",
       "\n",
       "  ProductPriceRange    Year  positive_negative  ...  Positive_Negative_Tag  \\\n",
       "0      Budget Range  2016.0                  1  ...        Positive Rating   \n",
       "1      Budget Range  2016.0                  1  ...        Positive Rating   \n",
       "2      Budget Range  2016.0                  1  ...        Positive Rating   \n",
       "3      Budget Range  2016.0                  1  ...        Positive Rating   \n",
       "4      Budget Range  2016.0                  1  ...        Positive Rating   \n",
       "\n",
       "   LengthofReviews SentimentPolarity SentimentSubjectivity  \\\n",
       "0              344         -0.028571              0.576190   \n",
       "1              276          0.780000              0.640000   \n",
       "2              322          0.474444              0.477037   \n",
       "3              333          0.502500              0.832500   \n",
       "4              316          0.448571              0.627857   \n",
       "\n",
       "   SentimentPolarityClass  AvgSentPolarity  AvgSentimentPolarityClass  \\\n",
       "0         Negative Rating         0.403533            Positive Rating   \n",
       "1         Positive Rating         0.403533            Positive Rating   \n",
       "2         Positive Rating         0.403533            Positive Rating   \n",
       "3         Positive Rating         0.403533            Positive Rating   \n",
       "4         Positive Rating         0.403533            Positive Rating   \n",
       "\n",
       "  AvgSentimentSubjectivity                                     ReviewUpdated1  \\\n",
       "0                      NaN  Yet another Value for Money product from Xiaom...   \n",
       "1                      NaN  Awesome  Marvelous Mobile just go for it., Val...   \n",
       "2                      NaN  Power pack review on Redmi Note 3  REDMI NOTE ...   \n",
       "3                      NaN  Flagship smartfone under 13000rs  This phone l...   \n",
       "4                      NaN  Boon for mobile  Master piece in such a econom...   \n",
       "\n",
       "                                      ReviewUpdated2  \n",
       "0  Yet another Value for Money product from Xiaom...  \n",
       "1  Awesome  Marvelous Mobile just go for it., Val...  \n",
       "2  Power pack review on Redmi Note 3  REDMI NOTE ...  \n",
       "3  Flagship smartfone under 13000rs  This phone l...  \n",
       "4  Boon for mobile  Master piece in such a econom...  \n",
       "\n",
       "[5 rows x 23 columns]"
      ]
     },
     "execution_count": 3,
     "metadata": {},
     "output_type": "execute_result"
    }
   ],
   "source": [
    "#Create dataframe and store the data from Mobile Reviews.csv\n",
    "LatestMobileReviews1 = pd.read_csv('C:\\\\Users\\\\halapets\\\\Documents\\\\LJMU Research_Sentiment Analysis\\\\LatestMobileReviews.csv',encoding='utf-8')\n",
    "LatestMobileReviews1.head()"
   ]
  },
  {
   "cell_type": "code",
   "execution_count": 4,
   "metadata": {
    "colab": {
     "base_uri": "https://localhost:8080/",
     "height": 34
    },
    "colab_type": "code",
    "id": "Z5CL3mET6vgK",
    "outputId": "ce10ac5c-6eb0-49a1-ecc4-f5bf1ec07c82"
   },
   "outputs": [
    {
     "data": {
      "text/plain": [
       "160057"
      ]
     },
     "execution_count": 4,
     "metadata": {},
     "output_type": "execute_result"
    }
   ],
   "source": [
    "#create empty list\n",
    "review_data_list = list()\n",
    "\n",
    "indv_lines = LatestMobileReviews1['ReviewUpdated1'].values.tolist()\n",
    "for line in indv_lines:\n",
    "\n",
    "    #create word tokens as well as remove puntuation in one go\n",
    "    rem_tok_punc = RegexpTokenizer(r'\\w+')\n",
    "\n",
    "    tokens = rem_tok_punc.tokenize(line)\n",
    "\n",
    "\n",
    "    #convert the words to lower case\n",
    "    words = [w.lower() for w in tokens]\n",
    "\n",
    "    #Invoke all the english stopwords\n",
    "    stop_word_list = set(stopwords.words('english'))\n",
    "\n",
    "    #Remove stop words\n",
    "    words = [w for w in words if not w in stop_word_list]\n",
    "\n",
    "    #Append words in the review_data_list list.\n",
    "    review_data_list.append(words)\n",
    "len(review_data_list)"
   ]
  },
  {
   "cell_type": "code",
   "execution_count": 5,
   "metadata": {},
   "outputs": [],
   "source": [
    "#wpt = nltk.WordPunctTokenizer()\n",
    "#stop_words = nltk.corpus.stopwords.words('english')\n",
    "\n",
    "#def normalize_document(doc):\n",
    "#    # lower case and remove special characters\\whitespaces\n",
    "#    doc = re.sub(r'[^a-zA-Z\\s]', '', doc, re.I|re.A)\n",
    "#    doc = doc.lower()\n",
    "#    doc = doc.strip()\n",
    "#    # tokenize document\n",
    "#    tokens = wpt.tokenize(doc)\n",
    "#    # filter stopwords out of document\n",
    "#    filtered_tokens = [token for token in tokens if token not in stop_words]\n",
    "#    # re-create document from filtered tokens\n",
    "#    doc = ' '.join(filtered_tokens)\n",
    "#    return doc\n",
    "\n",
    "#normalize_corpus = np.vectorize(normalize_document)"
   ]
  },
  {
   "cell_type": "code",
   "execution_count": 6,
   "metadata": {},
   "outputs": [],
   "source": [
    "#from string import punctuation\n",
    "\n",
    "#remove_terms = punctuation + '0123456789'\n",
    "\n",
    "#Reviews = [[word.lower() for word in sent if word not in remove_terms] for sent in LatestMobileReviews1['ReviewUpdated1']]\n",
    "#Reviews = [' '.join(tok_sent) for tok_sent in Reviews]\n",
    "#Reviews = filter(None, normalize_corpus(Reviews))\n",
    "#Reviews = [tok_sent for tok_sent in Reviews if len(tok_sent.split()) > 2]"
   ]
  },
  {
   "cell_type": "code",
   "execution_count": 7,
   "metadata": {},
   "outputs": [],
   "source": [
    "#from gensim.models import word2vec\n",
    "\n",
    "# tokenize sentences in corpus\n",
    "#wpt = nltk.WordPunctTokenizer()\n",
    "#tokenized_corpus = [wpt.tokenize(word) for word in words]\n",
    "\n",
    "## Set values for various parameters\n",
    "#feature_size = 300    # Word vector dimensionality  \n",
    "#window_context = 30          # Context window size                                                                                    \n",
    "#min_word_count = 1   # Minimum word count                        \n",
    "#sample = 1e-3   # Downsample setting for frequent words\n",
    "\n",
    "#w2v_model = word2vec.Word2Vec(tokenized_corpus, size=feature_size, \n",
    "#                          window=window_context, min_count=min_word_count,\n",
    "#                          sample=sample, iter=50)\n",
    "\n",
    "## view similar words based on gensim's model\n",
    "#similar_words = {search_term: [item[0] for item in w2v_model.wv.most_similar([search_term], topn=5)]\n",
    "#                  for search_term in [ 'awesome', 'terrible', 'bad', 'fantastic', 'excellent', 'value','great']}\n",
    "#similar_words"
   ]
  },
  {
   "cell_type": "code",
   "execution_count": 8,
   "metadata": {
    "colab": {
     "base_uri": "https://localhost:8080/",
     "height": 34
    },
    "colab_type": "code",
    "id": "KJ5qoUHg7LFZ",
    "outputId": "a3ac55b0-23da-4447-ff16-0b67f9ef4343"
   },
   "outputs": [],
   "source": [
    "#Train a Word2Vec model using Gensim\n",
    "#import gensim\n",
    "#Embedding_Dim = 300\n",
    "#train word2vec model\n",
    "#model = gensim.models.Word2Vec(sentences = review_data_list, size = Embedding_Dim, workers = 4, min_count = 4)\n",
    "#Vocabulary size\n",
    "#words = list(model.wv.vocab)\n",
    "#print('Here is the Vocabulary Size.. %d' % len(words))"
   ]
  },
  {
   "cell_type": "code",
   "execution_count": 9,
   "metadata": {},
   "outputs": [
    {
     "data": {
      "text/plain": [
       "{'awesome': ['great', 'superb', 'good', 'amazing', 'nice'],\n",
       " 'excellent': ['superb', 'good', 'awesome', 'nice', 'outstanding'],\n",
       " 'value': ['companyworth', 'pricepurchasing', 'eass', 'waistage', 'comoaring'],\n",
       " 'great': ['awesome', 'good', 'amazing', 'best', 'nice'],\n",
       " 'bad': ['poor', 'worst', 'good', 'bed', 'wrost']}"
      ]
     },
     "execution_count": 9,
     "metadata": {},
     "output_type": "execute_result"
    }
   ],
   "source": [
    "from gensim.models import word2vec\n",
    "\n",
    "# Set values for various parameters\n",
    "feature_size = 300    # Word vector dimensionality  \n",
    "window_context = 30          # Context window size                                                                                    \n",
    "min_word_count = 1   # Minimum word count                        \n",
    "sample = 1e-3   # Downsample setting for frequent words\n",
    "\n",
    "\n",
    "w2v_model = word2vec.Word2Vec(review_data_list, size=feature_size, \n",
    "                          window=window_context, min_count=min_word_count,\n",
    "                          sample=sample, iter=50)\n",
    "\n",
    "\n",
    "# view similar words based on gensim's model\n",
    "similar_words = {search_term: [item[0] for item in w2v_model.wv.most_similar([search_term], topn=5)]\n",
    "                  for search_term in ['awesome', 'excellent', 'value', 'great', 'bad']}\n",
    "similar_words"
   ]
  },
  {
   "cell_type": "code",
   "execution_count": 10,
   "metadata": {
    "colab": {
     "base_uri": "https://localhost:8080/",
     "height": 241
    },
    "colab_type": "code",
    "id": "DoBp0RWQ8ewW",
    "outputId": "295d972d-c1a6-4900-f93f-825e307c7dfb"
   },
   "outputs": [
    {
     "data": {
      "text/plain": [
       "[('great', 0.5514395833015442),\n",
       " ('superb', 0.5328612923622131),\n",
       " ('good', 0.5328101515769958),\n",
       " ('amazing', 0.511934757232666),\n",
       " ('nice', 0.5099349617958069),\n",
       " ('love', 0.5066871643066406),\n",
       " ('best', 0.4943978786468506),\n",
       " ('fantastic', 0.48446664214134216),\n",
       " ('fabulous', 0.4714233875274658),\n",
       " ('excellent', 0.4474281072616577)]"
      ]
     },
     "execution_count": 10,
     "metadata": {},
     "output_type": "execute_result"
    }
   ],
   "source": [
    "#Finding similar words\n",
    "w2v_model.wv.most_similar('awesome')\n"
   ]
  },
  {
   "cell_type": "code",
   "execution_count": 11,
   "metadata": {
    "colab": {
     "base_uri": "https://localhost:8080/",
     "height": 241
    },
    "colab_type": "code",
    "id": "jDgx11NkDeLj",
    "outputId": "53491a9c-5bfe-41c8-9c7d-337657baad30"
   },
   "outputs": [
    {
     "data": {
      "text/plain": [
       "[('rubbish', 0.377366840839386),\n",
       " ('horrible', 0.3447490632534027),\n",
       " ('pathetic', 0.3397260904312134),\n",
       " ('worst', 0.3334740400314331),\n",
       " ('subsequent', 0.3187875747680664),\n",
       " ('blank', 0.3161851465702057),\n",
       " ('shabby', 0.3156479001045227),\n",
       " ('bullshit', 0.3126544952392578),\n",
       " ('bad', 0.30812928080558777),\n",
       " ('pointless', 0.3074467182159424)]"
      ]
     },
     "execution_count": 11,
     "metadata": {},
     "output_type": "execute_result"
    }
   ],
   "source": [
    "w2v_model.wv.most_similar('terrible')"
   ]
  },
  {
   "cell_type": "code",
   "execution_count": 12,
   "metadata": {
    "colab": {
     "base_uri": "https://localhost:8080/",
     "height": 187
    },
    "colab_type": "code",
    "id": "XWdr4Dg7FYI0",
    "outputId": "d95b4238-6071-4236-eec3-0bf5bbdc2703"
   },
   "outputs": [
    {
     "data": {
      "text/plain": [
       "[('poor', 1.0870494842529297),\n",
       " ('worst', 0.9679340720176697),\n",
       " ('bed', 0.9610239267349243),\n",
       " ('average', 0.9342203140258789),\n",
       " ('wrost', 0.9301550984382629),\n",
       " ('worest', 0.9202836751937866),\n",
       " ('slow', 0.913879930973053),\n",
       " ('avarage', 0.9078776836395264),\n",
       " ('noot', 0.8959892392158508),\n",
       " ('spekare', 0.894173264503479)]"
      ]
     },
     "execution_count": 12,
     "metadata": {},
     "output_type": "execute_result"
    }
   ],
   "source": [
    "#Performing some mathematics on word vectors queen + man - woman = ?\n",
    "w2v_model.wv.most_similar_cosmul(positive=['good','bad'], negative=['awesome'])"
   ]
  },
  {
   "cell_type": "code",
   "execution_count": 13,
   "metadata": {
    "colab": {
     "base_uri": "https://localhost:8080/",
     "height": 122
    },
    "colab_type": "code",
    "id": "snbuPiAPFa9i",
    "outputId": "31ef88d9-1799-4be5-90d3-15f72686dca8"
   },
   "outputs": [
    {
     "name": "stdout",
     "output_type": "stream",
     "text": [
      "awesome\n"
     ]
    },
    {
     "name": "stderr",
     "output_type": "stream",
     "text": [
      "C:\\Users\\halapets\\AppData\\Local\\Continuum\\anaconda3\\lib\\site-packages\\gensim\\models\\keyedvectors.py:877: FutureWarning: arrays to stack must be passed as a \"sequence\" type such as list or tuple. Support for non-sequence iterables such as generators is deprecated as of NumPy 1.16 and will raise an error in the future.\n",
      "  vectors = vstack(self.word_vec(word, use_norm=True) for word in used_words).astype(REAL)\n"
     ]
    }
   ],
   "source": [
    "#Finding the odd word out from the list of words given\n",
    "print(w2v_model.wv.doesnt_match(\"good awesome bad\".split()))"
   ]
  },
  {
   "cell_type": "code",
   "execution_count": 14,
   "metadata": {
    "colab": {
     "base_uri": "https://localhost:8080/",
     "height": 888
    },
    "colab_type": "code",
    "id": "25X3qImdFzOM",
    "outputId": "86f55590-335b-46ee-a760-f5b9f1e2b85a"
   },
   "outputs": [
    {
     "data": {
      "text/html": [
       "\n",
       "    <div class=\"bk-root\">\n",
       "        <a href=\"https://bokeh.org\" target=\"_blank\" class=\"bk-logo bk-logo-small bk-logo-notebook\"></a>\n",
       "        <span id=\"1001\">Loading BokehJS ...</span>\n",
       "    </div>"
      ]
     },
     "metadata": {},
     "output_type": "display_data"
    },
    {
     "data": {
      "application/javascript": [
       "\n",
       "(function(root) {\n",
       "  function now() {\n",
       "    return new Date();\n",
       "  }\n",
       "\n",
       "  var force = true;\n",
       "\n",
       "  if (typeof root._bokeh_onload_callbacks === \"undefined\" || force === true) {\n",
       "    root._bokeh_onload_callbacks = [];\n",
       "    root._bokeh_is_loading = undefined;\n",
       "  }\n",
       "\n",
       "  var JS_MIME_TYPE = 'application/javascript';\n",
       "  var HTML_MIME_TYPE = 'text/html';\n",
       "  var EXEC_MIME_TYPE = 'application/vnd.bokehjs_exec.v0+json';\n",
       "  var CLASS_NAME = 'output_bokeh rendered_html';\n",
       "\n",
       "  /**\n",
       "   * Render data to the DOM node\n",
       "   */\n",
       "  function render(props, node) {\n",
       "    var script = document.createElement(\"script\");\n",
       "    node.appendChild(script);\n",
       "  }\n",
       "\n",
       "  /**\n",
       "   * Handle when an output is cleared or removed\n",
       "   */\n",
       "  function handleClearOutput(event, handle) {\n",
       "    var cell = handle.cell;\n",
       "\n",
       "    var id = cell.output_area._bokeh_element_id;\n",
       "    var server_id = cell.output_area._bokeh_server_id;\n",
       "    // Clean up Bokeh references\n",
       "    if (id != null && id in Bokeh.index) {\n",
       "      Bokeh.index[id].model.document.clear();\n",
       "      delete Bokeh.index[id];\n",
       "    }\n",
       "\n",
       "    if (server_id !== undefined) {\n",
       "      // Clean up Bokeh references\n",
       "      var cmd = \"from bokeh.io.state import curstate; print(curstate().uuid_to_server['\" + server_id + \"'].get_sessions()[0].document.roots[0]._id)\";\n",
       "      cell.notebook.kernel.execute(cmd, {\n",
       "        iopub: {\n",
       "          output: function(msg) {\n",
       "            var id = msg.content.text.trim();\n",
       "            if (id in Bokeh.index) {\n",
       "              Bokeh.index[id].model.document.clear();\n",
       "              delete Bokeh.index[id];\n",
       "            }\n",
       "          }\n",
       "        }\n",
       "      });\n",
       "      // Destroy server and session\n",
       "      var cmd = \"import bokeh.io.notebook as ion; ion.destroy_server('\" + server_id + \"')\";\n",
       "      cell.notebook.kernel.execute(cmd);\n",
       "    }\n",
       "  }\n",
       "\n",
       "  /**\n",
       "   * Handle when a new output is added\n",
       "   */\n",
       "  function handleAddOutput(event, handle) {\n",
       "    var output_area = handle.output_area;\n",
       "    var output = handle.output;\n",
       "\n",
       "    // limit handleAddOutput to display_data with EXEC_MIME_TYPE content only\n",
       "    if ((output.output_type != \"display_data\") || (!output.data.hasOwnProperty(EXEC_MIME_TYPE))) {\n",
       "      return\n",
       "    }\n",
       "\n",
       "    var toinsert = output_area.element.find(\".\" + CLASS_NAME.split(' ')[0]);\n",
       "\n",
       "    if (output.metadata[EXEC_MIME_TYPE][\"id\"] !== undefined) {\n",
       "      toinsert[toinsert.length - 1].firstChild.textContent = output.data[JS_MIME_TYPE];\n",
       "      // store reference to embed id on output_area\n",
       "      output_area._bokeh_element_id = output.metadata[EXEC_MIME_TYPE][\"id\"];\n",
       "    }\n",
       "    if (output.metadata[EXEC_MIME_TYPE][\"server_id\"] !== undefined) {\n",
       "      var bk_div = document.createElement(\"div\");\n",
       "      bk_div.innerHTML = output.data[HTML_MIME_TYPE];\n",
       "      var script_attrs = bk_div.children[0].attributes;\n",
       "      for (var i = 0; i < script_attrs.length; i++) {\n",
       "        toinsert[toinsert.length - 1].firstChild.setAttribute(script_attrs[i].name, script_attrs[i].value);\n",
       "      }\n",
       "      // store reference to server id on output_area\n",
       "      output_area._bokeh_server_id = output.metadata[EXEC_MIME_TYPE][\"server_id\"];\n",
       "    }\n",
       "  }\n",
       "\n",
       "  function register_renderer(events, OutputArea) {\n",
       "\n",
       "    function append_mime(data, metadata, element) {\n",
       "      // create a DOM node to render to\n",
       "      var toinsert = this.create_output_subarea(\n",
       "        metadata,\n",
       "        CLASS_NAME,\n",
       "        EXEC_MIME_TYPE\n",
       "      );\n",
       "      this.keyboard_manager.register_events(toinsert);\n",
       "      // Render to node\n",
       "      var props = {data: data, metadata: metadata[EXEC_MIME_TYPE]};\n",
       "      render(props, toinsert[toinsert.length - 1]);\n",
       "      element.append(toinsert);\n",
       "      return toinsert\n",
       "    }\n",
       "\n",
       "    /* Handle when an output is cleared or removed */\n",
       "    events.on('clear_output.CodeCell', handleClearOutput);\n",
       "    events.on('delete.Cell', handleClearOutput);\n",
       "\n",
       "    /* Handle when a new output is added */\n",
       "    events.on('output_added.OutputArea', handleAddOutput);\n",
       "\n",
       "    /**\n",
       "     * Register the mime type and append_mime function with output_area\n",
       "     */\n",
       "    OutputArea.prototype.register_mime_type(EXEC_MIME_TYPE, append_mime, {\n",
       "      /* Is output safe? */\n",
       "      safe: true,\n",
       "      /* Index of renderer in `output_area.display_order` */\n",
       "      index: 0\n",
       "    });\n",
       "  }\n",
       "\n",
       "  // register the mime type if in Jupyter Notebook environment and previously unregistered\n",
       "  if (root.Jupyter !== undefined) {\n",
       "    var events = require('base/js/events');\n",
       "    var OutputArea = require('notebook/js/outputarea').OutputArea;\n",
       "\n",
       "    if (OutputArea.prototype.mime_types().indexOf(EXEC_MIME_TYPE) == -1) {\n",
       "      register_renderer(events, OutputArea);\n",
       "    }\n",
       "  }\n",
       "\n",
       "  \n",
       "  if (typeof (root._bokeh_timeout) === \"undefined\" || force === true) {\n",
       "    root._bokeh_timeout = Date.now() + 5000;\n",
       "    root._bokeh_failed_load = false;\n",
       "  }\n",
       "\n",
       "  var NB_LOAD_WARNING = {'data': {'text/html':\n",
       "     \"<div style='background-color: #fdd'>\\n\"+\n",
       "     \"<p>\\n\"+\n",
       "     \"BokehJS does not appear to have successfully loaded. If loading BokehJS from CDN, this \\n\"+\n",
       "     \"may be due to a slow or bad network connection. Possible fixes:\\n\"+\n",
       "     \"</p>\\n\"+\n",
       "     \"<ul>\\n\"+\n",
       "     \"<li>re-rerun `output_notebook()` to attempt to load from CDN again, or</li>\\n\"+\n",
       "     \"<li>use INLINE resources instead, as so:</li>\\n\"+\n",
       "     \"</ul>\\n\"+\n",
       "     \"<code>\\n\"+\n",
       "     \"from bokeh.resources import INLINE\\n\"+\n",
       "     \"output_notebook(resources=INLINE)\\n\"+\n",
       "     \"</code>\\n\"+\n",
       "     \"</div>\"}};\n",
       "\n",
       "  function display_loaded() {\n",
       "    var el = document.getElementById(\"1001\");\n",
       "    if (el != null) {\n",
       "      el.textContent = \"BokehJS is loading...\";\n",
       "    }\n",
       "    if (root.Bokeh !== undefined) {\n",
       "      if (el != null) {\n",
       "        el.textContent = \"BokehJS \" + root.Bokeh.version + \" successfully loaded.\";\n",
       "      }\n",
       "    } else if (Date.now() < root._bokeh_timeout) {\n",
       "      setTimeout(display_loaded, 100)\n",
       "    }\n",
       "  }\n",
       "\n",
       "\n",
       "  function run_callbacks() {\n",
       "    try {\n",
       "      root._bokeh_onload_callbacks.forEach(function(callback) {\n",
       "        if (callback != null)\n",
       "          callback();\n",
       "      });\n",
       "    } finally {\n",
       "      delete root._bokeh_onload_callbacks\n",
       "    }\n",
       "    console.debug(\"Bokeh: all callbacks have finished\");\n",
       "  }\n",
       "\n",
       "  function load_libs(css_urls, js_urls, callback) {\n",
       "    if (css_urls == null) css_urls = [];\n",
       "    if (js_urls == null) js_urls = [];\n",
       "\n",
       "    root._bokeh_onload_callbacks.push(callback);\n",
       "    if (root._bokeh_is_loading > 0) {\n",
       "      console.debug(\"Bokeh: BokehJS is being loaded, scheduling callback at\", now());\n",
       "      return null;\n",
       "    }\n",
       "    if (js_urls == null || js_urls.length === 0) {\n",
       "      run_callbacks();\n",
       "      return null;\n",
       "    }\n",
       "    console.debug(\"Bokeh: BokehJS not loaded, scheduling load and callback at\", now());\n",
       "    root._bokeh_is_loading = css_urls.length + js_urls.length;\n",
       "\n",
       "    function on_load() {\n",
       "      root._bokeh_is_loading--;\n",
       "      if (root._bokeh_is_loading === 0) {\n",
       "        console.debug(\"Bokeh: all BokehJS libraries/stylesheets loaded\");\n",
       "        run_callbacks()\n",
       "      }\n",
       "    }\n",
       "\n",
       "    function on_error() {\n",
       "      console.error(\"failed to load \" + url);\n",
       "    }\n",
       "\n",
       "    for (var i = 0; i < css_urls.length; i++) {\n",
       "      var url = css_urls[i];\n",
       "      const element = document.createElement(\"link\");\n",
       "      element.onload = on_load;\n",
       "      element.onerror = on_error;\n",
       "      element.rel = \"stylesheet\";\n",
       "      element.type = \"text/css\";\n",
       "      element.href = url;\n",
       "      console.debug(\"Bokeh: injecting link tag for BokehJS stylesheet: \", url);\n",
       "      document.body.appendChild(element);\n",
       "    }\n",
       "\n",
       "    for (var i = 0; i < js_urls.length; i++) {\n",
       "      var url = js_urls[i];\n",
       "      var element = document.createElement('script');\n",
       "      element.onload = on_load;\n",
       "      element.onerror = on_error;\n",
       "      element.async = false;\n",
       "      element.src = url;\n",
       "      console.debug(\"Bokeh: injecting script tag for BokehJS library: \", url);\n",
       "      document.head.appendChild(element);\n",
       "    }\n",
       "  };var element = document.getElementById(\"1001\");\n",
       "  if (element == null) {\n",
       "    console.error(\"Bokeh: ERROR: autoload.js configured with elementid '1001' but no matching script tag was found. \")\n",
       "    return false;\n",
       "  }\n",
       "\n",
       "  function inject_raw_css(css) {\n",
       "    const element = document.createElement(\"style\");\n",
       "    element.appendChild(document.createTextNode(css));\n",
       "    document.body.appendChild(element);\n",
       "  }\n",
       "\n",
       "  \n",
       "  var js_urls = [\"https://cdn.pydata.org/bokeh/release/bokeh-1.4.0.min.js\", \"https://cdn.pydata.org/bokeh/release/bokeh-widgets-1.4.0.min.js\", \"https://cdn.pydata.org/bokeh/release/bokeh-tables-1.4.0.min.js\", \"https://cdn.pydata.org/bokeh/release/bokeh-gl-1.4.0.min.js\"];\n",
       "  var css_urls = [];\n",
       "  \n",
       "\n",
       "  var inline_js = [\n",
       "    function(Bokeh) {\n",
       "      Bokeh.set_log_level(\"info\");\n",
       "    },\n",
       "    function(Bokeh) {\n",
       "    \n",
       "    \n",
       "    }\n",
       "  ];\n",
       "\n",
       "  function run_inline_js() {\n",
       "    \n",
       "    if (root.Bokeh !== undefined || force === true) {\n",
       "      \n",
       "    for (var i = 0; i < inline_js.length; i++) {\n",
       "      inline_js[i].call(root, root.Bokeh);\n",
       "    }\n",
       "    if (force === true) {\n",
       "        display_loaded();\n",
       "      }} else if (Date.now() < root._bokeh_timeout) {\n",
       "      setTimeout(run_inline_js, 100);\n",
       "    } else if (!root._bokeh_failed_load) {\n",
       "      console.log(\"Bokeh: BokehJS failed to load within specified timeout.\");\n",
       "      root._bokeh_failed_load = true;\n",
       "    } else if (force !== true) {\n",
       "      var cell = $(document.getElementById(\"1001\")).parents('.cell').data().cell;\n",
       "      cell.output_area.append_execute_result(NB_LOAD_WARNING)\n",
       "    }\n",
       "\n",
       "  }\n",
       "\n",
       "  if (root._bokeh_is_loading === 0) {\n",
       "    console.debug(\"Bokeh: BokehJS loaded, going straight to plotting\");\n",
       "    run_inline_js();\n",
       "  } else {\n",
       "    load_libs(css_urls, js_urls, function() {\n",
       "      console.debug(\"Bokeh: BokehJS plotting callback run at\", now());\n",
       "      run_inline_js();\n",
       "    });\n",
       "  }\n",
       "}(window));"
      ],
      "application/vnd.bokehjs_load.v0+json": "\n(function(root) {\n  function now() {\n    return new Date();\n  }\n\n  var force = true;\n\n  if (typeof root._bokeh_onload_callbacks === \"undefined\" || force === true) {\n    root._bokeh_onload_callbacks = [];\n    root._bokeh_is_loading = undefined;\n  }\n\n  \n\n  \n  if (typeof (root._bokeh_timeout) === \"undefined\" || force === true) {\n    root._bokeh_timeout = Date.now() + 5000;\n    root._bokeh_failed_load = false;\n  }\n\n  var NB_LOAD_WARNING = {'data': {'text/html':\n     \"<div style='background-color: #fdd'>\\n\"+\n     \"<p>\\n\"+\n     \"BokehJS does not appear to have successfully loaded. If loading BokehJS from CDN, this \\n\"+\n     \"may be due to a slow or bad network connection. Possible fixes:\\n\"+\n     \"</p>\\n\"+\n     \"<ul>\\n\"+\n     \"<li>re-rerun `output_notebook()` to attempt to load from CDN again, or</li>\\n\"+\n     \"<li>use INLINE resources instead, as so:</li>\\n\"+\n     \"</ul>\\n\"+\n     \"<code>\\n\"+\n     \"from bokeh.resources import INLINE\\n\"+\n     \"output_notebook(resources=INLINE)\\n\"+\n     \"</code>\\n\"+\n     \"</div>\"}};\n\n  function display_loaded() {\n    var el = document.getElementById(\"1001\");\n    if (el != null) {\n      el.textContent = \"BokehJS is loading...\";\n    }\n    if (root.Bokeh !== undefined) {\n      if (el != null) {\n        el.textContent = \"BokehJS \" + root.Bokeh.version + \" successfully loaded.\";\n      }\n    } else if (Date.now() < root._bokeh_timeout) {\n      setTimeout(display_loaded, 100)\n    }\n  }\n\n\n  function run_callbacks() {\n    try {\n      root._bokeh_onload_callbacks.forEach(function(callback) {\n        if (callback != null)\n          callback();\n      });\n    } finally {\n      delete root._bokeh_onload_callbacks\n    }\n    console.debug(\"Bokeh: all callbacks have finished\");\n  }\n\n  function load_libs(css_urls, js_urls, callback) {\n    if (css_urls == null) css_urls = [];\n    if (js_urls == null) js_urls = [];\n\n    root._bokeh_onload_callbacks.push(callback);\n    if (root._bokeh_is_loading > 0) {\n      console.debug(\"Bokeh: BokehJS is being loaded, scheduling callback at\", now());\n      return null;\n    }\n    if (js_urls == null || js_urls.length === 0) {\n      run_callbacks();\n      return null;\n    }\n    console.debug(\"Bokeh: BokehJS not loaded, scheduling load and callback at\", now());\n    root._bokeh_is_loading = css_urls.length + js_urls.length;\n\n    function on_load() {\n      root._bokeh_is_loading--;\n      if (root._bokeh_is_loading === 0) {\n        console.debug(\"Bokeh: all BokehJS libraries/stylesheets loaded\");\n        run_callbacks()\n      }\n    }\n\n    function on_error() {\n      console.error(\"failed to load \" + url);\n    }\n\n    for (var i = 0; i < css_urls.length; i++) {\n      var url = css_urls[i];\n      const element = document.createElement(\"link\");\n      element.onload = on_load;\n      element.onerror = on_error;\n      element.rel = \"stylesheet\";\n      element.type = \"text/css\";\n      element.href = url;\n      console.debug(\"Bokeh: injecting link tag for BokehJS stylesheet: \", url);\n      document.body.appendChild(element);\n    }\n\n    for (var i = 0; i < js_urls.length; i++) {\n      var url = js_urls[i];\n      var element = document.createElement('script');\n      element.onload = on_load;\n      element.onerror = on_error;\n      element.async = false;\n      element.src = url;\n      console.debug(\"Bokeh: injecting script tag for BokehJS library: \", url);\n      document.head.appendChild(element);\n    }\n  };var element = document.getElementById(\"1001\");\n  if (element == null) {\n    console.error(\"Bokeh: ERROR: autoload.js configured with elementid '1001' but no matching script tag was found. \")\n    return false;\n  }\n\n  function inject_raw_css(css) {\n    const element = document.createElement(\"style\");\n    element.appendChild(document.createTextNode(css));\n    document.body.appendChild(element);\n  }\n\n  \n  var js_urls = [\"https://cdn.pydata.org/bokeh/release/bokeh-1.4.0.min.js\", \"https://cdn.pydata.org/bokeh/release/bokeh-widgets-1.4.0.min.js\", \"https://cdn.pydata.org/bokeh/release/bokeh-tables-1.4.0.min.js\", \"https://cdn.pydata.org/bokeh/release/bokeh-gl-1.4.0.min.js\"];\n  var css_urls = [];\n  \n\n  var inline_js = [\n    function(Bokeh) {\n      Bokeh.set_log_level(\"info\");\n    },\n    function(Bokeh) {\n    \n    \n    }\n  ];\n\n  function run_inline_js() {\n    \n    if (root.Bokeh !== undefined || force === true) {\n      \n    for (var i = 0; i < inline_js.length; i++) {\n      inline_js[i].call(root, root.Bokeh);\n    }\n    if (force === true) {\n        display_loaded();\n      }} else if (Date.now() < root._bokeh_timeout) {\n      setTimeout(run_inline_js, 100);\n    } else if (!root._bokeh_failed_load) {\n      console.log(\"Bokeh: BokehJS failed to load within specified timeout.\");\n      root._bokeh_failed_load = true;\n    } else if (force !== true) {\n      var cell = $(document.getElementById(\"1001\")).parents('.cell').data().cell;\n      cell.output_area.append_execute_result(NB_LOAD_WARNING)\n    }\n\n  }\n\n  if (root._bokeh_is_loading === 0) {\n    console.debug(\"Bokeh: BokehJS loaded, going straight to plotting\");\n    run_inline_js();\n  } else {\n    load_libs(css_urls, js_urls, function() {\n      console.debug(\"Bokeh: BokehJS plotting callback run at\", now());\n      run_inline_js();\n    });\n  }\n}(window));"
     },
     "metadata": {},
     "output_type": "display_data"
    },
    {
     "name": "stderr",
     "output_type": "stream",
     "text": [
      "C:\\Users\\halapets\\AppData\\Local\\Continuum\\anaconda3\\lib\\site-packages\\ipykernel_launcher.py:13: DeprecationWarning: Call to deprecated `__getitem__` (Method will be removed in 4.0.0, use self.wv.__getitem__() instead).\n",
      "  del sys.path[0]\n"
     ]
    },
    {
     "name": "stdout",
     "output_type": "stream",
     "text": [
      "[t-SNE] Computing 91 nearest neighbors...\n",
      "[t-SNE] Indexed 5000 samples in 0.482s...\n",
      "[t-SNE] Computed neighbors for 5000 samples in 20.580s...\n",
      "[t-SNE] Computed conditional probabilities for sample 1000 / 5000\n",
      "[t-SNE] Computed conditional probabilities for sample 2000 / 5000\n",
      "[t-SNE] Computed conditional probabilities for sample 3000 / 5000\n",
      "[t-SNE] Computed conditional probabilities for sample 4000 / 5000\n",
      "[t-SNE] Computed conditional probabilities for sample 5000 / 5000\n",
      "[t-SNE] Mean sigma: 2.141548\n",
      "[t-SNE] KL divergence after 250 iterations with early exaggeration: 85.209152\n",
      "[t-SNE] KL divergence after 1000 iterations: 3.208993\n"
     ]
    },
    {
     "data": {
      "text/html": [
       "\n",
       "\n",
       "\n",
       "\n",
       "\n",
       "\n",
       "  <div class=\"bk-root\" id=\"beb03b69-fe81-40c6-9a7a-059d920ecd3e\" data-root-id=\"1002\"></div>\n"
      ]
     },
     "metadata": {},
     "output_type": "display_data"
    },
    {
     "data": {
      "application/javascript": [
       "(function(root) {\n",
       "  function embed_document(root) {\n",
       "    \n",
       "  var docs_json = {\"0d38aaef-5c0c-4784-b9bc-0dc2a22bd3a5\":{\"roots\":{\"references\":[{\"attributes\":{\"min_border\":1,\"plot_width\":700,\"renderers\":[{\"id\":\"1030\",\"type\":\"GlyphRenderer\"}],\"title\":{\"id\":\"1003\",\"type\":\"Title\"},\"toolbar\":{\"id\":\"1019\",\"type\":\"Toolbar\"},\"x_range\":{\"id\":\"1005\",\"type\":\"DataRange1d\"},\"x_scale\":{\"id\":\"1009\",\"type\":\"LinearScale\"},\"y_range\":{\"id\":\"1007\",\"type\":\"DataRange1d\"},\"y_scale\":{\"id\":\"1011\",\"type\":\"LinearScale\"}},\"id\":\"1002\",\"subtype\":\"Figure\",\"type\":\"Plot\"},{\"attributes\":{},\"id\":\"1018\",\"type\":\"SaveTool\"},{\"attributes\":{\"text\":\"A map/plot of 5000 word vectors\"},\"id\":\"1003\",\"type\":\"Title\"},{\"attributes\":{},\"id\":\"1011\",\"type\":\"LinearScale\"},{\"attributes\":{\"active_drag\":\"auto\",\"active_inspect\":\"auto\",\"active_multi\":null,\"active_scroll\":\"auto\",\"active_tap\":\"auto\",\"tools\":[{\"id\":\"1013\",\"type\":\"PanTool\"},{\"id\":\"1014\",\"type\":\"WheelZoomTool\"},{\"id\":\"1015\",\"type\":\"BoxZoomTool\"},{\"id\":\"1016\",\"type\":\"ResetTool\"},{\"id\":\"1017\",\"type\":\"HoverTool\"},{\"id\":\"1018\",\"type\":\"SaveTool\"}]},\"id\":\"1019\",\"type\":\"Toolbar\"},{\"attributes\":{\"source\":{\"id\":\"1026\",\"type\":\"ColumnDataSource\"}},\"id\":\"1031\",\"type\":\"CDSView\"},{\"attributes\":{\"data_source\":{\"id\":\"1026\",\"type\":\"ColumnDataSource\"},\"glyph\":{\"id\":\"1028\",\"type\":\"Scatter\"},\"hover_glyph\":null,\"muted_glyph\":null,\"nonselection_glyph\":{\"id\":\"1029\",\"type\":\"Scatter\"},\"selection_glyph\":null,\"view\":{\"id\":\"1031\",\"type\":\"CDSView\"}},\"id\":\"1030\",\"type\":\"GlyphRenderer\"},{\"attributes\":{},\"id\":\"1035\",\"type\":\"UnionRenderers\"},{\"attributes\":{},\"id\":\"1009\",\"type\":\"LinearScale\"},{\"attributes\":{\"fill_alpha\":{\"value\":0.1},\"fill_color\":{\"value\":\"#1f77b4\"},\"line_alpha\":{\"value\":0.1},\"line_color\":{\"value\":\"#1f77b4\"},\"x\":{\"field\":\"x\"},\"y\":{\"field\":\"y\"}},\"id\":\"1029\",\"type\":\"Scatter\"},{\"attributes\":{\"callback\":null},\"id\":\"1007\",\"type\":\"DataRange1d\"},{\"attributes\":{\"fill_color\":{\"value\":\"#1f77b4\"},\"line_color\":{\"value\":\"#1f77b4\"},\"x\":{\"field\":\"x\"},\"y\":{\"field\":\"y\"}},\"id\":\"1028\",\"type\":\"Scatter\"},{\"attributes\":{\"bottom_units\":\"screen\",\"fill_alpha\":{\"value\":0.5},\"fill_color\":{\"value\":\"lightgrey\"},\"left_units\":\"screen\",\"level\":\"overlay\",\"line_alpha\":{\"value\":1.0},\"line_color\":{\"value\":\"black\"},\"line_dash\":[4,4],\"line_width\":{\"value\":2},\"render_mode\":\"css\",\"right_units\":\"screen\",\"top_units\":\"screen\"},\"id\":\"1033\",\"type\":\"BoxAnnotation\"},{\"attributes\":{},\"id\":\"1013\",\"type\":\"PanTool\"},{\"attributes\":{\"callback\":null},\"id\":\"1005\",\"type\":\"DataRange1d\"},{\"attributes\":{},\"id\":\"1014\",\"type\":\"WheelZoomTool\"},{\"attributes\":{\"overlay\":{\"id\":\"1033\",\"type\":\"BoxAnnotation\"}},\"id\":\"1015\",\"type\":\"BoxZoomTool\"},{\"attributes\":{},\"id\":\"1016\",\"type\":\"ResetTool\"},{\"attributes\":{},\"id\":\"1034\",\"type\":\"Selection\"},{\"attributes\":{\"callback\":null,\"tooltips\":[[\"word\",\"@words\"]]},\"id\":\"1017\",\"type\":\"HoverTool\"},{\"attributes\":{\"callback\":null,\"data\":{\"index\":[0,1,2,3,4,5,6,7,8,9,10,11,12,13,14,15,16,17,18,19,20,21,22,23,24,25,26,27,28,29,30,31,32,33,34,35,36,37,38,39,40,41,42,43,44,45,46,47,48,49,50,51,52,53,54,55,56,57,58,59,60,61,62,63,64,65,66,67,68,69,70,71,72,73,74,75,76,77,78,79,80,81,82,83,84,85,86,87,88,89,90,91,92,93,94,95,96,97,98,99,100,101,102,103,104,105,106,107,108,109,110,111,112,113,114,115,116,117,118,119,120,121,122,123,124,125,126,127,128,129,130,131,132,133,134,135,136,137,138,139,140,141,142,143,144,145,146,147,148,149,150,151,152,153,154,155,156,157,158,159,160,161,162,163,164,165,166,167,168,169,170,171,172,173,174,175,176,177,178,179,180,181,182,183,184,185,186,187,188,189,190,191,192,193,194,195,196,197,198,199,200,201,202,203,204,205,206,207,208,209,210,211,212,213,214,215,216,217,218,219,220,221,222,223,224,225,226,227,228,229,230,231,232,233,234,235,236,237,238,239,240,241,242,243,244,245,246,247,248,249,250,251,252,253,254,255,256,257,258,259,260,261,262,263,264,265,266,267,268,269,270,271,272,273,274,275,276,277,278,279,280,281,282,283,284,285,286,287,288,289,290,291,292,293,294,295,296,297,298,299,300,301,302,303,304,305,306,307,308,309,310,311,312,313,314,315,316,317,318,319,320,321,322,323,324,325,326,327,328,329,330,331,332,333,334,335,336,337,338,339,340,341,342,343,344,345,346,347,348,349,350,351,352,353,354,355,356,357,358,359,360,361,362,363,364,365,366,367,368,369,370,371,372,373,374,375,376,377,378,379,380,381,382,383,384,385,386,387,388,389,390,391,392,393,394,395,396,397,398,399,400,401,402,403,404,405,406,407,408,409,410,411,412,413,414,415,416,417,418,419,420,421,422,423,424,425,426,427,428,429,430,431,432,433,434,435,436,437,438,439,440,441,442,443,444,445,446,447,448,449,450,451,452,453,454,455,456,457,458,459,460,461,462,463,464,465,466,467,468,469,470,471,472,473,474,475,476,477,478,479,480,481,482,483,484,485,486,487,488,489,490,491,492,493,494,495,496,497,498,499,500,501,502,503,504,505,506,507,508,509,510,511,512,513,514,515,516,517,518,519,520,521,522,523,524,525,526,527,528,529,530,531,532,533,534,535,536,537,538,539,540,541,542,543,544,545,546,547,548,549,550,551,552,553,554,555,556,557,558,559,560,561,562,563,564,565,566,567,568,569,570,571,572,573,574,575,576,577,578,579,580,581,582,583,584,585,586,587,588,589,590,591,592,593,594,595,596,597,598,599,600,601,602,603,604,605,606,607,608,609,610,611,612,613,614,615,616,617,618,619,620,621,622,623,624,625,626,627,628,629,630,631,632,633,634,635,636,637,638,639,640,641,642,643,644,645,646,647,648,649,650,651,652,653,654,655,656,657,658,659,660,661,662,663,664,665,666,667,668,669,670,671,672,673,674,675,676,677,678,679,680,681,682,683,684,685,686,687,688,689,690,691,692,693,694,695,696,697,698,699,700,701,702,703,704,705,706,707,708,709,710,711,712,713,714,715,716,717,718,719,720,721,722,723,724,725,726,727,728,729,730,731,732,733,734,735,736,737,738,739,740,741,742,743,744,745,746,747,748,749,750,751,752,753,754,755,756,757,758,759,760,761,762,763,764,765,766,767,768,769,770,771,772,773,774,775,776,777,778,779,780,781,782,783,784,785,786,787,788,789,790,791,792,793,794,795,796,797,798,799,800,801,802,803,804,805,806,807,808,809,810,811,812,813,814,815,816,817,818,819,820,821,822,823,824,825,826,827,828,829,830,831,832,833,834,835,836,837,838,839,840,841,842,843,844,845,846,847,848,849,850,851,852,853,854,855,856,857,858,859,860,861,862,863,864,865,866,867,868,869,870,871,872,873,874,875,876,877,878,879,880,881,882,883,884,885,886,887,888,889,890,891,892,893,894,895,896,897,898,899,900,901,902,903,904,905,906,907,908,909,910,911,912,913,914,915,916,917,918,919,920,921,922,923,924,925,926,927,928,929,930,931,932,933,934,935,936,937,938,939,940,941,942,943,944,945,946,947,948,949,950,951,952,953,954,955,956,957,958,959,960,961,962,963,964,965,966,967,968,969,970,971,972,973,974,975,976,977,978,979,980,981,982,983,984,985,986,987,988,989,990,991,992,993,994,995,996,997,998,999,1000,1001,1002,1003,1004,1005,1006,1007,1008,1009,1010,1011,1012,1013,1014,1015,1016,1017,1018,1019,1020,1021,1022,1023,1024,1025,1026,1027,1028,1029,1030,1031,1032,1033,1034,1035,1036,1037,1038,1039,1040,1041,1042,1043,1044,1045,1046,1047,1048,1049,1050,1051,1052,1053,1054,1055,1056,1057,1058,1059,1060,1061,1062,1063,1064,1065,1066,1067,1068,1069,1070,1071,1072,1073,1074,1075,1076,1077,1078,1079,1080,1081,1082,1083,1084,1085,1086,1087,1088,1089,1090,1091,1092,1093,1094,1095,1096,1097,1098,1099,1100,1101,1102,1103,1104,1105,1106,1107,1108,1109,1110,1111,1112,1113,1114,1115,1116,1117,1118,1119,1120,1121,1122,1123,1124,1125,1126,1127,1128,1129,1130,1131,1132,1133,1134,1135,1136,1137,1138,1139,1140,1141,1142,1143,1144,1145,1146,1147,1148,1149,1150,1151,1152,1153,1154,1155,1156,1157,1158,1159,1160,1161,1162,1163,1164,1165,1166,1167,1168,1169,1170,1171,1172,1173,1174,1175,1176,1177,1178,1179,1180,1181,1182,1183,1184,1185,1186,1187,1188,1189,1190,1191,1192,1193,1194,1195,1196,1197,1198,1199,1200,1201,1202,1203,1204,1205,1206,1207,1208,1209,1210,1211,1212,1213,1214,1215,1216,1217,1218,1219,1220,1221,1222,1223,1224,1225,1226,1227,1228,1229,1230,1231,1232,1233,1234,1235,1236,1237,1238,1239,1240,1241,1242,1243,1244,1245,1246,1247,1248,1249,1250,1251,1252,1253,1254,1255,1256,1257,1258,1259,1260,1261,1262,1263,1264,1265,1266,1267,1268,1269,1270,1271,1272,1273,1274,1275,1276,1277,1278,1279,1280,1281,1282,1283,1284,1285,1286,1287,1288,1289,1290,1291,1292,1293,1294,1295,1296,1297,1298,1299,1300,1301,1302,1303,1304,1305,1306,1307,1308,1309,1310,1311,1312,1313,1314,1315,1316,1317,1318,1319,1320,1321,1322,1323,1324,1325,1326,1327,1328,1329,1330,1331,1332,1333,1334,1335,1336,1337,1338,1339,1340,1341,1342,1343,1344,1345,1346,1347,1348,1349,1350,1351,1352,1353,1354,1355,1356,1357,1358,1359,1360,1361,1362,1363,1364,1365,1366,1367,1368,1369,1370,1371,1372,1373,1374,1375,1376,1377,1378,1379,1380,1381,1382,1383,1384,1385,1386,1387,1388,1389,1390,1391,1392,1393,1394,1395,1396,1397,1398,1399,1400,1401,1402,1403,1404,1405,1406,1407,1408,1409,1410,1411,1412,1413,1414,1415,1416,1417,1418,1419,1420,1421,1422,1423,1424,1425,1426,1427,1428,1429,1430,1431,1432,1433,1434,1435,1436,1437,1438,1439,1440,1441,1442,1443,1444,1445,1446,1447,1448,1449,1450,1451,1452,1453,1454,1455,1456,1457,1458,1459,1460,1461,1462,1463,1464,1465,1466,1467,1468,1469,1470,1471,1472,1473,1474,1475,1476,1477,1478,1479,1480,1481,1482,1483,1484,1485,1486,1487,1488,1489,1490,1491,1492,1493,1494,1495,1496,1497,1498,1499,1500,1501,1502,1503,1504,1505,1506,1507,1508,1509,1510,1511,1512,1513,1514,1515,1516,1517,1518,1519,1520,1521,1522,1523,1524,1525,1526,1527,1528,1529,1530,1531,1532,1533,1534,1535,1536,1537,1538,1539,1540,1541,1542,1543,1544,1545,1546,1547,1548,1549,1550,1551,1552,1553,1554,1555,1556,1557,1558,1559,1560,1561,1562,1563,1564,1565,1566,1567,1568,1569,1570,1571,1572,1573,1574,1575,1576,1577,1578,1579,1580,1581,1582,1583,1584,1585,1586,1587,1588,1589,1590,1591,1592,1593,1594,1595,1596,1597,1598,1599,1600,1601,1602,1603,1604,1605,1606,1607,1608,1609,1610,1611,1612,1613,1614,1615,1616,1617,1618,1619,1620,1621,1622,1623,1624,1625,1626,1627,1628,1629,1630,1631,1632,1633,1634,1635,1636,1637,1638,1639,1640,1641,1642,1643,1644,1645,1646,1647,1648,1649,1650,1651,1652,1653,1654,1655,1656,1657,1658,1659,1660,1661,1662,1663,1664,1665,1666,1667,1668,1669,1670,1671,1672,1673,1674,1675,1676,1677,1678,1679,1680,1681,1682,1683,1684,1685,1686,1687,1688,1689,1690,1691,1692,1693,1694,1695,1696,1697,1698,1699,1700,1701,1702,1703,1704,1705,1706,1707,1708,1709,1710,1711,1712,1713,1714,1715,1716,1717,1718,1719,1720,1721,1722,1723,1724,1725,1726,1727,1728,1729,1730,1731,1732,1733,1734,1735,1736,1737,1738,1739,1740,1741,1742,1743,1744,1745,1746,1747,1748,1749,1750,1751,1752,1753,1754,1755,1756,1757,1758,1759,1760,1761,1762,1763,1764,1765,1766,1767,1768,1769,1770,1771,1772,1773,1774,1775,1776,1777,1778,1779,1780,1781,1782,1783,1784,1785,1786,1787,1788,1789,1790,1791,1792,1793,1794,1795,1796,1797,1798,1799,1800,1801,1802,1803,1804,1805,1806,1807,1808,1809,1810,1811,1812,1813,1814,1815,1816,1817,1818,1819,1820,1821,1822,1823,1824,1825,1826,1827,1828,1829,1830,1831,1832,1833,1834,1835,1836,1837,1838,1839,1840,1841,1842,1843,1844,1845,1846,1847,1848,1849,1850,1851,1852,1853,1854,1855,1856,1857,1858,1859,1860,1861,1862,1863,1864,1865,1866,1867,1868,1869,1870,1871,1872,1873,1874,1875,1876,1877,1878,1879,1880,1881,1882,1883,1884,1885,1886,1887,1888,1889,1890,1891,1892,1893,1894,1895,1896,1897,1898,1899,1900,1901,1902,1903,1904,1905,1906,1907,1908,1909,1910,1911,1912,1913,1914,1915,1916,1917,1918,1919,1920,1921,1922,1923,1924,1925,1926,1927,1928,1929,1930,1931,1932,1933,1934,1935,1936,1937,1938,1939,1940,1941,1942,1943,1944,1945,1946,1947,1948,1949,1950,1951,1952,1953,1954,1955,1956,1957,1958,1959,1960,1961,1962,1963,1964,1965,1966,1967,1968,1969,1970,1971,1972,1973,1974,1975,1976,1977,1978,1979,1980,1981,1982,1983,1984,1985,1986,1987,1988,1989,1990,1991,1992,1993,1994,1995,1996,1997,1998,1999,2000,2001,2002,2003,2004,2005,2006,2007,2008,2009,2010,2011,2012,2013,2014,2015,2016,2017,2018,2019,2020,2021,2022,2023,2024,2025,2026,2027,2028,2029,2030,2031,2032,2033,2034,2035,2036,2037,2038,2039,2040,2041,2042,2043,2044,2045,2046,2047,2048,2049,2050,2051,2052,2053,2054,2055,2056,2057,2058,2059,2060,2061,2062,2063,2064,2065,2066,2067,2068,2069,2070,2071,2072,2073,2074,2075,2076,2077,2078,2079,2080,2081,2082,2083,2084,2085,2086,2087,2088,2089,2090,2091,2092,2093,2094,2095,2096,2097,2098,2099,2100,2101,2102,2103,2104,2105,2106,2107,2108,2109,2110,2111,2112,2113,2114,2115,2116,2117,2118,2119,2120,2121,2122,2123,2124,2125,2126,2127,2128,2129,2130,2131,2132,2133,2134,2135,2136,2137,2138,2139,2140,2141,2142,2143,2144,2145,2146,2147,2148,2149,2150,2151,2152,2153,2154,2155,2156,2157,2158,2159,2160,2161,2162,2163,2164,2165,2166,2167,2168,2169,2170,2171,2172,2173,2174,2175,2176,2177,2178,2179,2180,2181,2182,2183,2184,2185,2186,2187,2188,2189,2190,2191,2192,2193,2194,2195,2196,2197,2198,2199,2200,2201,2202,2203,2204,2205,2206,2207,2208,2209,2210,2211,2212,2213,2214,2215,2216,2217,2218,2219,2220,2221,2222,2223,2224,2225,2226,2227,2228,2229,2230,2231,2232,2233,2234,2235,2236,2237,2238,2239,2240,2241,2242,2243,2244,2245,2246,2247,2248,2249,2250,2251,2252,2253,2254,2255,2256,2257,2258,2259,2260,2261,2262,2263,2264,2265,2266,2267,2268,2269,2270,2271,2272,2273,2274,2275,2276,2277,2278,2279,2280,2281,2282,2283,2284,2285,2286,2287,2288,2289,2290,2291,2292,2293,2294,2295,2296,2297,2298,2299,2300,2301,2302,2303,2304,2305,2306,2307,2308,2309,2310,2311,2312,2313,2314,2315,2316,2317,2318,2319,2320,2321,2322,2323,2324,2325,2326,2327,2328,2329,2330,2331,2332,2333,2334,2335,2336,2337,2338,2339,2340,2341,2342,2343,2344,2345,2346,2347,2348,2349,2350,2351,2352,2353,2354,2355,2356,2357,2358,2359,2360,2361,2362,2363,2364,2365,2366,2367,2368,2369,2370,2371,2372,2373,2374,2375,2376,2377,2378,2379,2380,2381,2382,2383,2384,2385,2386,2387,2388,2389,2390,2391,2392,2393,2394,2395,2396,2397,2398,2399,2400,2401,2402,2403,2404,2405,2406,2407,2408,2409,2410,2411,2412,2413,2414,2415,2416,2417,2418,2419,2420,2421,2422,2423,2424,2425,2426,2427,2428,2429,2430,2431,2432,2433,2434,2435,2436,2437,2438,2439,2440,2441,2442,2443,2444,2445,2446,2447,2448,2449,2450,2451,2452,2453,2454,2455,2456,2457,2458,2459,2460,2461,2462,2463,2464,2465,2466,2467,2468,2469,2470,2471,2472,2473,2474,2475,2476,2477,2478,2479,2480,2481,2482,2483,2484,2485,2486,2487,2488,2489,2490,2491,2492,2493,2494,2495,2496,2497,2498,2499,2500,2501,2502,2503,2504,2505,2506,2507,2508,2509,2510,2511,2512,2513,2514,2515,2516,2517,2518,2519,2520,2521,2522,2523,2524,2525,2526,2527,2528,2529,2530,2531,2532,2533,2534,2535,2536,2537,2538,2539,2540,2541,2542,2543,2544,2545,2546,2547,2548,2549,2550,2551,2552,2553,2554,2555,2556,2557,2558,2559,2560,2561,2562,2563,2564,2565,2566,2567,2568,2569,2570,2571,2572,2573,2574,2575,2576,2577,2578,2579,2580,2581,2582,2583,2584,2585,2586,2587,2588,2589,2590,2591,2592,2593,2594,2595,2596,2597,2598,2599,2600,2601,2602,2603,2604,2605,2606,2607,2608,2609,2610,2611,2612,2613,2614,2615,2616,2617,2618,2619,2620,2621,2622,2623,2624,2625,2626,2627,2628,2629,2630,2631,2632,2633,2634,2635,2636,2637,2638,2639,2640,2641,2642,2643,2644,2645,2646,2647,2648,2649,2650,2651,2652,2653,2654,2655,2656,2657,2658,2659,2660,2661,2662,2663,2664,2665,2666,2667,2668,2669,2670,2671,2672,2673,2674,2675,2676,2677,2678,2679,2680,2681,2682,2683,2684,2685,2686,2687,2688,2689,2690,2691,2692,2693,2694,2695,2696,2697,2698,2699,2700,2701,2702,2703,2704,2705,2706,2707,2708,2709,2710,2711,2712,2713,2714,2715,2716,2717,2718,2719,2720,2721,2722,2723,2724,2725,2726,2727,2728,2729,2730,2731,2732,2733,2734,2735,2736,2737,2738,2739,2740,2741,2742,2743,2744,2745,2746,2747,2748,2749,2750,2751,2752,2753,2754,2755,2756,2757,2758,2759,2760,2761,2762,2763,2764,2765,2766,2767,2768,2769,2770,2771,2772,2773,2774,2775,2776,2777,2778,2779,2780,2781,2782,2783,2784,2785,2786,2787,2788,2789,2790,2791,2792,2793,2794,2795,2796,2797,2798,2799,2800,2801,2802,2803,2804,2805,2806,2807,2808,2809,2810,2811,2812,2813,2814,2815,2816,2817,2818,2819,2820,2821,2822,2823,2824,2825,2826,2827,2828,2829,2830,2831,2832,2833,2834,2835,2836,2837,2838,2839,2840,2841,2842,2843,2844,2845,2846,2847,2848,2849,2850,2851,2852,2853,2854,2855,2856,2857,2858,2859,2860,2861,2862,2863,2864,2865,2866,2867,2868,2869,2870,2871,2872,2873,2874,2875,2876,2877,2878,2879,2880,2881,2882,2883,2884,2885,2886,2887,2888,2889,2890,2891,2892,2893,2894,2895,2896,2897,2898,2899,2900,2901,2902,2903,2904,2905,2906,2907,2908,2909,2910,2911,2912,2913,2914,2915,2916,2917,2918,2919,2920,2921,2922,2923,2924,2925,2926,2927,2928,2929,2930,2931,2932,2933,2934,2935,2936,2937,2938,2939,2940,2941,2942,2943,2944,2945,2946,2947,2948,2949,2950,2951,2952,2953,2954,2955,2956,2957,2958,2959,2960,2961,2962,2963,2964,2965,2966,2967,2968,2969,2970,2971,2972,2973,2974,2975,2976,2977,2978,2979,2980,2981,2982,2983,2984,2985,2986,2987,2988,2989,2990,2991,2992,2993,2994,2995,2996,2997,2998,2999,3000,3001,3002,3003,3004,3005,3006,3007,3008,3009,3010,3011,3012,3013,3014,3015,3016,3017,3018,3019,3020,3021,3022,3023,3024,3025,3026,3027,3028,3029,3030,3031,3032,3033,3034,3035,3036,3037,3038,3039,3040,3041,3042,3043,3044,3045,3046,3047,3048,3049,3050,3051,3052,3053,3054,3055,3056,3057,3058,3059,3060,3061,3062,3063,3064,3065,3066,3067,3068,3069,3070,3071,3072,3073,3074,3075,3076,3077,3078,3079,3080,3081,3082,3083,3084,3085,3086,3087,3088,3089,3090,3091,3092,3093,3094,3095,3096,3097,3098,3099,3100,3101,3102,3103,3104,3105,3106,3107,3108,3109,3110,3111,3112,3113,3114,3115,3116,3117,3118,3119,3120,3121,3122,3123,3124,3125,3126,3127,3128,3129,3130,3131,3132,3133,3134,3135,3136,3137,3138,3139,3140,3141,3142,3143,3144,3145,3146,3147,3148,3149,3150,3151,3152,3153,3154,3155,3156,3157,3158,3159,3160,3161,3162,3163,3164,3165,3166,3167,3168,3169,3170,3171,3172,3173,3174,3175,3176,3177,3178,3179,3180,3181,3182,3183,3184,3185,3186,3187,3188,3189,3190,3191,3192,3193,3194,3195,3196,3197,3198,3199,3200,3201,3202,3203,3204,3205,3206,3207,3208,3209,3210,3211,3212,3213,3214,3215,3216,3217,3218,3219,3220,3221,3222,3223,3224,3225,3226,3227,3228,3229,3230,3231,3232,3233,3234,3235,3236,3237,3238,3239,3240,3241,3242,3243,3244,3245,3246,3247,3248,3249,3250,3251,3252,3253,3254,3255,3256,3257,3258,3259,3260,3261,3262,3263,3264,3265,3266,3267,3268,3269,3270,3271,3272,3273,3274,3275,3276,3277,3278,3279,3280,3281,3282,3283,3284,3285,3286,3287,3288,3289,3290,3291,3292,3293,3294,3295,3296,3297,3298,3299,3300,3301,3302,3303,3304,3305,3306,3307,3308,3309,3310,3311,3312,3313,3314,3315,3316,3317,3318,3319,3320,3321,3322,3323,3324,3325,3326,3327,3328,3329,3330,3331,3332,3333,3334,3335,3336,3337,3338,3339,3340,3341,3342,3343,3344,3345,3346,3347,3348,3349,3350,3351,3352,3353,3354,3355,3356,3357,3358,3359,3360,3361,3362,3363,3364,3365,3366,3367,3368,3369,3370,3371,3372,3373,3374,3375,3376,3377,3378,3379,3380,3381,3382,3383,3384,3385,3386,3387,3388,3389,3390,3391,3392,3393,3394,3395,3396,3397,3398,3399,3400,3401,3402,3403,3404,3405,3406,3407,3408,3409,3410,3411,3412,3413,3414,3415,3416,3417,3418,3419,3420,3421,3422,3423,3424,3425,3426,3427,3428,3429,3430,3431,3432,3433,3434,3435,3436,3437,3438,3439,3440,3441,3442,3443,3444,3445,3446,3447,3448,3449,3450,3451,3452,3453,3454,3455,3456,3457,3458,3459,3460,3461,3462,3463,3464,3465,3466,3467,3468,3469,3470,3471,3472,3473,3474,3475,3476,3477,3478,3479,3480,3481,3482,3483,3484,3485,3486,3487,3488,3489,3490,3491,3492,3493,3494,3495,3496,3497,3498,3499,3500,3501,3502,3503,3504,3505,3506,3507,3508,3509,3510,3511,3512,3513,3514,3515,3516,3517,3518,3519,3520,3521,3522,3523,3524,3525,3526,3527,3528,3529,3530,3531,3532,3533,3534,3535,3536,3537,3538,3539,3540,3541,3542,3543,3544,3545,3546,3547,3548,3549,3550,3551,3552,3553,3554,3555,3556,3557,3558,3559,3560,3561,3562,3563,3564,3565,3566,3567,3568,3569,3570,3571,3572,3573,3574,3575,3576,3577,3578,3579,3580,3581,3582,3583,3584,3585,3586,3587,3588,3589,3590,3591,3592,3593,3594,3595,3596,3597,3598,3599,3600,3601,3602,3603,3604,3605,3606,3607,3608,3609,3610,3611,3612,3613,3614,3615,3616,3617,3618,3619,3620,3621,3622,3623,3624,3625,3626,3627,3628,3629,3630,3631,3632,3633,3634,3635,3636,3637,3638,3639,3640,3641,3642,3643,3644,3645,3646,3647,3648,3649,3650,3651,3652,3653,3654,3655,3656,3657,3658,3659,3660,3661,3662,3663,3664,3665,3666,3667,3668,3669,3670,3671,3672,3673,3674,3675,3676,3677,3678,3679,3680,3681,3682,3683,3684,3685,3686,3687,3688,3689,3690,3691,3692,3693,3694,3695,3696,3697,3698,3699,3700,3701,3702,3703,3704,3705,3706,3707,3708,3709,3710,3711,3712,3713,3714,3715,3716,3717,3718,3719,3720,3721,3722,3723,3724,3725,3726,3727,3728,3729,3730,3731,3732,3733,3734,3735,3736,3737,3738,3739,3740,3741,3742,3743,3744,3745,3746,3747,3748,3749,3750,3751,3752,3753,3754,3755,3756,3757,3758,3759,3760,3761,3762,3763,3764,3765,3766,3767,3768,3769,3770,3771,3772,3773,3774,3775,3776,3777,3778,3779,3780,3781,3782,3783,3784,3785,3786,3787,3788,3789,3790,3791,3792,3793,3794,3795,3796,3797,3798,3799,3800,3801,3802,3803,3804,3805,3806,3807,3808,3809,3810,3811,3812,3813,3814,3815,3816,3817,3818,3819,3820,3821,3822,3823,3824,3825,3826,3827,3828,3829,3830,3831,3832,3833,3834,3835,3836,3837,3838,3839,3840,3841,3842,3843,3844,3845,3846,3847,3848,3849,3850,3851,3852,3853,3854,3855,3856,3857,3858,3859,3860,3861,3862,3863,3864,3865,3866,3867,3868,3869,3870,3871,3872,3873,3874,3875,3876,3877,3878,3879,3880,3881,3882,3883,3884,3885,3886,3887,3888,3889,3890,3891,3892,3893,3894,3895,3896,3897,3898,3899,3900,3901,3902,3903,3904,3905,3906,3907,3908,3909,3910,3911,3912,3913,3914,3915,3916,3917,3918,3919,3920,3921,3922,3923,3924,3925,3926,3927,3928,3929,3930,3931,3932,3933,3934,3935,3936,3937,3938,3939,3940,3941,3942,3943,3944,3945,3946,3947,3948,3949,3950,3951,3952,3953,3954,3955,3956,3957,3958,3959,3960,3961,3962,3963,3964,3965,3966,3967,3968,3969,3970,3971,3972,3973,3974,3975,3976,3977,3978,3979,3980,3981,3982,3983,3984,3985,3986,3987,3988,3989,3990,3991,3992,3993,3994,3995,3996,3997,3998,3999,4000,4001,4002,4003,4004,4005,4006,4007,4008,4009,4010,4011,4012,4013,4014,4015,4016,4017,4018,4019,4020,4021,4022,4023,4024,4025,4026,4027,4028,4029,4030,4031,4032,4033,4034,4035,4036,4037,4038,4039,4040,4041,4042,4043,4044,4045,4046,4047,4048,4049,4050,4051,4052,4053,4054,4055,4056,4057,4058,4059,4060,4061,4062,4063,4064,4065,4066,4067,4068,4069,4070,4071,4072,4073,4074,4075,4076,4077,4078,4079,4080,4081,4082,4083,4084,4085,4086,4087,4088,4089,4090,4091,4092,4093,4094,4095,4096,4097,4098,4099,4100,4101,4102,4103,4104,4105,4106,4107,4108,4109,4110,4111,4112,4113,4114,4115,4116,4117,4118,4119,4120,4121,4122,4123,4124,4125,4126,4127,4128,4129,4130,4131,4132,4133,4134,4135,4136,4137,4138,4139,4140,4141,4142,4143,4144,4145,4146,4147,4148,4149,4150,4151,4152,4153,4154,4155,4156,4157,4158,4159,4160,4161,4162,4163,4164,4165,4166,4167,4168,4169,4170,4171,4172,4173,4174,4175,4176,4177,4178,4179,4180,4181,4182,4183,4184,4185,4186,4187,4188,4189,4190,4191,4192,4193,4194,4195,4196,4197,4198,4199,4200,4201,4202,4203,4204,4205,4206,4207,4208,4209,4210,4211,4212,4213,4214,4215,4216,4217,4218,4219,4220,4221,4222,4223,4224,4225,4226,4227,4228,4229,4230,4231,4232,4233,4234,4235,4236,4237,4238,4239,4240,4241,4242,4243,4244,4245,4246,4247,4248,4249,4250,4251,4252,4253,4254,4255,4256,4257,4258,4259,4260,4261,4262,4263,4264,4265,4266,4267,4268,4269,4270,4271,4272,4273,4274,4275,4276,4277,4278,4279,4280,4281,4282,4283,4284,4285,4286,4287,4288,4289,4290,4291,4292,4293,4294,4295,4296,4297,4298,4299,4300,4301,4302,4303,4304,4305,4306,4307,4308,4309,4310,4311,4312,4313,4314,4315,4316,4317,4318,4319,4320,4321,4322,4323,4324,4325,4326,4327,4328,4329,4330,4331,4332,4333,4334,4335,4336,4337,4338,4339,4340,4341,4342,4343,4344,4345,4346,4347,4348,4349,4350,4351,4352,4353,4354,4355,4356,4357,4358,4359,4360,4361,4362,4363,4364,4365,4366,4367,4368,4369,4370,4371,4372,4373,4374,4375,4376,4377,4378,4379,4380,4381,4382,4383,4384,4385,4386,4387,4388,4389,4390,4391,4392,4393,4394,4395,4396,4397,4398,4399,4400,4401,4402,4403,4404,4405,4406,4407,4408,4409,4410,4411,4412,4413,4414,4415,4416,4417,4418,4419,4420,4421,4422,4423,4424,4425,4426,4427,4428,4429,4430,4431,4432,4433,4434,4435,4436,4437,4438,4439,4440,4441,4442,4443,4444,4445,4446,4447,4448,4449,4450,4451,4452,4453,4454,4455,4456,4457,4458,4459,4460,4461,4462,4463,4464,4465,4466,4467,4468,4469,4470,4471,4472,4473,4474,4475,4476,4477,4478,4479,4480,4481,4482,4483,4484,4485,4486,4487,4488,4489,4490,4491,4492,4493,4494,4495,4496,4497,4498,4499,4500,4501,4502,4503,4504,4505,4506,4507,4508,4509,4510,4511,4512,4513,4514,4515,4516,4517,4518,4519,4520,4521,4522,4523,4524,4525,4526,4527,4528,4529,4530,4531,4532,4533,4534,4535,4536,4537,4538,4539,4540,4541,4542,4543,4544,4545,4546,4547,4548,4549,4550,4551,4552,4553,4554,4555,4556,4557,4558,4559,4560,4561,4562,4563,4564,4565,4566,4567,4568,4569,4570,4571,4572,4573,4574,4575,4576,4577,4578,4579,4580,4581,4582,4583,4584,4585,4586,4587,4588,4589,4590,4591,4592,4593,4594,4595,4596,4597,4598,4599,4600,4601,4602,4603,4604,4605,4606,4607,4608,4609,4610,4611,4612,4613,4614,4615,4616,4617,4618,4619,4620,4621,4622,4623,4624,4625,4626,4627,4628,4629,4630,4631,4632,4633,4634,4635,4636,4637,4638,4639,4640,4641,4642,4643,4644,4645,4646,4647,4648,4649,4650,4651,4652,4653,4654,4655,4656,4657,4658,4659,4660,4661,4662,4663,4664,4665,4666,4667,4668,4669,4670,4671,4672,4673,4674,4675,4676,4677,4678,4679,4680,4681,4682,4683,4684,4685,4686,4687,4688,4689,4690,4691,4692,4693,4694,4695,4696,4697,4698,4699,4700,4701,4702,4703,4704,4705,4706,4707,4708,4709,4710,4711,4712,4713,4714,4715,4716,4717,4718,4719,4720,4721,4722,4723,4724,4725,4726,4727,4728,4729,4730,4731,4732,4733,4734,4735,4736,4737,4738,4739,4740,4741,4742,4743,4744,4745,4746,4747,4748,4749,4750,4751,4752,4753,4754,4755,4756,4757,4758,4759,4760,4761,4762,4763,4764,4765,4766,4767,4768,4769,4770,4771,4772,4773,4774,4775,4776,4777,4778,4779,4780,4781,4782,4783,4784,4785,4786,4787,4788,4789,4790,4791,4792,4793,4794,4795,4796,4797,4798,4799,4800,4801,4802,4803,4804,4805,4806,4807,4808,4809,4810,4811,4812,4813,4814,4815,4816,4817,4818,4819,4820,4821,4822,4823,4824,4825,4826,4827,4828,4829,4830,4831,4832,4833,4834,4835,4836,4837,4838,4839,4840,4841,4842,4843,4844,4845,4846,4847,4848,4849,4850,4851,4852,4853,4854,4855,4856,4857,4858,4859,4860,4861,4862,4863,4864,4865,4866,4867,4868,4869,4870,4871,4872,4873,4874,4875,4876,4877,4878,4879,4880,4881,4882,4883,4884,4885,4886,4887,4888,4889,4890,4891,4892,4893,4894,4895,4896,4897,4898,4899,4900,4901,4902,4903,4904,4905,4906,4907,4908,4909,4910,4911,4912,4913,4914,4915,4916,4917,4918,4919,4920,4921,4922,4923,4924,4925,4926,4927,4928,4929,4930,4931,4932,4933,4934,4935,4936,4937,4938,4939,4940,4941,4942,4943,4944,4945,4946,4947,4948,4949,4950,4951,4952,4953,4954,4955,4956,4957,4958,4959,4960,4961,4962,4963,4964,4965,4966,4967,4968,4969,4970,4971,4972,4973,4974,4975,4976,4977,4978,4979,4980,4981,4982,4983,4984,4985,4986,4987,4988,4989,4990,4991,4992,4993,4994,4995,4996,4997,4998,4999],\"words\":[\"yet\",\"another\",\"value\",\"money\",\"product\",\"xiaomi\",\"starting\",\"review\",\"want\",\"share\",\"important\",\"thing\",\"regarding\",\"bulk\",\"fake\",\"reviews\",\"phone\",\"flipkart\",\"com\",\"check\",\"recent\",\"childish\",\"definitely\",\"keep\",\"customers\",\"away\",\"bogus\",\"got\",\"clear\",\"idea\",\"geekyranjit\",\"awesome\",\"marvelous\",\"mobile\",\"go\",\"great\",\"looking\",\"mobilegreat\",\"battery\",\"backup4g\",\"dualsimapp\",\"lock\",\"photos\",\"taken\",\"using\",\"finger\",\"printlots\",\"customization\",\"gaming\",\"superb\",\"one\",\"best\",\"phones\",\"sound\",\"quality\",\"nice\",\"good\",\"power\",\"pack\",\"redmi\",\"note\",\"3\",\"know\",\"vast\",\"company\",\"make\",\"many\",\"products\",\"coming\",\"2\",\"models\",\"first\",\"16gb\",\"internal\",\"memory\",\"2gb\",\"ram\",\"32gb\",\"3gb\",\"ramits\",\"flagship\",\"smartfone\",\"13000rs\",\"looks\",\"verry\",\"pretty\",\"look\",\"like\",\"stylish\",\"fone\",\"5\",\"inch\",\"full\",\"hd\",\"display\",\"powerd\",\"1\",\"4ghz\",\"hexa\",\"core\",\"qualcom\",\"snapdragon\",\"650\",\"proccesar\",\"couple\",\"2g\",\"inbuilt\",\"expandable\",\"storage\",\"upto\",\"128\",\"gb\",\"perfomance\",\"boon\",\"master\",\"piece\",\"economical\",\"price\",\"performance\",\"durable\",\"notification\",\"lights\",\"different\",\"colors\",\"camera\",\"clearity\",\"remarkable\",\"light\",\"wieght\",\"print\",\"enough\",\"brightness\",\"features\",\"ne\",\"ever\",\"range\",\"12000\",\"picture\",\"fingerprint\",\"sensor\",\"adds\",\"10\",\"fingerprints\",\"video\",\"recording\",\"slow\",\"motion\",\"feature\",\"android\",\"v5\",\"lollipop\",\"click\",\"pics\",\"update\",\"effects\",\"quick\",\"capture\",\"clarity\",\"vry\",\"quali\",\"used\",\"till\",\"date\",\"totally\",\"something\",\"new\",\"part\",\"brand\",\"provide\",\"gadget\",\"guys\",\"prefer\",\"buying\",\"soon\",\"second\",\"xiami\",\"sports\",\"lcd\",\"disign\",\"1080\",\"1920\",\"pixels\",\"human\",\"speak\",\"means\",\"big\",\"stuffed\",\"deliver\",\"crisp\",\"visuals\",\"budget\",\"friendly\",\"handset\",\"screen\",\"nearly\",\"perfect\",\"reviewi\",\"di\",\"ultimate\",\"based\",\"weeks\",\"usage\",\"key\",\"13\",\"9\",\"cm\",\"x\",\"ips\",\"capacitive\",\"touchscreen\",\"401\",\"ppi\",\"pixel\",\"density\",\"sunlight\",\"reading\",\"mode\",\"night\",\"mode16mp\",\"f\",\"0\",\"primary\",\"dual\",\"isps\",\"pdaf\",\"two\",\"tone\",\"flash\",\"5mp\",\"fron\",\"since\",\"last\",\"months\",\"experience\",\"bought\",\"32\",\"variant\",\"also\",\"bough\",\"still\",\"nobody\",\"identify\",\"better\",\"biggest\",\"point\",\"use\",\"continuously\",\"days\",\"negative\",\"hardware\",\"software\",\"undefinedwhen\",\"recieved\",\"blown\",\"build\",\"simply\",\"beautiful\",\"sophisticated\",\"hand\",\"mine\",\"gold\",\"version\",\"thankfully\",\"edges\",\"rounded\",\"bit\",\"heavy\",\"bugdet\",\"packs\",\"well\",\"actually\",\"think\",\"triump\",\"comes\",\"large\",\"4000mah\",\"superfast\",\"somewhat\",\"disappointing\",\"india\",\"smartphone\",\"market\",\"progr\",\"10000\",\"purchaseits\",\"details\",\"given\",\"belowredmi\",\"warient\",\"type\",\"come\",\"65064\",\"8\",\"gh\",\"beast\",\"suitable\",\"xiomi\",\"team\",\"aluminium\",\"metal\",\"unibody\",\"lots\",\"smart\",\"designing\",\"exceptional\",\"little\",\"dissapointing\",\"low\",\"condition\",\"however\",\"nt\",\"affect\",\"flagsh\",\"super\",\"hi\",\"4g\",\"mi\",\"realy\",\"much\",\"updating\",\"miui8\",\"16\",\"mp\",\"andfront\",\"5mpthe\",\"grate\",\"resolution\",\"camera1080\",\"zooming\",\"segment\",\"working\",\"makkhan\",\"updated\",\"global\",\"beta\",\"awsome\",\"cool\",\"desepint\",\"marshmellow\",\"final\",\"massive\",\"backup\",\"4\",\"000mah\",\"newer\",\"feel\",\"network\",\"technologygsm\",\"hspa\",\"ltelaunch\",\"announced2016\",\"januarystatus\",\"available\",\"released\",\"2016\",\"februarybody\",\"dimensions150\",\"76\",\"7\",\"mm\",\"91\",\"99\",\"34\",\"weight\",\"164\",\"g\",\"78\",\"oz\",\"sim\",\"micro\",\"nano\",\"stand\",\"typeips\",\"touchscre\",\"purchase\",\"u\",\"get\",\"never\",\"hanging\",\"problem\",\"xa0\",\"xa0i\",\"month\",\"sony\",\"supp\",\"10k\",\"pick\",\"lover\",\"previously\",\"samsung\",\"htc\",\"main\",\"concern\",\"made\",\"previous\",\"china\",\"smarphone\",\"maximum\",\"design\",\"purcased\",\"online\",\"ebay\",\"11999\",\"choosed\",\"compared\",\"brands\",\"fantastic\",\"buy\",\"far\",\"convenient\",\"reach\",\"back\",\"multitasking\",\"lag\",\"hangups\",\"megapixel\",\"record\",\"videos\",\"resolut\",\"hello\",\"friends\",\"phine\",\"quite\",\"time\",\"trust\",\"really\",\"specification\",\"excellent\",\"amazing\",\"winderfull\",\"3200\",\"mah\",\"n\",\"recently\",\"private\",\"job\",\"salary\",\"afford\",\"everything\",\"expect\",\"less\",\"ca\",\"seen\",\"markets\",\"thousand\",\"rupees\",\"going\",\"opinion\",\"phone1\",\"people\",\"complaining\",\"heating\",\"charging\",\"playing\",\"games\",\"due\",\"body\",\"normal\",\"even\",\"beat\",\"qual\",\"experienced\",\"issue\",\"device\",\"explore\",\"decent\",\"worth\",\"spending\",\"12k\",\"management\",\"brilliant\",\"useful\",\"present\",\"must\",\"admit\",\"drawbacks\",\"16mp\",\"clicks\",\"helps\",\"save\",\"exact\",\"remote\",\"iam\",\"rather\",\"remotes\",\"differen\",\"launched\",\"whereas\",\"availability\",\"difficult\",\"almost\",\"websites\",\"see\",\"sold\",\"board\",\"gave\",\"opportunity\",\"buyer\",\"latest\",\"options\",\"pho\",\"waste\",\"qulity\",\"lower\",\"comapre\",\"smartphones\",\"useing\",\"faster\",\"alots\",\"sens\",\"work\",\"tim\",\"intresting\",\"featue\",\"remi\",\"firstly\",\"talk\",\"fast\",\"speed\",\"done\",\"mutliple\",\"task\",\"size\",\"nad\",\"batt\",\"awsm\",\"function\",\"unlock\",\"sec\",\"help\",\"card\",\"uh\",\"hybride\",\"slot\",\"w\",\"audi\",\"p\",\"easy\",\"sleek\",\"fingerpri\",\"beacuse\",\"processor\",\"notifications\",\"touch\",\"response\",\"senso\",\"everyone\",\"today\",\"every\",\"series\",\"certain\",\"issues\",\"gigantic\",\"mazhar\",\"reviewing\",\"purchased\",\"giving\",\"tag\",\"tremendous\",\"offers\",\"front\",\"lasts\",\"hands\",\"variants\",\"and31gb\",\"user\",\"suggest\",\"model\",\"handles\",\"ease\",\"three\",\"love\",\"overheating\",\"internet\",\"sometimes\",\"otherwise\",\"affordable\",\"prize\",\"guy\",\"lot\",\"ago\",\"tested\",\"fine\",\"efforts\",\"gets\",\"curve\",\"makes\",\"easier\",\"handle\",\"works\",\"reponsive\",\"gigs\",\"selling\",\"specifications\",\"ir\",\"attractive\",\"cost\",\"rear\",\"amzing\",\"4500\",\"wifi\",\"bluetooth\",\"supported\",\"3g\",\"lte\",\"ambient\",\"compass\",\"led\",\"anapdragon\",\"andr\",\"years\",\"would\",\"say\",\"considering\",\"ie\",\"11000\",\"thos\",\"cheap\",\"rated\",\"high\",\"note3\",\"year\",\"proved\",\"amazingly\",\"worthy\",\"exceptionaly\",\"powerful\",\"standard\",\"hdd\",\"priced\",\"inr\",\"hiiii\",\"veriant\",\"brother\",\"processer\",\"brothers\",\"mtk\",\"slips\",\"easily\",\"delicate\",\"everytime\",\"carry\",\"though\",\"spent\",\"500rs\",\"backcover\",\"protected\",\"manufacturer\",\"noshow\",\"fit\",\"need\",\"extra\",\"cautious\",\"holding\",\"replaced\",\"zredmi\",\"seven\",\"various\",\"colurs\",\"mostly\",\"colour\",\"rs\",\"500\",\"mistake\",\"excited\",\"dad\",\"convinced\",\"took\",\"thought\",\"worked\",\"stated\",\"whenever\",\"top\",\"industry\",\"mobiles\",\"highly\",\"clicked\",\"theme\",\"provided\",\"versio\",\"wasted\",\"invest\",\"friend\",\"believe\",\"expierence\",\"give\",\"backcamera\",\"extraordinary\",\"co\",\"sister\",\"gifted\",\"tell\",\"life\",\"interface\",\"etc\",\"wise\",\"nev\",\"unbeatale\",\"past\",\"feld\",\"hidden\",\"without\",\"knowing\",\"factory\",\"reset\",\"although\",\"run\",\"english\",\"language\",\"chinese\",\"apps\",\"stuffs\",\"parched\",\"march\",\"6\",\"lack\",\"bettry\",\"disturb\",\"always\",\"64\",\"facing\",\"isuue\",\"bugs\",\"perf\",\"killer\",\"extensive\",\"conclusion\",\"regards\",\"middle\",\"class\",\"men\",\"cant\",\"pr\",\"improvement\",\"words\",\"basically\",\"take\",\"fully\",\"charge\",\"recommend\",\"manufactu\",\"9999\",\"heard\",\"music\",\"bad\",\"feeling\",\"color\",\"style\",\"impression\",\"users\",\"audio\",\"system\",\"mic\",\"needs\",\"repairing\",\"worst\",\"damages\",\"period\",\"mean\",\"ridiculous\",\"could\",\"damage\",\"early\",\"receiver\",\"writing\",\"redimi\",\"specially\",\"offer\",\"notch\",\"leading\",\"highlights1\",\"exc\",\"tha\",\"pvt\",\"ldt\",\"electronic\",\"world\",\"impressed\",\"cap\",\"harrasment\",\"things\",\"changing\",\"themes\",\"font\",\"irritates\",\"fa\",\"properly\",\"starts\",\"hang\",\"open\",\"application\",\"became\",\"socket\",\"stop\",\"put\",\"powered\",\"qcom\",\"core1\",\"ghz\",\"runs\",\"robust\",\"multi\",\"tasking\",\"superior\",\"images\",\"shooter\",\"elaborate\",\"50\",\"1months\",\"game\",\"1gb\",\"perfromence\",\"qualty\",\"choice\",\"phon\",\"becuse\",\"uniq\",\"bodu\",\"alminum\",\"dispaly\",\"injoy\",\"vedio\",\"displayof\",\"1080p\",\"resulation\",\"403ppiits\",\"proccesser\",\"2x\",\"week\",\"running\",\"except\",\"disappointed\",\"please\",\"app\",\"play\",\"store\",\"replace\",\"current\",\"loving\",\"scr\",\"processing\",\"miui\",\"currently\",\"huge\",\"gamers\",\"12\",\"000\",\"varies\",\"contains\",\"ithink\",\"purpose\",\"contain\",\"pri\",\"certainly\",\"slouch\",\"came\",\"plastic\",\"felt\",\"set\",\"alongside\",\"handsets\",\"mi4\",\"lea\",\"heritage\",\"small\",\"12000and\",\"rest\",\"generation\",\"scanner\",\"beeter\",\"privacyalso\",\"future\",\"tooalso\",\"octa\",\"proccer\",\"3hi\",\"named\",\"hybrid\",\"4100\",\"13mp\",\"cam\",\"999\",\"powerfull\",\"pro\",\"traffic\",\"single\",\"blindly\",\"10999\",\"expendable\",\"4050\",\"premier\",\"detect\",\"selfies\",\"5inch\",\"disp\",\"15k\",\"pakage\",\"styling\",\"asphalt\",\"lags\",\"provides\",\"juice\",\"whole\",\"showstopper\",\"launch\",\"boasts\",\"ample\",\"space\",\"remember\",\"manage\",\"steal\",\"limelight\",\"counterparts\",\"lenovo\",\"k4\",\"moto\",\"g4\",\"k\",\"applications\",\"smoothly\",\"compamy\",\"dragonglass\",\"instead\",\"gorilla\",\"glass\",\"others\",\"recognized\",\"wi\",\"deal\",\"asome\",\"rom\",\"senser\",\"losts\",\"r\",\"ther\",\"graphic\",\"bnmkvvnmvvvnmvcvbmcv\",\"stressful\",\"110\",\"report\",\"banned\",\"possible\",\"country\",\"impossible\",\"nothing\",\"wh\",\"offering\",\"personally\",\"happy\",\"pros\",\"reason\",\"mmx\",\"aq5001\",\"gyroscope\",\"largest\",\"tecnology\",\"processorand\",\"mega\",\"beautifull\",\"captures\",\"heart\",\"thinking\",\"long\",\"financial\",\"problems\",\"chance\",\"hit\",\"right\",\"roughly\",\"companies\",\"indians\",\"xa0trusting\",\"usp\",\"built\",\"machine\",\"performanceit\",\"world3\",\"pricephone\",\"expectedcamera\",\"1080x1920\",\"pixelsandroid\",\"lolipop\",\"ram13\",\"secondary\",\"4000\",\"launching\",\"news\",\"tried\",\"times\",\"sale\",\"journey\",\"9999rs\",\"gamechanger\",\"mini\",\"lacks\",\"varients\",\"doesnt\",\"told\",\"ytype\",\"amoled\",\"8ghz\",\"xaomi\",\"proves\",\"boss\",\"chiness\",\"manufacturing\",\"complanies\",\"become\",\"sucess\",\"word\",\"fhd\",\"processor16\",\"glory\",\"specs\",\"glitches\",\"minor\",\"unlocking\",\"ui\",\"e\",\"appealing\",\"asus\",\"zenui\",\"bet\",\"around\",\"pblm\",\"avilability\",\"components\",\"service\",\"avilable\",\"premium\",\"20\",\"black\",\"silver\",\"least\",\"preferred\",\"says\",\"sensors\",\"13k\",\"15\",\"overall\",\"modern\",\"combat\",\"batman\",\"arkham\",\"origins\",\"sufficient\",\"day\",\"lapse\",\"disappoint\",\"3rd\",\"attracted\",\"alot\",\"speakers\",\"jst\",\"fringerprint\",\"strong\",\"h\",\"everi\",\"bettery\",\"battey\",\"30\",\"spesifications\",\"snapdragon650\",\"premiere4050mah\",\"chargepremiu\",\"ausome\",\"doesn\\u00e2\",\"load\",\"compare\",\"opens\",\"person\",\"defeated\",\"iphone\",\"youth\",\"song\",\"may\",\"poor\",\"bother\",\"kitkat\",\"rural\",\"locations\",\"define\",\"optimized\",\"comparing\",\"duper\",\"13000\",\"positive\",\"qualcomm\",\"operating\",\"switching\",\"per\",\"gives\",\"fi\",\"didnt\",\"explorers\",\"selected\",\"test\",\"metalic\",\"bulid\",\"fp\",\"aweso\",\"fault\",\"hve\",\"restart\",\"bck\",\"heting\",\"plug\",\"watching\",\"continously\",\"overheats\",\"liked\",\"cmera\",\"clrity\",\"bttery\",\"killler\",\"lucky\",\"2nd\",\"grey\",\"dnt\",\"va\",\"wont\",\"anything\",\"powering\",\"antutu\",\"benchmark\",\"score\",\"75k\",\"slim\",\"voice\",\"40\",\"average\",\"priceit\",\"featured\",\"lagging\",\"ph\",\"cell\",\"colours\",\"impressive\",\"loading\",\"veary\",\"access\",\"lasting\",\"16m\",\"colorssize\",\"inches\",\"72\",\"ratio\",\"mene\",\"kuch\",\"din\",\"pehle\",\"onliye\",\"kiya\",\"functioned\",\"ka\",\"ek\",\"dam\",\"vadiya\",\"aap\",\"sath\",\"bji\",\"shoot\",\"kr\",\"skte\",\"ho\",\"iss\",\"ki\",\"nova\",\"gta\",\"awesom\",\"cameras\",\"styles\",\"als\",\"trusted\",\"thier\",\"awsumm\",\"capacity\",\"steel\",\"miui7\",\"sd\",\"afterall\",\"heat\",\"minutesthere\",\"fastly\",\"goog\",\"technology\",\"trend\",\"area\",\"excluded\",\"remained\",\"hsdap\",\"connect\",\"edge\",\"gprs\",\"larger\",\"let\",\"mind\",\"blowing\",\"b\",\"priceawesome\",\"specsyou\",\"32gigs4\",\"ramplus\",\"add\",\"cardwhat\",\"needpros\",\"pricebattery\",\"evenscreen\",\"lcdgaming\",\"smoothlyco\",\"topest\",\"behind\",\"real\",\"prosser\",\"shining\",\"camra\",\"quaily\",\"reliable\",\"brought\",\"official\",\"site\",\"indian\",\"found\",\"charger\",\"data\",\"cable\",\"box\",\"along\",\"witch\",\"within\",\"dost\",\"mai\",\"apse\",\"aaj\",\"redmond\",\"ke\",\"baare\",\"batana\",\"chahunga\",\"ye\",\"kaafi\",\"nectar\",\"hai\",\"baat\",\"karte\",\"se\",\"lekar\",\"sab\",\"ish\",\"minus\",\"de\",\"aur\",\"acha\",\"ga\",\"log\",\"finding\",\"unber\",\"smoothest\",\"flowing\",\"getting\",\"handsbeware\",\"wast\",\"outstanding\",\"xoiami\",\"resmi\",\"batteey\",\"megapixes\",\"food\",\"called\",\"gameing\",\"spreading\",\"confidence\",\"losing\",\"pathetic\",\"sales\",\"ordered\",\"sept\",\"11\",\"order\",\"id\",\"5160912145001267\",\"received\",\"14\",\"5th\",\"refresh\",\"turn\",\"mediatek\",\"helio\",\"x10\",\"spring\",\"driven\",\"followed\",\"broke\",\"admittedly\",\"late\",\"exclusive\",\"showing\",\"success\",\"deserves\",\"backtouch\",\"4gb\",\"prices\",\"wants\",\"confused\",\"thereare\",\"sets\",\"brilliantly\",\"hz\",\"hexo\",\"cortex\",\"cpu\",\"adreno\",\"510\",\"quilaty\",\"fornt3\",\"daylight\",\"investment\",\"complaints\",\"unique\",\"gad\",\"hexacore\",\"viewing\",\"angle\",\"biased\",\"visibility\",\"face\",\"sun\",\"doubt\",\"successful\",\"mission\",\"featuring\",\"golden\",\"fits\",\"feels\",\"golde\",\"qaulity\",\"speaker\",\"scratchless\",\"defination\",\"zoom\",\"competition\",\"attention\",\"interesting\",\"instance\",\"minutely\",\"bump\",\"perfectly\",\"kept\",\"hats\",\"smartone\",\"xiome\",\"recommonded\",\"goo\",\"corns\",\"3note\",\"list\",\"compromise\",\"wich\",\"companys\",\"micromaxxiaomi\",\"equipped\",\"sm\",\"14k\",\"3000\",\"descent\",\"containing\",\"exactly\",\"lucid\",\"amount\",\"fre\",\"usefull\",\"phablet\",\"chassis\",\"custom\",\"developed\",\"beauty\",\"amd\",\"plus\",\"moneypros\",\"life2\",\"fast3\",\"price4\",\"displaycons\",\"heats\",\"fifte\",\"sides\",\"resemblance\",\"side\",\"meizu\",\"mx5\",\"uncanny\",\"round\",\"located\",\"aligned\",\"placed\",\"onboard\",\"opt\",\"tight\",\"officially\",\"expanded\",\"microsd\",\"stars\",\"supeephone\",\"seperately\",\"ships\",\"fork\",\"reworked\",\"ground\",\"earlier\",\"versions\",\"likeable\",\"polished\",\"layered\",\"costomise\",\"loved\",\"lets\",\"butter\",\"smooth\",\"a72\",\"cores\",\"honestly\",\"went\",\"noticed\",\"bothering\",\"created\",\"history\",\"15months\",\"slower\",\"entry\",\"soo\",\"rate\",\"octacore\",\"mainly\",\"dont\",\"11000rs\",\"doe\",\"owns\",\"option\",\"additional\",\"amazes\",\"metallic\",\"hold\",\"fisrt\",\"varient\",\"facilit\",\"fab\",\"truth\",\"search\",\"end\",\"preferably\",\"sturdy\",\"inphone\",\"configuration\",\"vise\",\"costly\",\"us\",\"reception\",\"avera\",\"relaible\",\"sleak\",\"boards\",\"loud\",\"desplay\",\"imterface\",\"beating\",\"geared\",\"support\",\"able\",\"hazzle\",\"completely\",\"scarcity\",\"ebayit\",\"supports\",\"disadvantage\",\"heated\",\"quickly\",\"othe\",\"uses\",\"usees\",\"loke\",\"fitted\",\"bottom\",\"designed\",\"complex\",\"yo\",\"popular\",\"lestest\",\"result\",\"including\",\"installation\",\"applicatio\",\"presently\",\"takes\",\"xa0year\",\"cannot\",\"find\",\"obviously\",\"note4\",\"inrin\",\"cover\",\"cons\",\"consoverheating\",\"yes\",\"hey\",\"field\",\"offered\",\"remain\",\"common\",\"devices\",\"external\",\"oh\",\"gosh\",\"outperform\",\"810\",\"mh\",\"ip\",\"everbody\",\"praised\",\"yellow\",\"volte\",\"jio\",\"plz\",\"worry\",\"dislike\",\"comp\",\"protector\",\"especially\",\"reilable\",\"supporting\",\"5simply\",\"piecegreat\",\"redminote\",\"walud\",\"bery\",\"awesomevoice\",\"talking\",\"calls\",\"special\",\"ba\",\"wonderful\",\"coumpny\",\"hase\",\"opration\",\"base\",\"regular\",\"updates\",\"amazi\",\"camara\",\"17mp\",\"gigahertz\",\"processes\",\"inernal\",\"unbeatable\",\"varun\",\"16g\",\"major\",\"scrolling\",\"screensho\",\"via\",\"amazon\",\"faced\",\"terms\",\"snapdeal\",\"nearby\",\"stores\",\"killme\",\"rmn3\",\"handling\",\"styleand\",\"desing\",\"mobilegood\",\"bettur\",\"byt\",\"pointed\",\"wrong\",\"place\",\"build2\",\"responsive\",\"sensor3\",\"life4\",\"performancecons\",\"boring\",\"design2\",\"cameras3\",\"vs\",\"dedicated\",\"sim4\",\"lollipopwith\",\"xiamo\",\"proccessor\",\"ok\",\"storm\",\"ignore\",\"perfor\",\"wildly\",\"apart\",\"players\",\"hard\",\"higher\",\"graphics\",\"tbis\",\"15000\",\"writting\",\"experian\",\"chines\",\"4th\",\"maker\",\"hardly\",\"belive\",\"sell\",\"2011\",\"fingre\",\"accept\",\"hours\",\"mark\",\"expected\",\"case\",\"yeah\",\"rooting\",\"bloatware\",\"locked\",\"signal\",\"usual\",\"hear\",\"snap\",\"dragon\",\"prosesor\",\"wonderfull\",\"ninethousand\",\"ninty\",\"nine\",\"providing\",\"disatisfactory\",\"5s\",\"event\",\"beijing\",\"tuesday\",\"bigger\",\"packing\",\"setup\",\"strategy\",\"adopted\",\"apple\",\"xi\",\"telling\",\"personal\",\"exprians\",\"scenery\",\"lite\",\"wagth\",\"prouduct\",\"personaal\",\"seenso\",\"ads\",\"xiaom\",\"productafter\",\"jsut\",\"wasso\",\"feautre\",\"started\",\"spec\",\"battle\",\"fan\",\"aslo\",\"c\",\"consider\",\"mouths\",\"heres\",\"mobilelooks\",\"curved\",\"non\",\"removable\",\"accident\",\"drop\",\"mobil\",\"types\",\"watch\",\"nd\",\"thiks\",\"esay\",\"welcome\",\"aford\",\"thin\",\"xa0simply\",\"recomme\",\"samartphone\",\"november\",\"2015\",\"deca\",\"samprtphone\",\"enhanced\",\"clearty\",\"child\",\"clean\",\"gud\",\"mqny\",\"bigget\",\"hrs\",\"according\",\"comparable\",\"favourite\",\"cemra\",\"tham\",\"antivirus\",\"sa\",\"frind\",\"families\",\"appearance\",\"kind\",\"satisfaction\",\"appreciation\",\"benefits\",\"suc\",\"thise\",\"xiomii\",\"procssesor\",\"try\",\"moderncombat\",\"performece\",\"facts\",\"damn\",\"functions\",\"wanna\",\"fin\",\"red\",\"annd\",\"view\",\"creatures\",\"gig\",\"puzzle\",\"ji\",\"amway\",\"touchsceen\",\"403\",\"snapdragn\",\"ossaam\",\"ossem\",\"bt\",\"freely\",\"updat\",\"outomekly\",\"instol\",\"tuf\",\"sleep\",\"website\",\"trule\",\"sarvises\",\"britnes\",\"coler\",\"aa\",\"upgradable\",\"ine\",\"li\",\"reliabl\",\"degree\",\"centigrade\",\"informed\",\"finishing\",\"caus\",\"companion\",\"across\",\"customized\",\"skin\",\"known\",\"fastest\",\"explain\",\"marshmallow\",\"waterproof\",\"hdr\",\"qualities\",\"everybody\",\"bestin\",\"crossed\",\"selfi\",\"button\",\"pic\",\"doubts\",\"proc\",\"fade\",\"negtive\",\"remarks\",\"draw\",\"call\",\"compard\",\"bond\",\"traditionally\",\"focused\",\"\\u00e2\",\"astonishingly\",\"offerings\",\"mi5\",\"bodywork\",\"scre\",\"self\",\"mujeeb\",\"ur\",\"rehman\",\"karnataka\",\"bellaryhi\",\"3my\",\"rally\",\"conditionit\",\"styleit\",\"selfy\",\"al\",\"phoneits\",\"phonegood\",\"lesser\",\"coast\",\"goodn\",\"un\",\"hangable\",\"fluently\",\"cheaper\",\"covers\",\"infinity\",\"grab\",\"book\",\"faimly\",\"lookimg\",\"bughet\",\"ddr3\",\"duel\",\"coastly\",\"phne\",\"way\",\"page\",\"acess\",\"sensitivity\",\"ball\",\"short\",\"bar\",\"shortest\",\"par\",\"might\",\"viriants\",\"6th\",\"thexiaomi\",\"costs\",\"following\",\"supergiant\",\"battery16\",\"memory2\",\"processorvery\",\"st\",\"relatively\",\"problm\",\"image\",\"lis\",\"si\",\"ha\",\"625\",\"clock\",\"6ghz\",\"thus\",\"12mp\",\"8mp\",\"operations\",\"cools\",\"dark\",\"gray\",\"write\",\"consists\",\"checked\",\"default\",\"calling\",\"disconnected\",\"automatically\",\"jiovoice\",\"it\\u00e2\",\"connected\",\"youtube\",\"frank\",\"buddy\",\"saw\",\"advertisement\",\"planned\",\"scared\",\"hope\",\"enjoy\",\"total\",\"checking\",\"18k\",\"stock\",\"blame\",\"effort\",\"becomes\",\"daily\",\"driver\",\"aft\",\"security\",\"phase\",\"detection\",\"autofocus\",\"redmiiiiiiii\",\"333333333333\",\"decission\",\"fabulos\",\"with4050\",\"gramssize\",\"under10000\",\"war\",\"4050mah\",\"moderate\",\"gr8\",\"dhasoo\",\"shopping\",\"expansive\",\"gps\",\"pixal\",\"process\",\"catch\",\"presenting\",\"form\",\"carries\",\"ultra\",\"stunning\",\"impact\",\"inaugural\",\"targeted\",\"boys\",\"similar\",\"flagships\",\"xa0redmi\",\"xa0is\",\"128gb\",\"cardi\",\"approx\",\"sand\",\"blasted\",\"matte\",\"finish\",\"bel\",\"incredibly\",\"attract\",\"dust\",\"grime\",\"simple\",\"wipe\",\"satiesfied\",\"blackout\",\"woul\",\"5mega\",\"extrordinary\",\"five\",\"satisfied\",\"customer\",\"typical\",\"number\",\"third\",\"party\",\"wow\",\"4x1\",\"a53\",\"2x1\",\"awesome16\",\"accessories\",\"smoo\",\"seek\",\"enable\",\"fabulous\",\"amolode\",\"diaplayi\",\"mobilebest\",\"usesleek\",\"handyit\",\"wide\",\"mobeil\",\"waitless\",\"andthis\",\"frent\",\"exclent\",\"yout\",\"littilbit\",\"weak\",\"breakes\",\"care\",\"standards\",\"3month\",\"performing\",\"decide\",\"9k\",\"moment\",\"fullmetal\",\"attracts\",\"awsme\",\"qualcomms\",\"soc\",\"ardeno\",\"510display\",\"5inc\",\"frnds\",\"belong\",\"extend\",\"nex\",\"cheapest\",\"andriod\",\"nation\",\"killing\",\"thrilling\",\"hanged\",\"maintained\",\"moreover\",\"equalizer\",\"reducednot\",\"dhamaka\",\"designwe\",\"sitting\",\"xiaomi\\u00e2\",\"jai\",\"mani\",\"unit\",\"torn\",\"next\",\"what\\u00e2\",\"hood\",\"v\",\"cemera\",\"photo\",\"matter\",\"verions\",\"16gh\",\"problrm\",\"availabity\",\"genrally\",\"centres\",\"profits\",\"originally\",\"mediatec\",\"launches\",\"th\",\"incredible\",\"astonishing\",\"exceptionally\",\"net\",\"18\",\"wallpaper\",\"carousel\",\"displays\",\"king\",\"slip\",\"redmj\",\"screem\",\"managing\",\"handeling\",\"thi\",\"revolution\",\"packed\",\"die\",\"played\",\"minutes\",\"didn\\u00e2\",\"stutter\",\"couldn\\u00e2\",\"notice\",\"significant\",\"lunch\",\"january\",\"expensive\",\"msm8956\",\"opreting\",\"appreciable\",\"thhis\",\"itt\",\"amaingg\",\"said\",\"amazin\",\"romania\",\"representative\",\"shops\",\"thank\",\"link\",\"complicate\",\"anyway\",\"complains\",\"moving\",\"terrible\",\"reasonable\",\"seller\",\"flipkark\",\"center\",\"z\",\"pickup\",\"supperrbbb\",\"achha\",\"proximity\",\"arrises\",\"calibirate\",\"name\",\"tuneup\",\"easly\",\"stor\",\"stylist\",\"651\",\"heax\",\"tft\",\"blaster\",\"control\",\"tv\",\"ac\",\"settop\",\"projectors\",\"term\",\"gr\",\"rare\",\"secondar\",\"relations\",\"increase\",\"status\",\"dream\",\"staylist\",\"capicity\",\"branded\",\"ex\",\"awesone\",\"handphone\",\"bug\",\"k5\",\"preety\",\"drawback\",\"output\",\"vr\",\"bets\",\"evel\",\"dreem\",\"jast\",\"itnow\",\"porblem\",\"everywhere\",\"battry\",\"stadby\",\"chargeing\",\"portis\",\"port\",\"propraly\",\"servicemi\",\"employer\",\"answer\",\"designmi\",\"featuresmi\",\"match\",\"wit\",\"replication\",\"contrast\",\"unless\",\"level\",\"tamb\",\"desi\",\"twice\",\"unboxed\",\"searching\",\"making\",\"marvellous\",\"purchasing\",\"thanks\",\"performs\",\"performer\",\"godd\",\"laging\",\"prity\",\"spekers\",\"3excellent\",\"aewsome\",\"moneyin\",\"bcoz\",\"batte\",\"embrace\",\"cud\",\"owesome\",\"white\",\"shad\",\"accurate\",\"reader\",\"paisa\",\"vasool\",\"endless\",\"introduced\",\"mobaile\",\"secendry\",\"crean\",\"battety\",\"packcage\",\"fingerpint\",\"shape\",\"colores\",\"androide\",\"buget\",\"performenc\",\"pepole\",\"liking\",\"designbest\",\"displayi\",\"durationthere\",\"phonethis\",\"frame\",\"enybody\",\"anil\",\"mouthshut\",\"fing\",\"quities\",\"related\",\"hassels\",\"checks\",\"boxes\",\"10battery\",\"grainy\",\"10fingerprint\",\"shake\",\"q\",\"im\",\"4gand\",\"xioami\",\"3and\",\"goood\",\"compair\",\"10000sound\",\"meand\",\"ofcourse\",\"iseasy\",\"useand\",\"beside\",\"switched\",\"overcart\",\"quility\",\"nokia\",\"funtion\",\"sagetion\",\"3why\",\"3s\",\"compatible\",\"7000\",\"girls\",\"xiamoi\",\"valuble\",\"620\",\"febolous\",\"buyed\",\"local\",\"shop\",\"near\",\"home\",\"and32gb\",\"whic\",\"thh\",\"player\",\"mettalic\",\"tge\",\"convinient\",\"saurabh\",\"toady\",\"ask\",\"allover\",\"launcher\",\"rising\",\"distintive\",\"liquid\",\"flow\",\"neverthless\",\"luvv\",\"law\",\"litt\",\"redmii\",\"blasting\",\"careful\",\"vibe\",\"besttt\",\"awesome1\",\"display2\",\"gyro\",\"battery4\",\"turned\",\"flickering\",\"thoug\",\"marketing\",\"includes\",\"comfortable\",\"understand\",\"hell\",\"ecom\",\"sites\",\"regularly\",\"3since\",\"10999rs\",\"12999rs\",\"follows\",\"920\",\"forever\",\"facility\",\"inside\",\"increasing\",\"3b\",\"phons\",\"father\",\"mobail\",\"optimization\",\"probably\",\"assume\",\"toothers\",\"os\",\"upgraded\",\"effectively\",\"bits\",\"1is\",\"amera\",\"accor\",\"seriously\",\"anywhere\",\"heavier\",\"desce\",\"handy\",\"performancebattery\",\"freedom\",\"shows\",\"extreme\",\"po\",\"wai\",\"ot\",\"afingerprint\",\"scrachproff\",\"trying\",\"minimum\",\"wednesdays\",\"specialisation\",\"fecility\",\"currnetly\",\"launced\",\"atlast\",\"awsmartphonesesome\",\"hss\",\"resist\",\"bsttery\",\"sharing\",\"read\",\"claritygreat\",\"backupfinger\",\"sensorgreat\",\"proccesor\",\"designredmi\",\"privies\",\"displayr\",\"cellphone\",\"selection\",\"jus\",\"recommended\",\"refer\",\"selfie\",\"165\",\"gm\",\"updater\",\"durability\",\"earphones\",\"rocking\",\"becoming\",\"aspect\",\"617\",\"solid\",\"witho\",\"thats\",\"xiaome\",\"ppleas\",\"arter\",\"family\",\"students\",\"surely\",\"krishna\",\"sector\",\"chipset\",\"paying\",\"quad\",\"respect\",\"dslr\",\"disadvantages\",\"aggressive\",\"overheated\",\"rock\",\"thaught\",\"advice\",\"category\",\"36gb\",\"thish\",\"beacose\",\"androad\",\"ver\",\"plese\",\"pay\",\"connecting\",\"social\",\"media\",\"stay\",\"budg\",\"age\",\"season\",\"hour\",\"captured\",\"beefy\",\"capable\",\"entire\",\"involves\",\"streaming\",\"netflix\",\"volume\",\"depleted\",\"readmi\",\"pure\",\"ingredients\",\"seamless\",\"backed\",\"abt\",\"useits\",\"neat\",\"designvery\",\"performancewith\",\"access5\",\"5inches\",\"modelwith\",\"needed\",\"facilities\",\"processorav\",\"altimat\",\"browsing\",\"exlet\",\"pictur\",\"vas\",\"altimet\",\"prce\",\"butiful\",\"advanc\",\"fuchars\",\"toch\",\"ameging\",\"veery\",\"god\",\"caler\",\"vo\",\"somewhere\",\"considerable\",\"study\",\"tech\",\"enywhere\",\"vv8\",\"mhomidithree\",\"fingered\",\"swipe\",\"screenshots\",\"screenshot\",\"setting\",\"mideal\",\"gat\",\"fitures\",\"sancer\",\"loking\",\"fulley\",\"matel\",\"colers\",\"rose\",\"gol\",\"countless\",\"gsm\",\"ltedisplay\",\"capacit\",\"goodredmi\",\"xolo\",\"3available\",\"sharpthis\",\"truly\",\"delivered\",\"promised\",\"description\",\"charged\",\"interactive\",\"fonts\",\"choose\",\"upon\",\"typing\",\"likely\",\"hingh\",\"nai\",\"expand\",\"256gb\",\"lonced\",\"jan\",\"v6\",\"greatest\",\"rounder\",\"gd\",\"slightly\",\"candy\",\"crush\",\"cricket\",\"bread\",\"fool\",\"half\",\"information\",\"servicing\",\"vizag\",\"servicingits\",\"movie\",\"gamingamazing\",\"mppremium\",\"qualitystylish\",\"designfinger\",\"fastsuper\",\"ramlarge\",\"gbgreat\",\"themeinbui\",\"futures\",\"desgin\",\"marchle\",\"nic\",\"proper\",\"gourges\",\"announced\",\"capacitixiaomi\",\"gpsimage\",\"resu\",\"thoiz\",\"16megapixel\",\"5megapixal\",\"veiw\",\"facilitys\",\"thiz\",\"j\",\"ws\",\"4200\",\"spe\",\"cammera\",\"anroid\",\"effective\",\"booming\",\"peoples\",\"successor\",\"finally\",\"2014\",\"changer\",\"aims\",\"redo\",\"course\",\"competitive\",\"added\",\"actively\",\"missed\",\"bang\",\"buck\",\"delivering\",\"suggests\",\"compact\",\"lightweight\",\"beautifully\",\"crafted\",\"edgy\",\"compe\",\"elegant\",\"slithe\",\"strength\",\"rimmed\",\"luxurious\",\"irresistible\",\"lovely\",\"perfomace\",\"download\",\"smoth\",\"quilty\",\"capturing\",\"advance\",\"specific\",\"stan\",\"recption\",\"accelerometer\",\"eye\",\"probls\",\"lottle\",\"avery\",\"ignoring\",\"inthe\",\"12000rs\",\"desided\",\"olx\",\"15min\",\"gaminghanging\",\"days4\",\"mc\",\"mattel\",\"sh\",\"east\",\"west\",\"clearing\",\"either\",\"earphone\",\"vibration\",\"soft\",\"anyone\",\"headachethere\",\"bult\",\"live\",\"featuresgood\",\"goodverryyyy\",\"goooood\",\"phooneeesmart\",\"battryhybrid\",\"supportdual\",\"batry\",\"chargingsmart\",\"aluminum\",\"403ppi3\",\"4x\",\"2ghz\",\"5104\",\"andro\",\"wit1\",\"4ghzhexa\",\"beexpanded\",\"hot\",\"amanzing\",\"phonexiaomi\",\"chip\",\"budget3gb\",\"5ghz\",\"cake\",\"tjis\",\"satisfy\",\"hunger\",\"diaplay\",\"free\",\"crazy\",\"rich\",\"mo\",\"prosgood\",\"lifeprocessorcamerauser\",\"prise\",\"userfriendly\",\"group\",\"griped\",\"addictional\",\"visual\",\"photography\",\"stell\",\"senn\",\"google\",\"bro\",\"sweet\",\"lister\",\"goid\",\"satta\",\"phonepoor\",\"qualityhanging\",\"problemhigher\",\"rangein\",\"j5\",\"16good\",\"3in\",\"allowedredmi\",\"pictu\",\"conpared\",\"browser\",\"camrea\",\"describe\",\"9999rscolor\",\"8gz\",\"fingerp\",\"unlike\",\"prime\",\"recommendable\",\"snapdragen\",\"engi\",\"professional\",\"weigth\",\"focus\",\"distance\",\"relatives\",\"360\",\"perform\",\"areas\",\"con\",\"mony\",\"pictures\",\"youthe\",\"lowlight\",\"conditions\",\"unhandy\",\"sc\",\"sunlights\",\"dull\",\"blurred\",\"bed\",\"heate\",\"problam\",\"viewers\",\"true\",\"diffects\",\"problams\",\"probleme\",\"hting\",\"gams\",\"ti\",\"valuable\",\"xa0build\",\"operated\",\"probblem\",\"qultiy\",\"crystal\",\"chipest\",\"pitcher\",\"amaze\",\"budge\",\"haa\",\"windows\",\"laptop\",\"guest\",\"lowest\",\"simpily\",\"batery\",\"seeb\",\"befor\",\"imagine\",\"enhancements\",\"21g\",\"camer\",\"mobileits\",\"rang\",\"clea\",\"superp\",\"ofv16\",\"gega\",\"bytes\",\"dualcore\",\"164gm\",\"platform\",\"quaicomm\",\"po4000\",\"auto\",\"cmos\",\"difference\",\"max\",\"dreame\",\"dispay\",\"performence\",\"cle\",\"audience\",\"3plus\",\"4plus\",\"newly\",\"spend\",\"phn\",\"afet\",\"taking\",\"rotate\",\"properlygps\",\"100\",\"correct\",\"failed\",\"rotation\",\"persist\",\"slots\",\"properl\",\"controlls\",\"tvs\",\"internally\",\"fixed\",\"featur\",\"tough\",\"btw\",\"advantages\",\"aware\",\"mad\",\"aswaam\",\"band\",\"trused\",\"platfrom\",\"bettary\",\"pedy\",\"expectation\",\"magnetic\",\"usser\",\"memories\",\"purchased16\",\"absolutely\",\"13megapixel\",\"sexy\",\"question\",\"asked\",\"whether\",\"phonebattery\",\"goodvery\",\"phonecamera\",\"outstandingfingerprint\",\"fastnice\",\"phonenice\",\"featuresvery\",\"processorreally\",\"priceppi\",\"goodhigh\",\"resolutioneverything\",\"bugssuggestion\",\"rush\",\"wait\",\"initial\",\"unboxing\",\"buyers\",\"orde\",\"roll\",\"benchmarks\",\"cor\",\"managed\",\"create\",\"ripples\",\"sub\",\"mi4i\",\"lapped\",\"consumers\",\"arms\",\"worldwide\",\"lees\",\"platf\",\"chinease\",\"budjet\",\"infrared\",\"switch\",\"jabardast\",\"maga\",\"accelometer\",\"weather\",\"defined\",\"technical\",\"seems\",\"parches\",\"somart\",\"phonebecouse\",\"incridble\",\"prizelet\",\"featuresli\",\"beckup\",\"daysxvid\",\"feuters\",\"liike\",\"moives\",\"converte\",\"moths\",\"thingsspecifications\",\"medium\",\"batteryis\",\"supportable\",\"miracle\",\"whit\",\"feathers\",\"release\",\"housing\",\"experiance\",\"innovative\",\"fluid\",\"break\",\"parts\",\"mid\",\"existing\",\"8k\",\"430\",\"efficient\",\"suggestion\",\"solve\",\"hacking\",\"shocked\",\"eyes\",\"believed\",\"chp\",\"opponent\",\"shibaram\",\"trouble\",\"otuer\",\"thsi\",\"badly\",\"canonot\",\"phoneand\",\"proud\",\"owner\",\"july\",\"ten\",\"increases\",\"qurelcomm\",\"17th\",\"2017\",\"invoice\",\"bill\",\"sensitive\",\"rage\",\"advanced\",\"adjustable\",\"pocket\",\"wider\",\"difficulties\",\"december\",\"file\",\"battary\",\"classic\",\"operate\",\"helpful\",\"limited\",\"note3i\",\"defects\",\"2years\",\"solution\",\"instantly\",\"withprofessional\",\"exterior\",\"andthere\",\"scratches\",\"4glite\",\"choosy\",\"electronics\",\"specifically\",\"desire\",\"616\",\"g5\",\"chosen\",\"budgeted\",\"prob\",\"anf\",\"lovers\",\"addition\",\"4glte\",\"jow\",\"flashlight\",\"lagin\",\"64gb\",\"highest\",\"improved\",\"aesowme\",\"lyf\",\"coll\",\"3000mh\",\"recamonded\",\"surffing\",\"downlod\",\"hide\",\"rise\",\"bakup\",\"digital\",\"selifi\",\"qualtiy\",\"pixcle\",\"lolipo\",\"comportable\",\"internel\",\"fix\",\"genretion\",\"avoid\",\"compitabile\",\"friendshere\",\"descriptionkey\",\"featuresaluminum\",\"design5\",\"403ppiqualcomm\",\"510android\",\"ra\",\"virtual\",\"reality\",\"automatic\",\"malfunction\",\"causes\",\"racing\",\"excelllent\",\"vary\",\"someone\",\"realesed\",\"dimension\",\"150\",\"00\\u00e3\",\"70\\u00e3\",\"65\",\"general\",\"weakest\",\"customizati\",\"buildthe\",\"colored\",\"ability\",\"chang\",\"desine\",\"procer\",\"qulati\",\"persanal\",\"opinian\",\"80k\",\"glamorous\",\"lookdashing\",\"hii\",\"multitouch\",\"mem\",\"sponsoredshop\",\"xa011\",\"00amazon\",\"00snapdeal\",\"xa09\",\"indiabuy\",\"modle\",\"sandragon\",\"hangs\",\"water\",\"resistant\",\"disigne\",\"combined\",\"man\",\"coleti\",\"fingarprint\",\"insert\",\"outdoors\",\"photoshoot\",\"services\",\"headset\",\"lauched\",\"combination\",\"bound\",\"30fpsas\",\"concerned\",\"threw\",\"graphically\",\"worlds\",\"entered\",\"comapared\",\"amazed\",\"as16mp\",\"requirement\",\"externa\",\"improves\",\"drastically\",\"reduces\",\"42\\u00e2\",\"aatractive\",\"secure\",\"pursuing\",\"amozon\",\"old\",\"luck\",\"romand\",\"4200mh\",\"16and5mp\",\"bugat\",\"widely\",\"already\",\"songs\",\"hithere\",\"chances\",\"owned\",\"centre\",\"solver\",\"wonted\",\"often\",\"referred\",\"dominantposition\",\"particular\",\"dis\",\"phoen\",\"6month\",\"aperfrct\",\"ome\",\"intersting\",\"expectations\",\"fews\",\"usuage\",\"tempera\",\"appreciating\",\"defect\",\"tray\",\"exist\",\"suffer\",\"frendsxiaomi\",\"among\",\"comapny\",\"tons\",\"compatitive\",\"xa0also\",\"allready\",\"compaired\",\"heigh\",\"fol\",\"mibile\",\"6_\",\"ment\",\"multimedia\",\"specificationthis\",\"allow\",\"uo\",\"bo\",\"feautres\",\"dexember\",\"2016today\",\"bestselling\",\"yr\",\"whe\",\"ehat\",\"butmost\",\"ilove\",\"idontwant\",\"compnes\",\"sugest\",\"poket\",\"package\",\"internell\",\"exilent\",\"focusing\",\"sharp\",\"reall\",\"department\",\"itproduct\",\"cleared\",\"fantabulous\",\"guyz\",\"1980\",\"raghu\",\"probly\",\"fetures\",\"impressible\",\"fature\",\"mazor\",\"simnot\",\"networks\",\"boths\",\"sims\",\"acceptation\",\"11999rs\",\"slippery\",\"compares\",\"scree\",\"snapdragons\",\"upgradeable\",\"nougat\",\"woth\",\"panaroma\",\"brandad\",\"spefication\",\"fixel\",\"fingure\",\"sencer\",\"account\",\"ehich\",\"iy\",\"quiet\",\"whisper\",\"configration\",\"pin\",\"opening\",\"hv\",\"okay\",\"smoother\",\"personaly\",\"improve\",\"backgroud\",\"reload\",\"pikup\",\"capesity\",\"mobilei\",\"writesharewin\",\"mouthshuthttp\",\"www\",\"lumutqrsmqm\",\"ts\",\"reliability\",\"sixth\",\"mi3\",\"covered\",\"gonna\",\"produces\",\"fun\",\"scan\",\"10_12k\",\"generally\",\"outstands\",\"801\",\"gpu\",\"plays\",\"cl\",\"allthe\",\"varierty\",\"ii\",\"elegent\",\"phonethe\",\"rocker\",\"exchange\",\"ya\",\"drained\",\"80\",\"wake\",\"likewise\",\"left\",\"ultr\",\"anticipated\",\"waiting\",\"surrounded\",\"scratch\",\"corning\",\"remanded\",\"young\",\"compete\",\"leeco\",\"le\",\"3\\u00e2\",\"closest\",\"1s\",\"houses\",\"existent\",\"xa0note\",\"capped\",\"xa0it\",\"satisfactory\",\"results\",\"uppe\",\"smarphones\",\"vesion\",\"20000\",\"survivor\",\"quantity\",\"processor3gb\",\"32gbit\",\"unlocks\",\"delivers\",\"ou\",\"rangers\",\"sheer\",\"happiness\",\"booked\",\"unsuccessful\",\"doubled\",\"packaging\",\"uni\",\"corners\",\"mass\",\"osm\",\"gained\",\"enormous\",\"popularity\",\"becuase\",\"strategies\",\"understands\",\"producing\",\"requirements\",\"configurations\",\"dependable\",\"features5\",\"403ppimediatek\",\"mt6795\",\"0ghz\",\"loaded\",\"spread\",\"wednesday\",\"w8\",\"sometime\",\"arrive\",\"met\",\"mpression\",\"angles\",\"grea\",\"exlent\",\"25\",\"05\",\"amazone\",\"lent\",\"cardand\",\"produce\",\"exception\",\"prove\",\"dra\",\"competitors\",\"root\",\"hate\",\"honor\",\"5x\",\"comparison\",\"competitor\",\"beacause\",\"student\",\"upgare\",\"definition\",\"glitch\",\"zen\",\"crunchy\",\"pl\",\"worstits\",\"finction\",\"disgusting\",\"hoursits\",\"improper\",\"dubbed\",\"exacept\",\"improvment\",\"lighting\",\"dissappointed\",\"selfholic\",\"ju\",\"fist\",\"frnd\",\"dewali\",\"injoyed\",\"movies\",\"puschased\",\"nicely\",\"handled\",\"start\",\"quity\",\"adapter\",\"usb\",\"warranty\",\"guide\",\"unremovable\",\"3different\",\"goes\",\"greater\",\"awe\",\"46\",\"enoughstill\",\"problemmiui\",\"customizationcamera\",\"colur\",\"forth\",\"memor\",\"universally\",\"acceptable\",\"firs\",\"wonder\",\"reasons\",\"crispy\",\"gigabytes\",\"experts\",\"megapixcel\",\"penny\",\"research\",\"hesitate\",\"meaningless\",\"twenty\",\"cause\",\"town\",\"password\",\"awsame\",\"ord\",\"cherry\",\"censor\",\"compere\",\"wiht\",\"amzon\",\"snapdrago\",\"xa0xiaomi\",\"xa0hanging\",\"proving\",\"gamer\",\"gan\",\"unimetal\",\"xa0camera\",\"specily\",\"scaner\",\"xiaomipros\",\"backbig\",\"inchnice\",\"downloadable\",\"4k\",\"pad\",\"enhaces\",\"proof\",\"beyond\",\"worht\",\"impressions\",\"102\",\"display3\",\"suddenly\",\"drain\",\"crap\",\"89\",\"airplane\",\"decreased\",\"33\",\"theam\",\"xa04g\",\"xa0has\",\"highlights\",\"wort\",\"guru\",\"bank\",\"fragile\",\"frontal\",\"materials\",\"rn3\",\"detecting\",\"roaming\",\"shailesh\",\"dankhara\",\"graphy\",\"featurs\",\"veru\",\"nikon\",\"d4\",\"fingervery\",\"processno\",\"scans\",\"3specs\",\"four\",\"blows\",\"changes\",\"ecosystem\",\"spot\",\"struggles\",\"classy\",\"superbs\",\"usewhen\",\"4100mah\",\"2daysits\",\"snapdrogon\",\"experiece\",\"issueswhen\",\"lifetime\",\"lovly\",\"heartok\",\"story\",\"parchase\",\"sansung\",\"2also\",\"scale\",\"crave\",\"hav\",\"mnths\",\"itits\",\"rangedecent\",\"ajd\",\"7mm\",\"thisfeatures\",\"phonesnapdragon\",\"processor4000\",\"ampere\",\"battery16mp\",\"faeture\",\"tk\",\"iys\",\"vhepest\",\"l\",\"mobi\",\"xa0internal\",\"relative\",\"xa0so\",\"gal\",\"iphones\",\"fabulus\",\"freindly\",\"fingreprint\",\"glasses\",\"standby\",\"occasionally\",\"guaranteely\",\"dimmed\",\"megapixels\",\"feedback\",\"fas\",\"dumb\",\"connects\",\"enhance\",\"timid\",\"silly\",\"000rs\",\"malfunctioning\",\"inserting\",\"demerits\",\"june\",\"universal\",\"assitive\",\"filters\",\"drops\",\"protecter\",\"5pm\",\"resolition\",\"ia\",\"mobilecamera\",\"performers\",\"goodno\",\"problemredmi\",\"goodthis\",\"itsim\",\"osscumthis\",\"fullback\",\"goodhybrid\",\"resently\",\"inbuily\",\"baxk\",\"bestest\",\"ab\",\"rangexiaome\",\"thumps\",\"experince\",\"august\",\"sort\",\"remarkabl\",\"affortable\",\"alrounder\",\"surfing\",\"featureas\",\"nyc\",\"mobilethe\",\"experienc\",\"gote\",\"award\",\"modal\",\"advose\",\"plzzz\",\"favert\",\"locking\",\"beery\",\"beater\",\"dim\",\"ices\",\"consertentec\",\"batteri\",\"mobilethis\",\"block\",\"xiao\",\"succ\",\"10000k\",\"performace\",\"priduct\",\"stack\",\"tsk\",\"dj\",\"su\",\"dc\",\"rndbbsbshsgsvsvsggsgsgsgsgsgsgsgsgsjjsisusuzuzjzjzytahzbfssjtsjtshdkdkydhdmhdhldkhdhldhlduldkhdludludluflhdhlflhdkudulelekydkdhmdmhdhdlhd\",\"dluflufulflufulr\",\"smartphonein\",\"finishingbattery\",\"awesomemobile\",\"tumb\",\"upgood\",\"nicehybrid\",\"simslot4g\",\"phonevideo\",\"awesomecamera\",\"awesomexiaomi\",\"apperance\",\"with3gb\",\"lik\",\"charges\",\"percent\",\"thirty\",\"minute\",\"monster\",\"40k\",\"androi\",\"planning\",\"explorer\",\"program\",\"complete\",\"poorly\",\"yesterday\",\"delivery\",\"opened\",\"looked\",\"loo\",\"spects\",\"highlighting\",\"factors\",\"constructed\",\"bett\",\"ready\",\"bod\",\"xieomi\",\"nearest\",\"cousin\",\"entertainment\",\"ios\",\"superbbbb\",\"mon\",\"hay\",\"guyzz\",\"inbuild\",\"held\",\"position\",\"famous\",\"awaited\",\"releasing\",\"pricing\",\"regain\",\"fans\",\"foremost\",\"stunned\",\"interna\",\"tera\",\"dhiyan\",\"kidhar\",\"idher\",\"amezing\",\"frist\",\"xa0this\",\"modelsfrist\",\"for11999\",\"cameraprime\",\"foto\",\"shut\",\"guaranty\",\"seeing\",\"tak\",\"breakthrough\",\"addict\",\"lunched\",\"9th\",\"focous\",\"pafamence\",\"phoneeee\",\"helllo\",\"glad\",\"xa0yestrday\",\"3belive\",\"mammoth\",\"veri\",\"ondesignthe\",\"yash\",\"yadav\",\"camerarear\",\"specif\",\"noticing\",\"warming\",\"hardcore\",\"devic\",\"phome\",\"slick\",\"thease\",\"scanner3gb\",\"fasterand\",\"hmmm\",\"aww\",\"kinda\",\"prosbattery\",\"goodcomparatively\",\"speedest\",\"phoneslooks\",\"okk\",\"typecons\",\"expendables\",\"wrost\",\"arises\",\"responding\",\"reopen\",\"hlo\",\"xiaomithis\",\"dominant\",\"fiber\",\"blend\",\"seamlessly\",\"foe\",\"mt\",\"manufacture\",\"sepecification\",\"manufactured\",\"functioning\",\"varriety\",\"role\",\"recommendi\",\"cracked\",\"fell\",\"height\",\"eats\",\"tends\",\"prashanth\",\"bullet\",\"heaten\",\"vood\",\"yoir\",\"npt\",\"dosto\",\"150gm\",\"performancegood\",\"baterrynice\",\"frontthe\",\"ultrafast\",\"lighter\",\"ppl\",\"cinema\",\"qualit\",\"profomance\",\"exprince\",\"solt\",\"uae\",\"inc\",\"los\",\"upgadeble\",\"0s\",\"included\",\"dislay\",\"highease\",\"rumours\",\"shortly\",\"show\",\"close\",\"reddy\",\"redmi3s\",\"vgood\",\"1month\",\"waythis\",\"phonesthe\",\"moneythe\",\"moretouch\",\"lastly\",\"rn3light\",\"authentic\",\"hong\",\"issuo\",\"clearcamera\",\"5ips\",\"1920x1080\",\"touchscren\",\"priamary\",\"32rom\",\"lithiam\",\"polymer\",\"wint\",\"backupits\",\"goodthe\",\"gamingi\",\"gamingmi\",\"centretheir\",\"employee\",\"sho\",\"suggested\",\"feachers\",\"decreasing\",\"worse\",\"breaking\",\"street\",\"dog\",\"helping\",\"issuse\",\"jack\",\"softwer\",\"rosulution\",\"removel\",\"wihich\",\"supoort\",\"qulaity\",\"speeker\",\"louderthe\",\"smothdegine\",\"simplerange\",\"rangenot\",\"bettetbut\",\"lessbut\",\"ggod\",\"produced\",\"xiaomii\",\"3the\",\"usingthis\",\"andafter\",\"mysidein\",\"things1\",\"awesomesound\",\"receiption\",\"feauture\",\"containg\",\"accurat\",\"geek\",\"else\",\"ice\",\"abut\",\"sma\",\"prior\",\"whi\",\"in10\",\"fill\",\"5inchipsfull\",\"androd\",\"phonei\",\"fastits\",\"solidits\",\"muchfingerprint\",\"4050mhz\",\"heav\",\"fr\",\"blured\",\"claims\",\"thr\",\"senaor\",\"bass\",\"trans\",\"supper\",\"adorable\",\"featuers\",\"youit\",\"innovated\",\"featuresand\",\"cameraboth\",\"basiclly\",\"inbu\",\"perches\",\"node\",\"sounnd\",\"creating\",\"campare\",\"cloud\",\"gla\",\"quaility\",\"boardclass\",\"lifegood\",\"qualityvalue\",\"packagegood\",\"lightaverage\",\"performanceno\",\"prolonged\",\"usageruns\",\"wowwwww\",\"hearing\",\"10handy\",\"phaplet\",\"disply\",\"hevevy\",\"esy\",\"playable\",\"lowlighting\",\"enabled\",\"itsls\",\"timing\",\"baap\",\"gaget\",\"merket\",\"becaus\",\"wet\",\"xa0price\",\"awasome\",\"lolllypop\",\"slowmotion\",\"persent\",\"desrve\",\"probl\",\"bay\",\"purches\",\"12000but\",\"8000\",\"9000this\",\"feuture\",\"18ghz\",\"production\",\"441\",\"rahul\",\"xa0under\",\"15000k\",\"14999k\",\"itsprice\",\"xa0the\",\"vivo\",\"y51l\",\"tilting\",\"direction\",\"bu\",\"severely\",\"window\",\"blink\",\"moneyand\",\"3weeks\",\"nowadays\",\"balance\",\"knowledgeit\",\"mobilesthis\",\"extremely\",\"browsingthis\",\"2s\",\"itss\",\"noye\",\"supperb\",\"rexommend\",\"companis\",\"capt\",\"movile\",\"outlook\",\"matelic\",\"struck\",\"moves\",\"completly\",\"toooo\",\"weightand\",\"perforance\",\"sounds\",\"indeed\",\"managable\",\"delayal\",\"superbb\",\"21\",\"15days\",\"sta\",\"excelent\",\"espeacly\",\"lookong\",\"gerat\",\"excelient\",\"41000mh\",\"batary\",\"hungry\",\"stuff\",\"requires\",\"horsepower\",\"fluidly\",\"warm\",\"playi\",\"da\",\"laggy\",\"background\",\"therefore\",\"2pm\",\"here\\u00e2\",\"comeback\",\"company\\u00e2\",\"4i\",\"april\",\"complaint\",\"3this\",\"mobilr\",\"cheapand\",\"scanerabout\",\"mobilein\",\"sn\",\"crack\",\"gratest\",\"32mb\",\"displayed\",\"6s\",\"stood\",\"wrst\",\"ideal\",\"telephone\",\"began\",\"temp\",\"resembled\",\"47\\u00e2\",\"excessive\",\"neck\",\"sake\",\"divyam\",\"marshmallo\",\"liket\",\"usd\",\"forant\",\"gigh\",\"extranal\",\"2st\",\"unde\",\"sceanner\",\"sceand\",\"amh\",\"battery1\",\"proceser\",\"sanapdragen\",\"615\",\"hesitation\",\"processorbest\",\"rambest\",\"camerabest\",\"storagebest\",\"resolutionbest\",\"notificationsbest\",\"lookbest\",\"qualitybest\",\"sen\",\"ike\",\"comfort\",\"basis\",\"bsst\",\"several\",\"ahead\",\"choise\",\"reaquest\",\"peole\",\"empression\",\"hooiyday\",\"iphone5s\",\"arround\",\"demerit\",\"redme\",\"rote\",\"ihave\",\"megapickcels\",\"megapic\",\"disturbence\",\"potion\",\"itz\",\"phonefeatures\",\"cleartity\",\"flip\",\"phonee\",\"goning\",\"rating\",\"bettser\",\"heatup\",\"smoot\",\"gift\",\"passing\",\"sped\",\"catching\",\"batterysnapdragon\",\"6504\",\"3gbinternal\",\"expandabledisplay\",\"5inchbattery\",\"4050mahsim\",\"cho\",\"normally\",\"serious\",\"damaged\",\"broken\",\"sliped\",\"pockets\",\"respond\",\"featureand\",\"overhiting\",\"iconic\",\"zordaar\",\"fresh\",\"dissapointed\",\"instances\",\"dining\",\"table\",\"eating\",\"feet\",\"calarity\",\"figureprint\",\"move\",\"length\",\"install\",\"choosing\",\"confident\",\"interms\",\"february\",\"coool\",\"flavours\",\"fechers\",\"coooool\",\"1920\\u00e3\",\"1280\",\"phonemy\",\"birthdayits\",\"999it\",\"artificial\",\"blurry\",\"3is\",\"batrery\",\"bithout\",\"hegitation\",\"everthing\",\"satisfying\",\"radmi\",\"line\",\"enthusiast\",\"gbscreen\",\"hdbattery\",\"poly\",\"softwares\",\"gallery\",\"contacts\",\"messaging\",\"likelong\",\"againclear\",\"clarityexcellent\",\"frontfinger\",\"suuuuper\",\"3rocks\",\"3last\",\"rwo\",\"betery\",\"moblies\",\"oriented\",\"tho\",\"pgone\",\"galaxies\",\"confusion\",\"head\",\"headphone\",\"settings\",\"fearures\",\"comprasion\",\"noat\",\"4100mha\",\"32gd\",\"ope\",\"weighted\",\"rebuilt\",\"clone\",\"continues\",\"aswm\",\"survive\",\"playa\",\"double\",\"flashlong\",\"xa0using\",\"larg\",\"prons1\",\"gio\",\"andreno\",\"twic\",\"depends\",\"15daysi\",\"expirence\",\"foundthe\",\"disapointed\",\"miss\",\"gamming\",\"afortable\",\"thumb\",\"pixels2\",\"clicking\",\"photographs\",\"powerfully\",\"smatphone\",\"premimum\",\"advantage\",\"figerprint\",\"presonally\",\"newlly\",\"principal\",\"arrangement\",\"excessively\",\"cumbersome\",\"overwhelming\",\"bended\",\"plan\",\"appreciate\",\"specifations\",\"eith\",\"change\",\"unlo\",\"compaire\",\"pros1\",\"swiped\",\"psc\",\"preminium\",\"ad\",\"desigined\",\"greate\",\"noice\",\"5c\",\"wife\",\"rely\",\"urge\",\"inveset\",\"wanted\",\"numerous\",\"itslef\",\"phenomenal\",\"qwality\",\"kenzo\",\"saying\",\"smarth\",\"personalized\",\"hundreds\",\"mater\",\"touc\",\"variants1\",\"999rs2\",\"999rsboth\",\"segments\",\"masterstroke\",\"internalguddddddddddddddddddddddddd\",\"phoneeeeeeeeeeeeeeeeeeeeeeeeeeeeosm\",\"camerathe\",\"20000excellent\",\"phoneeeeeeeeeeeeeeeeeeeeeeeee\",\"throw\",\"handsome\",\"guess\",\"decision\",\"categories1\",\"excellentbatter\",\"beats\",\"competitos\",\"impresses\",\"fulfills\",\"brillaint\",\"sarthak\",\"sharandeep\",\"trail\",\"futureser\",\"beatiful\",\"awsmm\",\"hangecemera\",\"oct\",\"astonish\",\"qua\",\"monthsthe\",\"superbly\",\"awesomesince\",\"fulfilled\",\"requiremebtsits\",\"facili\",\"8mhz\",\"perfoms\",\"4080mah\",\"points\",\"lasted\",\"laggin\",\"otg\",\"pendrive\",\"5d\",\"secondery\",\"laser\",\"soubhagya\",\"midrange\",\"tail\",\"viral\",\"unlimited\",\"makeusviral\",\"https\",\"youtu\",\"example\",\"joking\",\"bake\",\"flase\",\"syle\",\"evey\",\"arudbdjhddddidddi\",\"hdbkdjdbdhdbdb\",\"dhdhdjdbdjdjdjjdjdjdjd\",\"hdhdbhdjdjdjjdjdjd\",\"dhdbjdjdjdbid\",\"djdjididjdbjdjd\",\"dhdikdjdnd\",\"dhdjididisueuud\",\"dhdhhduudjdbdnieie\",\"sjsjjsjsisisiisieieiei\",\"dhdududjdiidjdkdo\",\"djdjdjjdjdiieueueieooeos\",\"sjjdisosksjnsbdhs\",\"hdjidksn\",\"desingis\",\"thumbs\",\"bye\",\"goodnight\",\"moblie\",\"sensore\",\"techno\",\"beggest\",\"coustomer\",\"surat\",\"repair\",\"comfetable\",\"fe\",\"secondly\",\"anymore\",\"speaking\",\"13mega\",\"pixles\",\"sumsung\",\"finished\",\"thatd\",\"suggesting\",\"portable\",\"freinds\",\"feelthis\",\"hiii\",\"prodect\",\"functi\",\"exciting\",\"invented\",\"fincher\",\"microsoft\",\"office\",\"isley\",\"esely\",\"lease\",\"extended\",\"receive\",\"usedxiaomi\",\"iron\",\"searched\",\"yearit\",\"beautify\",\"handed\",\"document\",\"strongly\",\"agree\",\"observe\",\"goodcamera\",\"usbattery\",\"suffiecient\",\"pricedesiegn\",\"goodram\",\"satisfiedbut\",\"9500\",\"rsso\",\"qualityvivid\",\"displaystrong\",\"performancevery\",\"lifeoffers\",\"valueexpandable\",\"32gbcamera\",\"af\",\"pi\",\"charg\",\"monthes\",\"2018\",\"networking\",\"quit\",\"stasifying\",\"phoneit\",\"romit\",\"bestit\",\"fingers\",\"sensorheadphone\",\"phonesi\",\"yeartill\",\"longer\",\"batter\",\"developers\",\"roms\",\"shipped\",\"tis\",\"destroyed\",\"strucking\",\"mrans\",\"spme\",\"apposing\",\"ligthwigth\",\"voluthe\",\"controls\",\"falling\",\"star\",\"mast\",\"bilkul\",\"bat\",\"sensetive\",\"beautyfull\",\"karbon\",\"ev\",\"changed\",\"bright\",\"usegood\",\"mounth\",\"sont\",\"becouse\",\"vand\",\"smoothness\",\"qualitie\",\"seconds\",\"goooooooooooooooooooooooooooooooooooood\",\"moremany\",\"poeple\",\"hiden\",\"filesto\",\"files\",\"tap\",\"128external\",\"octaprocceser\",\"0hd\",\"looksappearance\",\"grip\",\"soumyajit\",\"1st\",\"attarckted\",\"specailly\",\"mobailand\",\"niceand\",\"forfamens\",\"speedlycamera\",\"ferfomensand\",\"vertion\",\"nicemobail\",\"metel\",\"bodysmooth\",\"prige\",\"11000and\",\"in11000thousend\",\"andbest\",\"fofamen\",\"bever\",\"inp\",\"loce\",\"snapdragonafter\",\"v8\",\"mhomidi\",\"stable\",\"observing\",\"alishan\",\"xa0not\",\"xa0but\",\"xa0have\",\"owsome\",\"comparesion\",\"assaries\",\"woman\",\"messages\",\"recorder\",\"motions\",\"updation\",\"1000\",\"ruppes\",\"senario\",\"buys\",\"sheen\",\"resilient\",\"donot\",\"recieve\",\"proportioned\",\"element\",\"prevent\",\"muffled\",\"64gbit\",\"12th\",\"quilities\",\"mention\",\"worried\",\"initially\",\"phone\\u00e2\",\"catchy\",\"glance\",\"sure\",\"exapandable\",\"editing\",\"ms\",\"excell\",\"tal\",\"rs11\",\"upgrade\",\"ive\",\"reguarding\",\"indoore\",\"hol\",\"competetion\",\"backside\",\"aaa\",\"emi\",\"avaivle\",\"prduct\",\"aviable\",\"60\",\"pcsand\",\"listening\",\"headphones\",\"personalised\",\"defa\",\"lts\",\"supersmooth\",\"flawless\",\"swift\",\"arrow\",\"hiccups\",\"wile\",\"extent\",\"considerabl\",\"beautyful\",\"aporeciable\",\"cinsider\",\"compar\",\"virus\",\"canera\",\"greart\",\"perfarmance\",\"oms\",\"prossesor\",\"scener\",\"sum\",\"customise\",\"frond\",\"bold\",\"sensers\",\"segement\",\"stockand\",\"note3and\",\"note4and\",\"betterand\",\"prefect\",\"abount\",\"seep\",\"execent\",\"wrod\",\"andrio\",\"limt\",\"abhi\",\"padaliyaand\",\"likes\",\"noted\",\"positiv\",\"fulfill\",\"reveals\",\"greatness\",\"betterness\",\"defeats\",\"needstouch\",\"phonesthere\",\"lightning\",\"purely\",\"heyredmi\",\"ni\",\"worki\",\"nominal\",\"overcome\",\"weakness\",\"720p\",\"obvious\",\"vibrant\",\"fon\",\"birthday\",\"jealous\",\"unbelievable\",\"youcam\",\"mekes\",\"smalle\",\"impress\",\"reduce\",\"supb\",\"request\",\"roommet\",\"excelant\",\"radio\",\"c9mpany\",\"kts\",\"picksel\",\"desingn\",\"limita\",\"fairly\",\"alerts\",\"stereo\",\"effect\",\"functional\",\"switchset\",\"0apertu\",\"weekly\",\"0platform\",\"bhut\",\"aacha\",\"es\",\"nhi\",\"mik\",\"skta\",\"gys\",\"eska\",\"dikhne\",\"silm\",\"jaise\",\"lgta\",\"jo\",\"bale\",\"prosessing\",\"comfertable\",\"ro\",\"advices\",\"suggestions\",\"fire\",\"mobille\",\"moble\",\"veeeeeeeer\",\"siling\",\"derive\",\"eneryg\",\"a4050mah\",\"batterywhich\",\"nature\",\"connectivity\",\"include\",\"802\",\"hots\",\"perrty\",\"ool\",\"describes\",\"cards\",\"elder\",\"heavyweight\",\"wear\",\"prone\",\"fall\",\"saheb\",\"saha\",\"tp\",\"promence\",\"xa03\",\"xa0no\",\"ishue\",\"soung\",\"deep\",\"hos\",\"front5\",\"film\",\"req\",\"gose\",\"progress\",\"eyse\",\"720\",\"goodit\",\"hass\",\"favrt\",\"myy\",\"favrat\",\"maxsimam\",\"thee\",\"ohone\",\"lavel\",\"mry\",\"fried\",\"phonss\",\"alwyas\",\"older\",\"shareit\",\"styel\",\"mother\",\"good1\",\"handy2\",\"slim3\",\"cnc\",\"finish4\",\"feature5\",\"mobile6\",\"phone7\",\"chainese\",\"incredbl\",\"jist\",\"procesing\",\"degisn\",\"walking\",\"vivid\",\"purposeas\",\"gaint\",\"lackness\",\"chargingthe\",\"2a\",\"instantlythe\",\"sience\",\"marsmalow\",\"remotely\",\"considered\",\"pwrformence\",\"damm\",\"sounding\",\"suprb\",\"wins\",\"wel\",\"865\",\"procesor\",\"good13\",\"camera8\",\"camerayou\",\"lens\",\"powerful4g\",\"mobileh\",\"roke\",\"niceone\",\"xnxnzj\",\"quotes\",\"qualified\",\"skills\",\"assured\",\"york\",\"city\",\"not3\",\"midium\",\"cus\",\"betar\",\"consumption\",\"sumthing\",\"finest\",\"awesomee\",\"5fhd\",\"ch\",\"wooow\",\"infornt\",\"magic\",\"realised\",\"3months\",\"prossesing\",\"recordin\",\"divice\",\"realty\",\"fictures\",\"xr\",\"finishes\",\"reshmi\",\"accessibility\",\"lookdesign\",\"attractivevalue\",\"moneyperson\",\"reliablei\",\"awesum\",\"primery\",\"cemer\",\"sow\",\"smarthi\",\"loudly\",\"vip\",\"smartness\",\"exiting\",\"phoine\",\"verey\",\"installed\",\"sdcard\",\"confirmed\",\"limit\",\"reviewers\",\"mentioning\",\"formating\",\"plate\",\"shine\",\"esey\",\"pergent\",\"avai\",\"sucessfull\",\"handel\",\"oustanding\",\"uiit\",\"slik\",\"reactions\",\"easelisy\",\"monhth\",\"sothe\",\"smartp\",\"peo\",\"fear\",\"charming\",\"sleem\",\"feachurs\",\"fablous\",\"karsh\",\"awasum\",\"itbest\",\"photographywth\",\"featuresfast\",\"attension\",\"gripping\",\"pricewhich\",\"budgeti\",\"select\",\"ossum\",\"useless\",\"aby\",\"aswell\",\"awsem\",\"size5\",\"inchresolution1080x1920\",\"pixelsstorage16gbprocessor1\",\"coreram2gbrear\",\"camera16\",\"megapixelfront\",\"camera5\",\"megapixelosandroid\",\"1battery\",\"capacity4050mahfull\",\"specificationsxiaomi\",\"xa0detailed\",\"specificationsgeneralrelease\",\"datenovember\",\"2015form\",\"factortouchscre\",\"later\",\"oppo\",\"f1s\",\"laughing\",\"4months\",\"ishybrid\",\"sacrifice\",\"blur\",\"remaining\",\"budeget\",\"11cm\",\"whitethe\",\"ear\",\"bud\",\"hq\",\"removaleable\",\"dated\",\"original\",\"potent\",\"bugget\",\"usually\",\"outdated\",\"gadgets\",\"perception\",\"emerging\",\"segmentit\",\"choi\",\"abel\",\"bracket\",\"3xiaomi\",\"staring\",\"mtal\",\"matal\",\"screaches\",\"biiiiiiig\",\"with4050mah\",\"batterya\",\"peace\",\"690wh\",\"26\",\"weighing\",\"perspective\",\"registration\",\"memory5\",\"vid\",\"xa0mi\",\"haxacore\",\"xa0and\",\"hub\",\"featuresit\",\"display16\",\"frant\",\"camera4000\",\"timeit\",\"smarter\",\"venkat\",\"registered\",\"whetherbi\",\"lac\",\"registrations\",\"booking\",\"tube\",\"rip\",\"lenova\",\"snapdraogon\",\"clocked\",\"introduces\",\"chirag\",\"science\",\"dec\",\"gi\",\"xa0flaunts\",\"080\",\"day\\u00e2\",\"budgets\",\"infoc\",\"launchfuture\",\"workand\",\"andso\",\"antic\",\"great32gb\",\"3gbram\",\"coolvery\",\"printnicr\",\"workthis\",\"coupled\",\"newest\",\"frm\",\"ran\",\"instered\",\"itvwas\",\"reliance\",\"othrwise\",\"adding\",\"figure\",\"11k\",\"removal\",\"4400mah\",\"modes\",\"intended\",\"conserv\",\"spares\",\"lift\",\"landline\",\"custome\",\"toy\",\"girl\",\"hugo\",\"sir\",\"6processor\",\"10k2\",\"excellent3\",\"grey4\",\"carema\",\"excellent5\",\"snapdrogn\",\"awesome6\",\"light7\",\"rupess\",\"conifrom\",\"atleast\",\"tata\",\"docomo\",\"availabe\",\"shoping\",\"choices\",\"3highly\",\"customised\",\"dot\",\"individual\",\"locks\",\"money16\",\"upyog\",\"with5\",\"displa\",\"happend\",\"sep\",\"mom\",\"bec\",\"verion\",\"15ki\",\"awesomeeven\",\"chatting\",\"youtubing\",\"useawesome\",\"itis\",\"custamisation\",\"24\",\"delhi\",\"ta\",\"rn4\",\"announce\",\"hamper\",\"sexiest\",\"displaymediatek\",\"xiopmi\",\"fea\",\"buzz\",\"gorgeous\",\"lacking\",\"proformas\",\"mood\",\"proform\",\"questions\",\"pull\",\"towards\",\"fallacious\",\"unobservant\",\"chi\",\"simplicity\",\"innovation\",\"fact\",\"rooted\",\"stiff\",\"smarty\",\"gooddd\",\"micromax\",\"canvas\",\"spark\",\"xa0after\",\"wooooo\",\"beaset\",\"10performance\",\"hourscons\",\"summary\",\"smartest\",\"smartphoneits\",\"creation\",\"650it\",\"fingerit\",\"xa0battery\",\"4000mh\",\"xa01day\",\"beone\",\"backdrop\",\"stoler\",\"stolen\",\"650couple\",\"sensors3\",\"giant\",\"unbeleiveable\",\"picky\",\"pm\",\"11th\",\"thax\",\"reached\",\"14th\",\"5bod\",\"house\",\"ere\",\"amezon\",\"anroide\",\"galaxy\",\"2013\",\"50000rs\",\"packe\",\"prblmzzzz\",\"recmt\",\"bugst\",\"shud\",\"fectz\",\"dissapoint\",\"thnk\",\"butnwhat\",\"evr\",\"performanceremember\",\"headphoneso\",\"sim2\",\"mamory\",\"comin\",\"collest\",\"evry\",\"affordand\",\"impressiveand\",\"noye3\",\"imroved\",\"hathway\",\"development\",\"buisnessman\",\"wonderfullcamera\",\"slide\",\"times1\",\"good2\",\"good3\",\"medium4\",\"ok6\",\"missing\",\"glass7\",\"weightphone\",\"stops\",\"5megapixel\",\"4050battery\",\"packup\",\"10hrs\",\"dinesh\",\"ise\",\"becoz\",\"advertise\",\"tvbut\",\"acuracy\",\"screenthe\",\"combine\",\"mul\",\"bujet\",\"cimpare\",\"expencive\",\"fuxel\",\"content\"],\"x\":{\"__ndarray__\":\"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\",\"dtype\":\"float32\",\"shape\":[5000]},\"y\":{\"__ndarray__\":\"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\",\"dtype\":\"float32\",\"shape\":[5000]}},\"selected\":{\"id\":\"1034\",\"type\":\"Selection\"},\"selection_policy\":{\"id\":\"1035\",\"type\":\"UnionRenderers\"}},\"id\":\"1026\",\"type\":\"ColumnDataSource\"}],\"root_ids\":[\"1002\"]},\"title\":\"Bokeh Application\",\"version\":\"1.4.0\"}};\n",
       "  var render_items = [{\"docid\":\"0d38aaef-5c0c-4784-b9bc-0dc2a22bd3a5\",\"roots\":{\"1002\":\"beb03b69-fe81-40c6-9a7a-059d920ecd3e\"}}];\n",
       "  root.Bokeh.embed.embed_items_notebook(docs_json, render_items);\n",
       "\n",
       "  }\n",
       "  if (root.Bokeh !== undefined) {\n",
       "    embed_document(root);\n",
       "  } else {\n",
       "    var attempts = 0;\n",
       "    var timer = setInterval(function(root) {\n",
       "      if (root.Bokeh !== undefined) {\n",
       "        clearInterval(timer);\n",
       "        embed_document(root);\n",
       "      } else {\n",
       "        attempts++;\n",
       "        if (attempts > 100) {\n",
       "          clearInterval(timer);\n",
       "          console.log(\"Bokeh: ERROR: Unable to run BokehJS code because BokehJS library is missing\");\n",
       "        }\n",
       "      }\n",
       "    }, 10, root)\n",
       "  }\n",
       "})(window);"
      ],
      "application/vnd.bokehjs_exec.v0+json": ""
     },
     "metadata": {
      "application/vnd.bokehjs_exec.v0+json": {
       "id": "1002"
      }
     },
     "output_type": "display_data"
    }
   ],
   "source": [
    "# Importing bokeh libraries for showing how words of similar context are grouped together\n",
    "import bokeh.plotting as bp\n",
    "from bokeh.models import HoverTool, BoxSelectTool\n",
    "from bokeh.plotting import figure, show, output_notebook\n",
    "\n",
    "#Defining the chart\n",
    "output_notebook()\n",
    "plot_chart = bp.figure(plot_width=700, plot_height=600, title=\"A map/plot of 5000 word vectors\",\n",
    "    tools=\"pan,wheel_zoom,box_zoom,reset,hover,previewsave\",\n",
    "    x_axis_type=None, y_axis_type=None, min_border=1)\n",
    "\n",
    "#Extracting the list of word vectors, limiting to 5000, each is of 200 dimensions\n",
    "word_vectors = [w2v_model[w] for w in list(w2v_model.wv.vocab.keys())[:5000]]\n",
    "\n",
    "# Reducing dimensionality by converting the vectors to 2d vectors\n",
    "from sklearn.manifold import TSNE\n",
    "tsne_model = TSNE(n_components=2, verbose=1, random_state=0)\n",
    "tsne_w2v = tsne_model.fit_transform(word_vectors)\n",
    "\n",
    "# Storing data in a dataframe\n",
    "tsne_df = pd.DataFrame(tsne_w2v, columns=['x', 'y'])\n",
    "tsne_df['words'] = list(w2v_model.wv.vocab.keys())[:5000]\n",
    "\n",
    "# Corresponding word appears when you hover on the data point.\n",
    "plot_chart.scatter(x='x', y='y', source=tsne_df)\n",
    "hover = plot_chart.select(dict(type=HoverTool))\n",
    "hover.tooltips={\"word\": \"@words\"}\n",
    "show(plot_chart)\n"
   ]
  },
  {
   "cell_type": "code",
   "execution_count": 15,
   "metadata": {
    "colab": {},
    "colab_type": "code",
    "id": "-uCWrBYFG1a3"
   },
   "outputs": [],
   "source": [
    "#Save word embedding model\n",
    "model_file = 'mobilereviews_word2vec_embedding.txt'\n",
    "w2v_model.wv.save_word2vec_format(model_file, binary=False)"
   ]
  },
  {
   "cell_type": "code",
   "execution_count": 16,
   "metadata": {},
   "outputs": [],
   "source": [
    "def average_word_vectors(words, model, vocabulary, num_features):\n",
    "    \n",
    "    feature_vector = np.zeros((num_features,),dtype=\"float64\")\n",
    "    nwords = 0.\n",
    "    \n",
    "    for word in words:\n",
    "        if word in vocabulary: \n",
    "            nwords = nwords + 1.\n",
    "            feature_vector = np.add(feature_vector, model[word])\n",
    "    \n",
    "    if nwords:\n",
    "        feature_vector = np.divide(feature_vector, nwords)\n",
    "        \n",
    "    return feature_vector"
   ]
  },
  {
   "cell_type": "code",
   "execution_count": 17,
   "metadata": {},
   "outputs": [
    {
     "name": "stderr",
     "output_type": "stream",
     "text": [
      "C:\\Users\\halapets\\AppData\\Local\\Continuum\\anaconda3\\lib\\site-packages\\ipykernel_launcher.py:9: DeprecationWarning: Call to deprecated `__getitem__` (Method will be removed in 4.0.0, use self.wv.__getitem__() instead).\n",
      "  if __name__ == '__main__':\n"
     ]
    }
   ],
   "source": [
    "def averaged_word_vectorizer(corpus, model, num_features):\n",
    "    vocabulary = set(model.wv.index2word)\n",
    "    features = [average_word_vectors(tokenized_sentence, model, vocabulary, num_features)\n",
    "                    for tokenized_sentence in corpus]\n",
    "    return np.array(features)\n",
    "\n",
    "\n",
    "# get document level embeddings\n",
    "w2v_feature_array = averaged_word_vectorizer(corpus=review_data_list, model=w2v_model,\n",
    "                                             num_features=feature_size)\n",
    "WordVectors_Reviews=pd.DataFrame(w2v_feature_array)"
   ]
  },
  {
   "cell_type": "code",
   "execution_count": 18,
   "metadata": {},
   "outputs": [
    {
     "data": {
      "text/html": [
       "<div>\n",
       "<style scoped>\n",
       "    .dataframe tbody tr th:only-of-type {\n",
       "        vertical-align: middle;\n",
       "    }\n",
       "\n",
       "    .dataframe tbody tr th {\n",
       "        vertical-align: top;\n",
       "    }\n",
       "\n",
       "    .dataframe thead th {\n",
       "        text-align: right;\n",
       "    }\n",
       "</style>\n",
       "<table border=\"1\" class=\"dataframe\">\n",
       "  <thead>\n",
       "    <tr style=\"text-align: right;\">\n",
       "      <th></th>\n",
       "      <th>0</th>\n",
       "      <th>1</th>\n",
       "      <th>2</th>\n",
       "      <th>3</th>\n",
       "      <th>4</th>\n",
       "      <th>5</th>\n",
       "      <th>6</th>\n",
       "      <th>7</th>\n",
       "      <th>8</th>\n",
       "      <th>9</th>\n",
       "      <th>...</th>\n",
       "      <th>290</th>\n",
       "      <th>291</th>\n",
       "      <th>292</th>\n",
       "      <th>293</th>\n",
       "      <th>294</th>\n",
       "      <th>295</th>\n",
       "      <th>296</th>\n",
       "      <th>297</th>\n",
       "      <th>298</th>\n",
       "      <th>299</th>\n",
       "    </tr>\n",
       "  </thead>\n",
       "  <tbody>\n",
       "    <tr>\n",
       "      <th>0</th>\n",
       "      <td>1.022589</td>\n",
       "      <td>0.688309</td>\n",
       "      <td>1.070159</td>\n",
       "      <td>0.975018</td>\n",
       "      <td>0.060358</td>\n",
       "      <td>-0.053832</td>\n",
       "      <td>-0.161739</td>\n",
       "      <td>0.729164</td>\n",
       "      <td>-0.538548</td>\n",
       "      <td>0.238769</td>\n",
       "      <td>...</td>\n",
       "      <td>-0.801927</td>\n",
       "      <td>-0.190892</td>\n",
       "      <td>0.309637</td>\n",
       "      <td>0.891734</td>\n",
       "      <td>1.145081</td>\n",
       "      <td>-1.176512</td>\n",
       "      <td>-0.005053</td>\n",
       "      <td>-0.615818</td>\n",
       "      <td>-0.261883</td>\n",
       "      <td>-0.449405</td>\n",
       "    </tr>\n",
       "    <tr>\n",
       "      <th>1</th>\n",
       "      <td>-0.219399</td>\n",
       "      <td>0.962522</td>\n",
       "      <td>0.053346</td>\n",
       "      <td>0.589284</td>\n",
       "      <td>0.011429</td>\n",
       "      <td>-0.329199</td>\n",
       "      <td>-0.238914</td>\n",
       "      <td>-0.224604</td>\n",
       "      <td>-0.779772</td>\n",
       "      <td>0.499894</td>\n",
       "      <td>...</td>\n",
       "      <td>-0.750694</td>\n",
       "      <td>-0.959061</td>\n",
       "      <td>-0.343396</td>\n",
       "      <td>-0.470464</td>\n",
       "      <td>-0.244004</td>\n",
       "      <td>-1.012518</td>\n",
       "      <td>0.328074</td>\n",
       "      <td>0.021891</td>\n",
       "      <td>0.124556</td>\n",
       "      <td>1.341325</td>\n",
       "    </tr>\n",
       "    <tr>\n",
       "      <th>2</th>\n",
       "      <td>0.376903</td>\n",
       "      <td>-0.300820</td>\n",
       "      <td>0.325995</td>\n",
       "      <td>-0.381359</td>\n",
       "      <td>0.591459</td>\n",
       "      <td>-0.541904</td>\n",
       "      <td>-0.255045</td>\n",
       "      <td>-0.701519</td>\n",
       "      <td>0.015326</td>\n",
       "      <td>0.688321</td>\n",
       "      <td>...</td>\n",
       "      <td>-0.358607</td>\n",
       "      <td>-0.678292</td>\n",
       "      <td>0.534142</td>\n",
       "      <td>-0.105169</td>\n",
       "      <td>-0.085793</td>\n",
       "      <td>-0.691862</td>\n",
       "      <td>0.519848</td>\n",
       "      <td>-1.230084</td>\n",
       "      <td>-0.665120</td>\n",
       "      <td>0.392887</td>\n",
       "    </tr>\n",
       "    <tr>\n",
       "      <th>3</th>\n",
       "      <td>0.984065</td>\n",
       "      <td>-0.551623</td>\n",
       "      <td>0.067107</td>\n",
       "      <td>-0.092602</td>\n",
       "      <td>0.018444</td>\n",
       "      <td>-0.048162</td>\n",
       "      <td>0.447052</td>\n",
       "      <td>-0.406357</td>\n",
       "      <td>0.457552</td>\n",
       "      <td>-0.313608</td>\n",
       "      <td>...</td>\n",
       "      <td>0.660338</td>\n",
       "      <td>0.406104</td>\n",
       "      <td>0.610576</td>\n",
       "      <td>-0.192507</td>\n",
       "      <td>-0.546448</td>\n",
       "      <td>-0.169900</td>\n",
       "      <td>-0.251967</td>\n",
       "      <td>0.347984</td>\n",
       "      <td>-0.373781</td>\n",
       "      <td>0.628393</td>\n",
       "    </tr>\n",
       "    <tr>\n",
       "      <th>4</th>\n",
       "      <td>-0.276676</td>\n",
       "      <td>1.550980</td>\n",
       "      <td>0.678921</td>\n",
       "      <td>0.051875</td>\n",
       "      <td>0.010143</td>\n",
       "      <td>-0.305684</td>\n",
       "      <td>-0.193215</td>\n",
       "      <td>-0.449599</td>\n",
       "      <td>-0.444700</td>\n",
       "      <td>0.094645</td>\n",
       "      <td>...</td>\n",
       "      <td>-1.294022</td>\n",
       "      <td>-0.650447</td>\n",
       "      <td>-0.246583</td>\n",
       "      <td>-0.045688</td>\n",
       "      <td>-1.444412</td>\n",
       "      <td>-1.412327</td>\n",
       "      <td>0.085818</td>\n",
       "      <td>-0.517671</td>\n",
       "      <td>-0.150889</td>\n",
       "      <td>1.229346</td>\n",
       "    </tr>\n",
       "  </tbody>\n",
       "</table>\n",
       "<p>5 rows × 300 columns</p>\n",
       "</div>"
      ],
      "text/plain": [
       "        0         1         2         3         4         5         6    \\\n",
       "0  1.022589  0.688309  1.070159  0.975018  0.060358 -0.053832 -0.161739   \n",
       "1 -0.219399  0.962522  0.053346  0.589284  0.011429 -0.329199 -0.238914   \n",
       "2  0.376903 -0.300820  0.325995 -0.381359  0.591459 -0.541904 -0.255045   \n",
       "3  0.984065 -0.551623  0.067107 -0.092602  0.018444 -0.048162  0.447052   \n",
       "4 -0.276676  1.550980  0.678921  0.051875  0.010143 -0.305684 -0.193215   \n",
       "\n",
       "        7         8         9    ...       290       291       292       293  \\\n",
       "0  0.729164 -0.538548  0.238769  ... -0.801927 -0.190892  0.309637  0.891734   \n",
       "1 -0.224604 -0.779772  0.499894  ... -0.750694 -0.959061 -0.343396 -0.470464   \n",
       "2 -0.701519  0.015326  0.688321  ... -0.358607 -0.678292  0.534142 -0.105169   \n",
       "3 -0.406357  0.457552 -0.313608  ...  0.660338  0.406104  0.610576 -0.192507   \n",
       "4 -0.449599 -0.444700  0.094645  ... -1.294022 -0.650447 -0.246583 -0.045688   \n",
       "\n",
       "        294       295       296       297       298       299  \n",
       "0  1.145081 -1.176512 -0.005053 -0.615818 -0.261883 -0.449405  \n",
       "1 -0.244004 -1.012518  0.328074  0.021891  0.124556  1.341325  \n",
       "2 -0.085793 -0.691862  0.519848 -1.230084 -0.665120  0.392887  \n",
       "3 -0.546448 -0.169900 -0.251967  0.347984 -0.373781  0.628393  \n",
       "4 -1.444412 -1.412327  0.085818 -0.517671 -0.150889  1.229346  \n",
       "\n",
       "[5 rows x 300 columns]"
      ]
     },
     "execution_count": 18,
     "metadata": {},
     "output_type": "execute_result"
    }
   ],
   "source": [
    "WordVectors_Reviews.head()"
   ]
  },
  {
   "cell_type": "code",
   "execution_count": 19,
   "metadata": {},
   "outputs": [
    {
     "data": {
      "text/plain": [
       "160057"
      ]
     },
     "execution_count": 19,
     "metadata": {},
     "output_type": "execute_result"
    }
   ],
   "source": [
    "len(WordVectors_Reviews)"
   ]
  },
  {
   "cell_type": "code",
   "execution_count": 20,
   "metadata": {},
   "outputs": [
    {
     "data": {
      "text/plain": [
       "160057"
      ]
     },
     "execution_count": 20,
     "metadata": {},
     "output_type": "execute_result"
    }
   ],
   "source": [
    "len(LatestMobileReviews1['positive_negative'])"
   ]
  },
  {
   "cell_type": "markdown",
   "metadata": {},
   "source": [
    "### Word2Vec Vectorization and LinearSVC (Support Vector Classifier)\n"
   ]
  },
  {
   "cell_type": "code",
   "execution_count": 21,
   "metadata": {},
   "outputs": [],
   "source": [
    "from sklearn.svm import LinearSVC#change\n",
    "\n",
    "#from sklearn.model_selection import GridSearchCV "
   ]
  },
  {
   "cell_type": "code",
   "execution_count": 22,
   "metadata": {},
   "outputs": [],
   "source": [
    "#Word vector-word2vec\n",
    "WordVectors_Reviews####change\n",
    "#create base classifier\n",
    "clf_w2v_SVM = LinearSVC()###change"
   ]
  },
  {
   "cell_type": "code",
   "execution_count": 23,
   "metadata": {},
   "outputs": [],
   "source": [
    "WordVectors_Reviews['Product'] = LatestMobileReviews1['Product']\n",
    "X= WordVectors_Reviews\n",
    "y= LatestMobileReviews1['positive_negative']"
   ]
  },
  {
   "cell_type": "code",
   "execution_count": 24,
   "metadata": {},
   "outputs": [
    {
     "data": {
      "text/html": [
       "<div>\n",
       "<style scoped>\n",
       "    .dataframe tbody tr th:only-of-type {\n",
       "        vertical-align: middle;\n",
       "    }\n",
       "\n",
       "    .dataframe tbody tr th {\n",
       "        vertical-align: top;\n",
       "    }\n",
       "\n",
       "    .dataframe thead th {\n",
       "        text-align: right;\n",
       "    }\n",
       "</style>\n",
       "<table border=\"1\" class=\"dataframe\">\n",
       "  <thead>\n",
       "    <tr style=\"text-align: right;\">\n",
       "      <th></th>\n",
       "      <th>0</th>\n",
       "      <th>1</th>\n",
       "      <th>2</th>\n",
       "      <th>3</th>\n",
       "      <th>4</th>\n",
       "      <th>5</th>\n",
       "      <th>6</th>\n",
       "      <th>7</th>\n",
       "      <th>8</th>\n",
       "      <th>9</th>\n",
       "      <th>...</th>\n",
       "      <th>291</th>\n",
       "      <th>292</th>\n",
       "      <th>293</th>\n",
       "      <th>294</th>\n",
       "      <th>295</th>\n",
       "      <th>296</th>\n",
       "      <th>297</th>\n",
       "      <th>298</th>\n",
       "      <th>299</th>\n",
       "      <th>Product</th>\n",
       "    </tr>\n",
       "  </thead>\n",
       "  <tbody>\n",
       "    <tr>\n",
       "      <th>0</th>\n",
       "      <td>1.022589</td>\n",
       "      <td>0.688309</td>\n",
       "      <td>1.070159</td>\n",
       "      <td>0.975018</td>\n",
       "      <td>0.060358</td>\n",
       "      <td>-0.053832</td>\n",
       "      <td>-0.161739</td>\n",
       "      <td>0.729164</td>\n",
       "      <td>-0.538548</td>\n",
       "      <td>0.238769</td>\n",
       "      <td>...</td>\n",
       "      <td>-0.190892</td>\n",
       "      <td>0.309637</td>\n",
       "      <td>0.891734</td>\n",
       "      <td>1.145081</td>\n",
       "      <td>-1.176512</td>\n",
       "      <td>-0.005053</td>\n",
       "      <td>-0.615818</td>\n",
       "      <td>-0.261883</td>\n",
       "      <td>-0.449405</td>\n",
       "      <td>Xiaomi Redmi Note 3</td>\n",
       "    </tr>\n",
       "    <tr>\n",
       "      <th>1</th>\n",
       "      <td>-0.219399</td>\n",
       "      <td>0.962522</td>\n",
       "      <td>0.053346</td>\n",
       "      <td>0.589284</td>\n",
       "      <td>0.011429</td>\n",
       "      <td>-0.329199</td>\n",
       "      <td>-0.238914</td>\n",
       "      <td>-0.224604</td>\n",
       "      <td>-0.779772</td>\n",
       "      <td>0.499894</td>\n",
       "      <td>...</td>\n",
       "      <td>-0.959061</td>\n",
       "      <td>-0.343396</td>\n",
       "      <td>-0.470464</td>\n",
       "      <td>-0.244004</td>\n",
       "      <td>-1.012518</td>\n",
       "      <td>0.328074</td>\n",
       "      <td>0.021891</td>\n",
       "      <td>0.124556</td>\n",
       "      <td>1.341325</td>\n",
       "      <td>Xiaomi Redmi Note 3</td>\n",
       "    </tr>\n",
       "    <tr>\n",
       "      <th>2</th>\n",
       "      <td>0.376903</td>\n",
       "      <td>-0.300820</td>\n",
       "      <td>0.325995</td>\n",
       "      <td>-0.381359</td>\n",
       "      <td>0.591459</td>\n",
       "      <td>-0.541904</td>\n",
       "      <td>-0.255045</td>\n",
       "      <td>-0.701519</td>\n",
       "      <td>0.015326</td>\n",
       "      <td>0.688321</td>\n",
       "      <td>...</td>\n",
       "      <td>-0.678292</td>\n",
       "      <td>0.534142</td>\n",
       "      <td>-0.105169</td>\n",
       "      <td>-0.085793</td>\n",
       "      <td>-0.691862</td>\n",
       "      <td>0.519848</td>\n",
       "      <td>-1.230084</td>\n",
       "      <td>-0.665120</td>\n",
       "      <td>0.392887</td>\n",
       "      <td>Xiaomi Redmi Note 3</td>\n",
       "    </tr>\n",
       "    <tr>\n",
       "      <th>3</th>\n",
       "      <td>0.984065</td>\n",
       "      <td>-0.551623</td>\n",
       "      <td>0.067107</td>\n",
       "      <td>-0.092602</td>\n",
       "      <td>0.018444</td>\n",
       "      <td>-0.048162</td>\n",
       "      <td>0.447052</td>\n",
       "      <td>-0.406357</td>\n",
       "      <td>0.457552</td>\n",
       "      <td>-0.313608</td>\n",
       "      <td>...</td>\n",
       "      <td>0.406104</td>\n",
       "      <td>0.610576</td>\n",
       "      <td>-0.192507</td>\n",
       "      <td>-0.546448</td>\n",
       "      <td>-0.169900</td>\n",
       "      <td>-0.251967</td>\n",
       "      <td>0.347984</td>\n",
       "      <td>-0.373781</td>\n",
       "      <td>0.628393</td>\n",
       "      <td>Xiaomi Redmi Note 3</td>\n",
       "    </tr>\n",
       "    <tr>\n",
       "      <th>4</th>\n",
       "      <td>-0.276676</td>\n",
       "      <td>1.550980</td>\n",
       "      <td>0.678921</td>\n",
       "      <td>0.051875</td>\n",
       "      <td>0.010143</td>\n",
       "      <td>-0.305684</td>\n",
       "      <td>-0.193215</td>\n",
       "      <td>-0.449599</td>\n",
       "      <td>-0.444700</td>\n",
       "      <td>0.094645</td>\n",
       "      <td>...</td>\n",
       "      <td>-0.650447</td>\n",
       "      <td>-0.246583</td>\n",
       "      <td>-0.045688</td>\n",
       "      <td>-1.444412</td>\n",
       "      <td>-1.412327</td>\n",
       "      <td>0.085818</td>\n",
       "      <td>-0.517671</td>\n",
       "      <td>-0.150889</td>\n",
       "      <td>1.229346</td>\n",
       "      <td>Xiaomi Redmi Note 3</td>\n",
       "    </tr>\n",
       "  </tbody>\n",
       "</table>\n",
       "<p>5 rows × 301 columns</p>\n",
       "</div>"
      ],
      "text/plain": [
       "          0         1         2         3         4         5         6  \\\n",
       "0  1.022589  0.688309  1.070159  0.975018  0.060358 -0.053832 -0.161739   \n",
       "1 -0.219399  0.962522  0.053346  0.589284  0.011429 -0.329199 -0.238914   \n",
       "2  0.376903 -0.300820  0.325995 -0.381359  0.591459 -0.541904 -0.255045   \n",
       "3  0.984065 -0.551623  0.067107 -0.092602  0.018444 -0.048162  0.447052   \n",
       "4 -0.276676  1.550980  0.678921  0.051875  0.010143 -0.305684 -0.193215   \n",
       "\n",
       "          7         8         9  ...       291       292       293       294  \\\n",
       "0  0.729164 -0.538548  0.238769  ... -0.190892  0.309637  0.891734  1.145081   \n",
       "1 -0.224604 -0.779772  0.499894  ... -0.959061 -0.343396 -0.470464 -0.244004   \n",
       "2 -0.701519  0.015326  0.688321  ... -0.678292  0.534142 -0.105169 -0.085793   \n",
       "3 -0.406357  0.457552 -0.313608  ...  0.406104  0.610576 -0.192507 -0.546448   \n",
       "4 -0.449599 -0.444700  0.094645  ... -0.650447 -0.246583 -0.045688 -1.444412   \n",
       "\n",
       "        295       296       297       298       299              Product  \n",
       "0 -1.176512 -0.005053 -0.615818 -0.261883 -0.449405  Xiaomi Redmi Note 3  \n",
       "1 -1.012518  0.328074  0.021891  0.124556  1.341325  Xiaomi Redmi Note 3  \n",
       "2 -0.691862  0.519848 -1.230084 -0.665120  0.392887  Xiaomi Redmi Note 3  \n",
       "3 -0.169900 -0.251967  0.347984 -0.373781  0.628393  Xiaomi Redmi Note 3  \n",
       "4 -1.412327  0.085818 -0.517671 -0.150889  1.229346  Xiaomi Redmi Note 3  \n",
       "\n",
       "[5 rows x 301 columns]"
      ]
     },
     "execution_count": 24,
     "metadata": {},
     "output_type": "execute_result"
    }
   ],
   "source": [
    "WordVectors_Reviews.head()"
   ]
  },
  {
   "cell_type": "code",
   "execution_count": 25,
   "metadata": {},
   "outputs": [],
   "source": [
    "X_train, X_test, y_train, y_test = train_test_split(X, y, test_size = 0.3, random_state = 1001)"
   ]
  },
  {
   "cell_type": "code",
   "execution_count": 26,
   "metadata": {},
   "outputs": [
    {
     "data": {
      "text/plain": [
       "((112039, 301), (112039,), (48018, 301), (48018,))"
      ]
     },
     "execution_count": 26,
     "metadata": {},
     "output_type": "execute_result"
    }
   ],
   "source": [
    "X_train.shape, y_train.shape, X_test.shape, y_test.shape"
   ]
  },
  {
   "cell_type": "code",
   "execution_count": 27,
   "metadata": {},
   "outputs": [],
   "source": [
    "#removing Product Column from word2vec vectorised data\n",
    "X_train1 = X_train.drop('Product', axis = 1)\n",
    "X_test1 = X_test.drop('Product', axis = 1)"
   ]
  },
  {
   "cell_type": "code",
   "execution_count": 28,
   "metadata": {},
   "outputs": [
    {
     "data": {
      "text/html": [
       "<div>\n",
       "<style scoped>\n",
       "    .dataframe tbody tr th:only-of-type {\n",
       "        vertical-align: middle;\n",
       "    }\n",
       "\n",
       "    .dataframe tbody tr th {\n",
       "        vertical-align: top;\n",
       "    }\n",
       "\n",
       "    .dataframe thead th {\n",
       "        text-align: right;\n",
       "    }\n",
       "</style>\n",
       "<table border=\"1\" class=\"dataframe\">\n",
       "  <thead>\n",
       "    <tr style=\"text-align: right;\">\n",
       "      <th></th>\n",
       "      <th>0</th>\n",
       "      <th>1</th>\n",
       "      <th>2</th>\n",
       "      <th>3</th>\n",
       "      <th>4</th>\n",
       "      <th>5</th>\n",
       "      <th>6</th>\n",
       "      <th>7</th>\n",
       "      <th>8</th>\n",
       "      <th>9</th>\n",
       "      <th>...</th>\n",
       "      <th>290</th>\n",
       "      <th>291</th>\n",
       "      <th>292</th>\n",
       "      <th>293</th>\n",
       "      <th>294</th>\n",
       "      <th>295</th>\n",
       "      <th>296</th>\n",
       "      <th>297</th>\n",
       "      <th>298</th>\n",
       "      <th>299</th>\n",
       "    </tr>\n",
       "  </thead>\n",
       "  <tbody>\n",
       "    <tr>\n",
       "      <th>59665</th>\n",
       "      <td>-0.069968</td>\n",
       "      <td>0.294914</td>\n",
       "      <td>0.397953</td>\n",
       "      <td>-0.383839</td>\n",
       "      <td>-0.491115</td>\n",
       "      <td>-0.301062</td>\n",
       "      <td>0.032596</td>\n",
       "      <td>-1.035657</td>\n",
       "      <td>-0.619313</td>\n",
       "      <td>0.551337</td>\n",
       "      <td>...</td>\n",
       "      <td>-0.432044</td>\n",
       "      <td>-0.484578</td>\n",
       "      <td>0.302671</td>\n",
       "      <td>-0.336051</td>\n",
       "      <td>-0.626426</td>\n",
       "      <td>-0.956803</td>\n",
       "      <td>0.721079</td>\n",
       "      <td>-0.279888</td>\n",
       "      <td>-0.487636</td>\n",
       "      <td>0.903397</td>\n",
       "    </tr>\n",
       "    <tr>\n",
       "      <th>117217</th>\n",
       "      <td>-0.121554</td>\n",
       "      <td>0.995373</td>\n",
       "      <td>-0.127993</td>\n",
       "      <td>0.454399</td>\n",
       "      <td>0.063968</td>\n",
       "      <td>0.483134</td>\n",
       "      <td>0.011991</td>\n",
       "      <td>-0.410384</td>\n",
       "      <td>-0.924495</td>\n",
       "      <td>0.644595</td>\n",
       "      <td>...</td>\n",
       "      <td>-1.152638</td>\n",
       "      <td>0.122483</td>\n",
       "      <td>0.007312</td>\n",
       "      <td>-0.876639</td>\n",
       "      <td>0.279150</td>\n",
       "      <td>-1.272658</td>\n",
       "      <td>0.025752</td>\n",
       "      <td>-0.251162</td>\n",
       "      <td>0.034133</td>\n",
       "      <td>0.871126</td>\n",
       "    </tr>\n",
       "    <tr>\n",
       "      <th>56101</th>\n",
       "      <td>-0.984855</td>\n",
       "      <td>0.495175</td>\n",
       "      <td>-0.476908</td>\n",
       "      <td>-0.144084</td>\n",
       "      <td>0.549121</td>\n",
       "      <td>0.158382</td>\n",
       "      <td>-0.978046</td>\n",
       "      <td>-0.609963</td>\n",
       "      <td>0.189700</td>\n",
       "      <td>1.301839</td>\n",
       "      <td>...</td>\n",
       "      <td>-0.558721</td>\n",
       "      <td>-0.527120</td>\n",
       "      <td>0.531544</td>\n",
       "      <td>-0.250923</td>\n",
       "      <td>-0.168384</td>\n",
       "      <td>-0.610713</td>\n",
       "      <td>0.441419</td>\n",
       "      <td>-0.014064</td>\n",
       "      <td>-0.224314</td>\n",
       "      <td>1.115965</td>\n",
       "    </tr>\n",
       "    <tr>\n",
       "      <th>4552</th>\n",
       "      <td>0.045620</td>\n",
       "      <td>-0.710200</td>\n",
       "      <td>0.295079</td>\n",
       "      <td>-0.103288</td>\n",
       "      <td>0.566759</td>\n",
       "      <td>-0.513082</td>\n",
       "      <td>0.714137</td>\n",
       "      <td>-0.265263</td>\n",
       "      <td>-0.139790</td>\n",
       "      <td>-0.172784</td>\n",
       "      <td>...</td>\n",
       "      <td>-0.187262</td>\n",
       "      <td>-0.863887</td>\n",
       "      <td>0.383280</td>\n",
       "      <td>0.019287</td>\n",
       "      <td>0.187149</td>\n",
       "      <td>-0.264535</td>\n",
       "      <td>-0.072856</td>\n",
       "      <td>-0.660814</td>\n",
       "      <td>-0.442291</td>\n",
       "      <td>0.213788</td>\n",
       "    </tr>\n",
       "    <tr>\n",
       "      <th>34920</th>\n",
       "      <td>0.045411</td>\n",
       "      <td>0.692309</td>\n",
       "      <td>0.304257</td>\n",
       "      <td>-0.543897</td>\n",
       "      <td>-0.035714</td>\n",
       "      <td>-1.513278</td>\n",
       "      <td>-0.335924</td>\n",
       "      <td>-0.091320</td>\n",
       "      <td>-0.448535</td>\n",
       "      <td>0.873536</td>\n",
       "      <td>...</td>\n",
       "      <td>-0.923057</td>\n",
       "      <td>-1.248088</td>\n",
       "      <td>-0.016083</td>\n",
       "      <td>0.098410</td>\n",
       "      <td>-0.223148</td>\n",
       "      <td>-0.857692</td>\n",
       "      <td>0.222479</td>\n",
       "      <td>-0.638830</td>\n",
       "      <td>-0.439562</td>\n",
       "      <td>0.707614</td>\n",
       "    </tr>\n",
       "  </tbody>\n",
       "</table>\n",
       "<p>5 rows × 300 columns</p>\n",
       "</div>"
      ],
      "text/plain": [
       "             0         1         2         3         4         5         6    \\\n",
       "59665  -0.069968  0.294914  0.397953 -0.383839 -0.491115 -0.301062  0.032596   \n",
       "117217 -0.121554  0.995373 -0.127993  0.454399  0.063968  0.483134  0.011991   \n",
       "56101  -0.984855  0.495175 -0.476908 -0.144084  0.549121  0.158382 -0.978046   \n",
       "4552    0.045620 -0.710200  0.295079 -0.103288  0.566759 -0.513082  0.714137   \n",
       "34920   0.045411  0.692309  0.304257 -0.543897 -0.035714 -1.513278 -0.335924   \n",
       "\n",
       "             7         8         9    ...       290       291       292  \\\n",
       "59665  -1.035657 -0.619313  0.551337  ... -0.432044 -0.484578  0.302671   \n",
       "117217 -0.410384 -0.924495  0.644595  ... -1.152638  0.122483  0.007312   \n",
       "56101  -0.609963  0.189700  1.301839  ... -0.558721 -0.527120  0.531544   \n",
       "4552   -0.265263 -0.139790 -0.172784  ... -0.187262 -0.863887  0.383280   \n",
       "34920  -0.091320 -0.448535  0.873536  ... -0.923057 -1.248088 -0.016083   \n",
       "\n",
       "             293       294       295       296       297       298       299  \n",
       "59665  -0.336051 -0.626426 -0.956803  0.721079 -0.279888 -0.487636  0.903397  \n",
       "117217 -0.876639  0.279150 -1.272658  0.025752 -0.251162  0.034133  0.871126  \n",
       "56101  -0.250923 -0.168384 -0.610713  0.441419 -0.014064 -0.224314  1.115965  \n",
       "4552    0.019287  0.187149 -0.264535 -0.072856 -0.660814 -0.442291  0.213788  \n",
       "34920   0.098410 -0.223148 -0.857692  0.222479 -0.638830 -0.439562  0.707614  \n",
       "\n",
       "[5 rows x 300 columns]"
      ]
     },
     "execution_count": 28,
     "metadata": {},
     "output_type": "execute_result"
    }
   ],
   "source": [
    "X_train1.head()\n",
    "X_test1.head()"
   ]
  },
  {
   "cell_type": "code",
   "execution_count": 29,
   "metadata": {},
   "outputs": [
    {
     "name": "stderr",
     "output_type": "stream",
     "text": [
      "C:\\Users\\halapets\\AppData\\Local\\Continuum\\anaconda3\\lib\\site-packages\\sklearn\\svm\\_base.py:947: ConvergenceWarning: Liblinear failed to converge, increase the number of iterations.\n",
      "  \"the number of iterations.\", ConvergenceWarning)\n"
     ]
    },
    {
     "data": {
      "text/plain": [
       "LinearSVC(C=1.0, class_weight=None, dual=True, fit_intercept=True,\n",
       "          intercept_scaling=1, loss='squared_hinge', max_iter=1000,\n",
       "          multi_class='ovr', penalty='l2', random_state=None, tol=0.0001,\n",
       "          verbose=0)"
      ]
     },
     "execution_count": 29,
     "metadata": {},
     "output_type": "execute_result"
    }
   ],
   "source": [
    "#fitting model\n",
    "clf_w2v_SVM.fit(X_train1, y_train)\n"
   ]
  },
  {
   "cell_type": "code",
   "execution_count": 30,
   "metadata": {},
   "outputs": [],
   "source": [
    "#Evaluating model on test data\n",
    "y_pred_w2v_SVM = clf_w2v_SVM.predict(X_test1)\n"
   ]
  },
  {
   "cell_type": "code",
   "execution_count": 31,
   "metadata": {},
   "outputs": [
    {
     "data": {
      "text/plain": [
       "'              precision    recall  f1-score   support\\n\\n     class 0       0.81      0.57      0.67      7791\\n     class 1       0.92      0.97      0.95     40227\\n\\n    accuracy                           0.91     48018\\n   macro avg       0.86      0.77      0.81     48018\\nweighted avg       0.90      0.91      0.90     48018\\n'"
      ]
     },
     "execution_count": 31,
     "metadata": {},
     "output_type": "execute_result"
    }
   ],
   "source": [
    "target_names = ['class 0', 'class 1']\n",
    "ClassificationReport_w2v_SVM=classification_report(y_test, y_pred_w2v_SVM, target_names=target_names)\n",
    "ClassificationReport_w2v_SVM\n",
    "\n",
    "#'              precision    recall  f1-score   support\\n\\n     \n",
    "#class 0       0.80      0.59      0.68      7791\\n     \n",
    "#class 1       0.92      0.97      0.95     40227\\n\\n    \n",
    "#accuracy                          0.91     48018\\n   \n",
    "#macro avg     0.86      0.78      0.81     48018\\n\n",
    "#weighted avg  0.90      0.91      0.90     48018\\n'"
   ]
  },
  {
   "cell_type": "code",
   "execution_count": 32,
   "metadata": {},
   "outputs": [
    {
     "data": {
      "text/plain": [
       "array([[ 4439,  3352],\n",
       "       [ 1070, 39157]], dtype=int64)"
      ]
     },
     "execution_count": 32,
     "metadata": {},
     "output_type": "execute_result"
    }
   ],
   "source": [
    "ConfusionMatrix_w2v_SVM=confusion_matrix(y_test, y_pred_w2v_SVM)\n",
    "ConfusionMatrix_w2v_SVM"
   ]
  },
  {
   "cell_type": "code",
   "execution_count": 33,
   "metadata": {},
   "outputs": [
    {
     "data": {
      "text/plain": [
       "0.9079095339247782"
      ]
     },
     "execution_count": 33,
     "metadata": {},
     "output_type": "execute_result"
    }
   ],
   "source": [
    "accuracy_score(y_test, y_pred_w2v_SVM) \n",
    "#Accuracy-0.9094714482069224\n",
    "#Precision-\n"
   ]
  },
  {
   "cell_type": "code",
   "execution_count": 34,
   "metadata": {},
   "outputs": [],
   "source": [
    "y_pred_w2v_SVM = pd.DataFrame(y_pred_w2v_SVM,X_test['Product'])\n",
    "y_pred_w2v_SVM.rename(columns={0:\"Tags_w2v_SVM\"}, inplace = True)\n",
    "y_pred_w2v_SVM.head(5)\n",
    "#len(y_pred_w2v_SVM)\n",
    "y_pred_w2v_SVM.to_csv(\"y_pred_w2v_SVM.csv\",header = True)"
   ]
  },
  {
   "cell_type": "code",
   "execution_count": 35,
   "metadata": {},
   "outputs": [],
   "source": [
    "# defining parameter range \n",
    "#param_grid = {'C': [0.1, 1, 10, 100, 1000]} "
   ]
  },
  {
   "cell_type": "code",
   "execution_count": 36,
   "metadata": {},
   "outputs": [],
   "source": [
    "# Instantiate the grid search model\n",
    "#grid_search = GridSearchCV(classifier, param_grid,cv = 3, verbose = 1,n_jobs=1)"
   ]
  },
  {
   "cell_type": "code",
   "execution_count": 37,
   "metadata": {},
   "outputs": [],
   "source": [
    "# Fit the grid search to the data\n",
    "#grid_search.fit(tfidf.transform(X_train), y_train)"
   ]
  },
  {
   "cell_type": "code",
   "execution_count": 38,
   "metadata": {},
   "outputs": [],
   "source": [
    "#best_grid = grid_search.best_estimator_\n",
    "#best_grid"
   ]
  },
  {
   "cell_type": "code",
   "execution_count": 39,
   "metadata": {},
   "outputs": [],
   "source": [
    "#y_pred_grid_search = grid_search.predict(tfidf.transform(X_test))"
   ]
  },
  {
   "cell_type": "code",
   "execution_count": 40,
   "metadata": {},
   "outputs": [],
   "source": [
    "#target_names = ['class 0', 'class 1']\n",
    "#classification_report_SVM_gridsearch=classification_report(y_test, y_pred_grid_search, target_names=target_names)\n",
    "#classification_report_SVM_gridsearch"
   ]
  },
  {
   "cell_type": "code",
   "execution_count": 41,
   "metadata": {},
   "outputs": [],
   "source": [
    "#ConfusionMatrix_SVM_gridsearch=confusion_matrix(y_test, y_pred_grid_search)\n",
    "#ConfusionMatrix_SVM_gridsearch"
   ]
  },
  {
   "cell_type": "code",
   "execution_count": 42,
   "metadata": {},
   "outputs": [],
   "source": [
    "#accuracy_score(y_test, y_pred_grid_search) #0.8903606254095097 accuracy of base model"
   ]
  },
  {
   "cell_type": "markdown",
   "metadata": {},
   "source": [
    "### Word2Vec Vectorization and Logistic Regression Classifier\n"
   ]
  },
  {
   "cell_type": "code",
   "execution_count": 43,
   "metadata": {},
   "outputs": [
    {
     "name": "stderr",
     "output_type": "stream",
     "text": [
      "C:\\Users\\halapets\\AppData\\Local\\Continuum\\anaconda3\\lib\\site-packages\\sklearn\\linear_model\\_logistic.py:939: ConvergenceWarning: lbfgs failed to converge (status=1):\n",
      "STOP: TOTAL NO. of ITERATIONS REACHED LIMIT.\n",
      "\n",
      "Increase the number of iterations (max_iter) or scale the data as shown in:\n",
      "    https://scikit-learn.org/stable/modules/preprocessing.html.\n",
      "Please also refer to the documentation for alternative solver options:\n",
      "    https://scikit-learn.org/stable/modules/linear_model.html#logistic-regression\n",
      "  extra_warning_msg=_LOGISTIC_SOLVER_CONVERGENCE_MSG)\n"
     ]
    },
    {
     "data": {
      "text/plain": [
       "LogisticRegression(C=1.0, class_weight=None, dual=False, fit_intercept=True,\n",
       "                   intercept_scaling=1, l1_ratio=None, max_iter=100,\n",
       "                   multi_class='auto', n_jobs=None, penalty='l2',\n",
       "                   random_state=None, solver='lbfgs', tol=0.0001, verbose=0,\n",
       "                   warm_start=False)"
      ]
     },
     "execution_count": 43,
     "metadata": {},
     "output_type": "execute_result"
    }
   ],
   "source": [
    "from sklearn import linear_model\n",
    "#create base classifier\n",
    "clf_w2v_LR = linear_model.LogisticRegression()\n",
    "\n",
    "#fitting model\n",
    "clf_w2v_LR.fit(X_train1, y_train)\n",
    "\n"
   ]
  },
  {
   "cell_type": "code",
   "execution_count": 44,
   "metadata": {},
   "outputs": [],
   "source": [
    "#Evaluating model on test data\n",
    "y_pred_w2v_LR = clf_w2v_LR.predict(X_test1)\n"
   ]
  },
  {
   "cell_type": "code",
   "execution_count": 45,
   "metadata": {},
   "outputs": [
    {
     "data": {
      "text/plain": [
       "'              precision    recall  f1-score   support\\n\\n     class 0       0.80      0.60      0.68      7791\\n     class 1       0.93      0.97      0.95     40227\\n\\n    accuracy                           0.91     48018\\n   macro avg       0.86      0.78      0.81     48018\\nweighted avg       0.90      0.91      0.90     48018\\n'"
      ]
     },
     "execution_count": 45,
     "metadata": {},
     "output_type": "execute_result"
    }
   ],
   "source": [
    "target_names = ['class 0', 'class 1']\n",
    "ClassificationReport_w2v_LR=classification_report(y_test, y_pred_w2v_LR, target_names=target_names)\n",
    "ClassificationReport_w2v_LR\n",
    "\n",
    "#'              precision    recall  f1-score   support\\n\\n     \n",
    "#class 0       0.79      0.60      0.68      7791\\n     \n",
    "#class 1       0.93      0.97      0.95     40227\\n\\n    \n",
    "#accuracy                          0.91     48018\\n   \n",
    "#macro avg     0.86      0.78      0.81     48018\\n\n",
    "#weighted avg  0.90      0.91      0.90     48018\\n'"
   ]
  },
  {
   "cell_type": "code",
   "execution_count": 46,
   "metadata": {},
   "outputs": [
    {
     "data": {
      "text/plain": [
       "array([[ 4651,  3140],\n",
       "       [ 1196, 39031]], dtype=int64)"
      ]
     },
     "execution_count": 46,
     "metadata": {},
     "output_type": "execute_result"
    }
   ],
   "source": [
    "ConfusionMatrix_w2v_LR=confusion_matrix(y_test, y_pred_w2v_LR)\n",
    "ConfusionMatrix_w2v_LR"
   ]
  },
  {
   "cell_type": "code",
   "execution_count": 47,
   "metadata": {},
   "outputs": [
    {
     "data": {
      "text/plain": [
       "0.9097005289683036"
      ]
     },
     "execution_count": 47,
     "metadata": {},
     "output_type": "execute_result"
    }
   ],
   "source": [
    "accuracy_score(y_test, y_pred_w2v_LR) #0.9092840184930651 accuracy of base model"
   ]
  },
  {
   "cell_type": "code",
   "execution_count": 48,
   "metadata": {},
   "outputs": [],
   "source": [
    "y_pred_w2v_LR = pd.DataFrame(y_pred_w2v_LR,X_test['Product'])\n",
    "y_pred_w2v_LR.rename(columns={0:\"Tags_w2v_LR\"}, inplace = True)\n",
    "y_pred_w2v_LR.head(5)\n",
    "#len(y_pred_TFIDF_LR)\n",
    "y_pred_w2v_LR.to_csv(\"y_pred_w2v_LR.csv\",header = True)"
   ]
  },
  {
   "cell_type": "code",
   "execution_count": 49,
   "metadata": {},
   "outputs": [],
   "source": [
    "#Create Hyperparameter Search Space \n",
    "# Create regularization penalty space\n",
    "#penalty = ['l1', 'l2']\n",
    "\n",
    "# Create regularization hyperparameter space\n",
    "#C = np.logspace(0, 4, 10)\n",
    "\n",
    "# Create hyperparameter options\n",
    "#hyperparameters = dict(C=C, penalty=penalty)"
   ]
  },
  {
   "cell_type": "code",
   "execution_count": 50,
   "metadata": {},
   "outputs": [],
   "source": [
    "# Create grid search using 5-fold cross validation\n",
    "#grid_search_LR = GridSearchCV(classifier, hyperparameters, cv=5, verbose=0)"
   ]
  },
  {
   "cell_type": "code",
   "execution_count": 51,
   "metadata": {},
   "outputs": [],
   "source": [
    "# Fit the grid search to the data\n",
    "#grid_search_LR.fit(tfidf.transform(X_train), y_train)"
   ]
  },
  {
   "cell_type": "code",
   "execution_count": 52,
   "metadata": {},
   "outputs": [],
   "source": [
    "\n",
    "#best_grid_LR = grid_search_LR.best_estimator_\n",
    "\n",
    "#best_grid_LR"
   ]
  },
  {
   "cell_type": "code",
   "execution_count": 53,
   "metadata": {},
   "outputs": [],
   "source": [
    "#y_pred_grid_search_LR = grid_search_LR.predict(tfidf.transform(X_test))"
   ]
  },
  {
   "cell_type": "code",
   "execution_count": 54,
   "metadata": {},
   "outputs": [],
   "source": [
    "#target_names = ['class 0', 'class 1']\n",
    "#ClassificationReport_LR_gridsearch=classification_report(y_test, y_pred_grid_search_LR, target_names=target_names)"
   ]
  },
  {
   "cell_type": "code",
   "execution_count": 55,
   "metadata": {},
   "outputs": [],
   "source": [
    "#ConfusionMatrix_LR_gridsearch=confusion_matrix(y_test, y_pred_grid_search_LR)"
   ]
  },
  {
   "cell_type": "code",
   "execution_count": 56,
   "metadata": {},
   "outputs": [],
   "source": [
    "#accuracy_score(y_test, y_pred_grid_search_LR) #0.8903606254095097 accuracy of base model"
   ]
  },
  {
   "cell_type": "markdown",
   "metadata": {},
   "source": [
    "### Word2Vec Vectorization and Naive Bayes Classifier\n"
   ]
  },
  {
   "cell_type": "code",
   "execution_count": 57,
   "metadata": {},
   "outputs": [
    {
     "data": {
      "text/plain": [
       "BernoulliNB(alpha=1.0, binarize=0.0, class_prior=None, fit_prior=True)"
      ]
     },
     "execution_count": 57,
     "metadata": {},
     "output_type": "execute_result"
    }
   ],
   "source": [
    "from sklearn.naive_bayes import BernoulliNB\n",
    "\n",
    "#create base classifier\n",
    "clf_w2v_NB = BernoulliNB()\n",
    "\n",
    "#fitting model\n",
    "clf_w2v_NB.fit(X_train1, y_train)"
   ]
  },
  {
   "cell_type": "code",
   "execution_count": 58,
   "metadata": {},
   "outputs": [],
   "source": [
    "#Evaluating model on test data\n",
    "y_pred_w2v_NB = clf_w2v_NB.predict(X_test1)\n"
   ]
  },
  {
   "cell_type": "code",
   "execution_count": 59,
   "metadata": {},
   "outputs": [
    {
     "data": {
      "text/plain": [
       "'              precision    recall  f1-score   support\\n\\n     class 0       0.40      0.71      0.51      7791\\n     class 1       0.93      0.79      0.86     40227\\n\\n    accuracy                           0.78     48018\\n   macro avg       0.67      0.75      0.68     48018\\nweighted avg       0.85      0.78      0.80     48018\\n'"
      ]
     },
     "execution_count": 59,
     "metadata": {},
     "output_type": "execute_result"
    }
   ],
   "source": [
    "target_names = ['class 0', 'class 1']\n",
    "ClassificationReport_w2v_NB=classification_report(y_test, y_pred_w2v_NB, target_names=target_names)\n",
    "ClassificationReport_w2v_NB\n",
    "\n",
    "#'              precision    recall  f1-score   support\\n\\n     \n",
    "#class 0       0.40      0.72      0.51      7791\\n     \n",
    "#class 1       0.93      0.79      0.86     40227\\n\\n    \n",
    "#accuracy                          0.78     48018\\n   \n",
    "#macro avg     0.67      0.75      0.68     48018\\n\n",
    "#weighted avg  0.85      0.78      0.80     48018\\n'"
   ]
  },
  {
   "cell_type": "code",
   "execution_count": 60,
   "metadata": {},
   "outputs": [
    {
     "data": {
      "text/plain": [
       "array([[ 5517,  2274],\n",
       "       [ 8358, 31869]], dtype=int64)"
      ]
     },
     "execution_count": 60,
     "metadata": {},
     "output_type": "execute_result"
    }
   ],
   "source": [
    "ConfusionMatrix_w2v_NB=confusion_matrix(y_test, y_pred_w2v_NB)\n",
    "ConfusionMatrix_w2v_NB"
   ]
  },
  {
   "cell_type": "code",
   "execution_count": 61,
   "metadata": {},
   "outputs": [
    {
     "data": {
      "text/plain": [
       "0.7785830313632388"
      ]
     },
     "execution_count": 61,
     "metadata": {},
     "output_type": "execute_result"
    }
   ],
   "source": [
    "accuracy_score(y_test, y_pred_w2v_NB) #0.7769169894622849 accuracy of base model"
   ]
  },
  {
   "cell_type": "code",
   "execution_count": 62,
   "metadata": {},
   "outputs": [],
   "source": [
    "y_pred_w2v_NB = pd.DataFrame(y_pred_w2v_NB,X_test['Product'])\n",
    "y_pred_w2v_NB.rename(columns={0:\"Tags_w2v_NB\"}, inplace = True)\n",
    "y_pred_w2v_NB.head(5)\n",
    "#len(y_pred_w2v_NB)\n",
    "y_pred_w2v_NB.to_csv(\"y_pred_w2v_NB.csv\",header = True)"
   ]
  },
  {
   "cell_type": "markdown",
   "metadata": {},
   "source": [
    "### Word2Vec Vectorization and Decision Tree Classifier"
   ]
  },
  {
   "cell_type": "code",
   "execution_count": 63,
   "metadata": {},
   "outputs": [
    {
     "data": {
      "text/plain": [
       "DecisionTreeClassifier(ccp_alpha=0.0, class_weight=None, criterion='gini',\n",
       "                       max_depth=None, max_features=None, max_leaf_nodes=None,\n",
       "                       min_impurity_decrease=0.0, min_impurity_split=None,\n",
       "                       min_samples_leaf=1, min_samples_split=2,\n",
       "                       min_weight_fraction_leaf=0.0, presort='deprecated',\n",
       "                       random_state=100, splitter='best')"
      ]
     },
     "execution_count": 63,
     "metadata": {},
     "output_type": "execute_result"
    }
   ],
   "source": [
    "from sklearn.tree import DecisionTreeClassifier \n",
    "#from sklearn.datasets import make_classification\n",
    "#create base classifier\n",
    "clf_w2v_CART = DecisionTreeClassifier(criterion = \"gini\", \n",
    "            random_state = 100) \n",
    "\n",
    "#fitting model\n",
    "clf_w2v_CART.fit(X_train1, y_train)"
   ]
  },
  {
   "cell_type": "code",
   "execution_count": 64,
   "metadata": {},
   "outputs": [],
   "source": [
    "#Evaluating model on test data\n",
    "y_pred_w2v_CART = clf_w2v_CART.predict(X_test1)\n"
   ]
  },
  {
   "cell_type": "code",
   "execution_count": 65,
   "metadata": {},
   "outputs": [
    {
     "data": {
      "text/plain": [
       "'              precision    recall  f1-score   support\\n\\n     class 0       0.43      0.45      0.44      7791\\n     class 1       0.89      0.89      0.89     40227\\n\\n    accuracy                           0.82     48018\\n   macro avg       0.66      0.67      0.67     48018\\nweighted avg       0.82      0.82      0.82     48018\\n'"
      ]
     },
     "execution_count": 65,
     "metadata": {},
     "output_type": "execute_result"
    }
   ],
   "source": [
    "target_names = ['class 0', 'class 1']\n",
    "ClassificationReport_w2v_CART=classification_report(y_test, y_pred_w2v_CART, target_names=target_names)\n",
    "ClassificationReport_w2v_CART\n",
    "\n",
    "\n",
    "#'              precision    recall  f1-score   support\\n\\n     \n",
    "#class 0       0.44      0.46      0.45      7791\\n     \n",
    "#class 1       0.89      0.89      0.89     40227\\n\\n    \n",
    "#accuracy                          0.82     48018\\n   \n",
    "#macro avg     0.67      0.67      0.67     48018\\n\n",
    "#weighted avg  0.82      0.82      0.82     48018\\n'"
   ]
  },
  {
   "cell_type": "code",
   "execution_count": 66,
   "metadata": {},
   "outputs": [
    {
     "data": {
      "text/plain": [
       "array([[ 3506,  4285],\n",
       "       [ 4556, 35671]], dtype=int64)"
      ]
     },
     "execution_count": 66,
     "metadata": {},
     "output_type": "execute_result"
    }
   ],
   "source": [
    "ConfusionMatrix_w2v_CART=confusion_matrix(y_test, y_pred_w2v_CART)\n",
    "ConfusionMatrix_w2v_CART"
   ]
  },
  {
   "cell_type": "code",
   "execution_count": 67,
   "metadata": {},
   "outputs": [
    {
     "data": {
      "text/plain": [
       "0.8158815444208422"
      ]
     },
     "execution_count": 67,
     "metadata": {},
     "output_type": "execute_result"
    }
   ],
   "source": [
    "accuracy_score(y_test, y_pred_w2v_CART) #0.8177350160356534 accuracy of base model"
   ]
  },
  {
   "cell_type": "code",
   "execution_count": 68,
   "metadata": {},
   "outputs": [],
   "source": [
    "y_pred_w2v_CART = pd.DataFrame(y_pred_w2v_CART,X_test['Product'])\n",
    "y_pred_w2v_CART.rename(columns={0:\"Tags_w2v_CART\"}, inplace = True)\n",
    "y_pred_w2v_CART.head(5)\n",
    "len(y_pred_w2v_CART)\n",
    "y_pred_w2v_CART.to_csv(\"y_pred_w2v_CART.csv\",header = True)"
   ]
  },
  {
   "cell_type": "code",
   "execution_count": 69,
   "metadata": {},
   "outputs": [],
   "source": [
    "#random_grid = {'n_estimators': [200, 400, 600, 800, 1000, 1200, 1400, 1600, 1800, 2000],'max_features': [2,3]}"
   ]
  },
  {
   "cell_type": "code",
   "execution_count": 70,
   "metadata": {},
   "outputs": [],
   "source": [
    "# Create grid search using 5-fold cross validation\n",
    "#rf_random  = RandomizedSearchCV(rf, random_grid,n_iter = 100, cv=5, verbose=2, random_state=42, n_jobs = -1)"
   ]
  },
  {
   "cell_type": "code",
   "execution_count": 71,
   "metadata": {},
   "outputs": [],
   "source": [
    "# Fit the grid search to the data\n",
    "#rf_random.fit(tfidf.transform(X_train), y_train)"
   ]
  },
  {
   "cell_type": "code",
   "execution_count": 72,
   "metadata": {},
   "outputs": [],
   "source": [
    "\n",
    "#best_grid_RF = rf_random.best_params_\n",
    "\n",
    "#best_grid_RF"
   ]
  },
  {
   "cell_type": "code",
   "execution_count": 73,
   "metadata": {},
   "outputs": [],
   "source": [
    "#y_pred_grid_search_RF = rf_random.predict(tfidf.transform(X_test))"
   ]
  },
  {
   "cell_type": "code",
   "execution_count": 74,
   "metadata": {},
   "outputs": [],
   "source": [
    "#target_names = ['class 0', 'class 1']\n",
    "#ClassificationReport_RF_gridsearch=classification_report(y_test, y_pred_grid_search_RF, target_names=target_names)"
   ]
  },
  {
   "cell_type": "code",
   "execution_count": 75,
   "metadata": {},
   "outputs": [],
   "source": [
    "#ConfusionMatrix_RF_gridsearch=confusion_matrix(y_test, y_pred_grid_search_RF)"
   ]
  },
  {
   "cell_type": "code",
   "execution_count": 76,
   "metadata": {},
   "outputs": [],
   "source": [
    "#accuracy_score(y_test, y_pred_grid_search_RF) #0.8903606254095097 accuracy of base model"
   ]
  },
  {
   "cell_type": "code",
   "execution_count": null,
   "metadata": {},
   "outputs": [],
   "source": []
  },
  {
   "cell_type": "code",
   "execution_count": null,
   "metadata": {},
   "outputs": [],
   "source": []
  },
  {
   "cell_type": "code",
   "execution_count": 77,
   "metadata": {},
   "outputs": [],
   "source": [
    "#Ensemble Model based on Individual Classifiers using Majority of voting"
   ]
  },
  {
   "cell_type": "code",
   "execution_count": 78,
   "metadata": {},
   "outputs": [],
   "source": [
    "y_pred_w2v_NB = pd.read_csv(\"y_pred_w2v_NB.csv\",index_col=None)\n",
    "y_pred_w2v_LR= pd.read_csv(\"y_pred_w2v_LR.csv\",index_col=None)\n",
    "y_pred_w2v_CART= pd.read_csv(\"y_pred_w2v_CART.csv\",index_col=None)\n",
    "y_pred_w2v_SVM= pd.read_csv(\"y_pred_w2v_SVM.csv\",index_col=None)"
   ]
  },
  {
   "cell_type": "code",
   "execution_count": 79,
   "metadata": {},
   "outputs": [],
   "source": [
    "y_pred_w2v_ensb=y_pred_w2v_NB.merge(y_pred_w2v_LR, how = 'inner',left_index = True, right_index = True, on = 'Product')\n"
   ]
  },
  {
   "cell_type": "code",
   "execution_count": 80,
   "metadata": {},
   "outputs": [],
   "source": [
    "y_pred_w2v_ensb = y_pred_w2v_ensb.merge(y_pred_w2v_CART, how='inner', left_index = True, right_index = True, on = 'Product')"
   ]
  },
  {
   "cell_type": "code",
   "execution_count": 81,
   "metadata": {},
   "outputs": [
    {
     "data": {
      "text/plain": [
       "(48018, 4)"
      ]
     },
     "execution_count": 81,
     "metadata": {},
     "output_type": "execute_result"
    }
   ],
   "source": [
    "y_pred_w2v_ensb.shape"
   ]
  },
  {
   "cell_type": "code",
   "execution_count": 82,
   "metadata": {},
   "outputs": [
    {
     "data": {
      "text/html": [
       "<div>\n",
       "<style scoped>\n",
       "    .dataframe tbody tr th:only-of-type {\n",
       "        vertical-align: middle;\n",
       "    }\n",
       "\n",
       "    .dataframe tbody tr th {\n",
       "        vertical-align: top;\n",
       "    }\n",
       "\n",
       "    .dataframe thead th {\n",
       "        text-align: right;\n",
       "    }\n",
       "</style>\n",
       "<table border=\"1\" class=\"dataframe\">\n",
       "  <thead>\n",
       "    <tr style=\"text-align: right;\">\n",
       "      <th></th>\n",
       "      <th>Product</th>\n",
       "      <th>Tags_w2v_NB</th>\n",
       "      <th>Tags_w2v_LR</th>\n",
       "      <th>Tags_w2v_CART</th>\n",
       "    </tr>\n",
       "  </thead>\n",
       "  <tbody>\n",
       "    <tr>\n",
       "      <th>0</th>\n",
       "      <td>Xiaomi Redmi 4A</td>\n",
       "      <td>1</td>\n",
       "      <td>1</td>\n",
       "      <td>1</td>\n",
       "    </tr>\n",
       "    <tr>\n",
       "      <th>1</th>\n",
       "      <td>Lenovo K3 Note</td>\n",
       "      <td>0</td>\n",
       "      <td>1</td>\n",
       "      <td>1</td>\n",
       "    </tr>\n",
       "    <tr>\n",
       "      <th>2</th>\n",
       "      <td>Samsung Galaxy Note 3</td>\n",
       "      <td>1</td>\n",
       "      <td>1</td>\n",
       "      <td>1</td>\n",
       "    </tr>\n",
       "    <tr>\n",
       "      <th>3</th>\n",
       "      <td>Xiaomi Redmi Note 3</td>\n",
       "      <td>1</td>\n",
       "      <td>1</td>\n",
       "      <td>1</td>\n",
       "    </tr>\n",
       "    <tr>\n",
       "      <th>4</th>\n",
       "      <td>Xiaomi Redmi 3S Prime</td>\n",
       "      <td>1</td>\n",
       "      <td>1</td>\n",
       "      <td>1</td>\n",
       "    </tr>\n",
       "  </tbody>\n",
       "</table>\n",
       "</div>"
      ],
      "text/plain": [
       "                 Product  Tags_w2v_NB  Tags_w2v_LR  Tags_w2v_CART\n",
       "0        Xiaomi Redmi 4A            1            1              1\n",
       "1         Lenovo K3 Note            0            1              1\n",
       "2  Samsung Galaxy Note 3            1            1              1\n",
       "3    Xiaomi Redmi Note 3            1            1              1\n",
       "4  Xiaomi Redmi 3S Prime            1            1              1"
      ]
     },
     "execution_count": 82,
     "metadata": {},
     "output_type": "execute_result"
    }
   ],
   "source": [
    "\n",
    "y_pred_w2v_ensb.head()"
   ]
  },
  {
   "cell_type": "code",
   "execution_count": 83,
   "metadata": {},
   "outputs": [],
   "source": [
    "y_pred_w2v_ensb = y_pred_w2v_ensb.merge(y_pred_w2v_SVM, how='inner', left_index = True, right_index = True, on = 'Product')"
   ]
  },
  {
   "cell_type": "code",
   "execution_count": 84,
   "metadata": {},
   "outputs": [
    {
     "data": {
      "text/plain": [
       "Index(['Product', 'Tags_w2v_NB', 'Tags_w2v_LR', 'Tags_w2v_CART',\n",
       "       'Tags_w2v_SVM'],\n",
       "      dtype='object')"
      ]
     },
     "execution_count": 84,
     "metadata": {},
     "output_type": "execute_result"
    }
   ],
   "source": [
    "\n",
    "y_pred_w2v_ensb.columns"
   ]
  },
  {
   "cell_type": "code",
   "execution_count": 85,
   "metadata": {},
   "outputs": [],
   "source": [
    "#Adding weights on classifiers based on the performance of the classifiers in terms of accuracy, precision and recall\n",
    "#Naive Bayes and Decision Tree has been added a weight of 0.5 each\n",
    "y_pred_w2v_ensb[\"Total Votes\"] = (0.5*y_pred_w2v_ensb[\"Tags_w2v_NB\"])+y_pred_w2v_ensb[\"Tags_w2v_LR\"] + (0.5*y_pred_w2v_ensb[\"Tags_w2v_CART\"])+y_pred_w2v_ensb[\"Tags_w2v_SVM\"]\n"
   ]
  },
  {
   "cell_type": "code",
   "execution_count": 86,
   "metadata": {},
   "outputs": [],
   "source": [
    "y_pred_w2v_ensb[\"Majority of Votes\"]  = [1 if x >=2 else 0 for x in y_pred_w2v_ensb[\"Total Votes\"]] "
   ]
  },
  {
   "cell_type": "code",
   "execution_count": 87,
   "metadata": {},
   "outputs": [
    {
     "data": {
      "text/plain": [
       "'              precision    recall  f1-score   support\\n\\n     class 0       0.80      0.59      0.68      7791\\n     class 1       0.92      0.97      0.95     40227\\n\\n    accuracy                           0.91     48018\\n   macro avg       0.86      0.78      0.81     48018\\nweighted avg       0.90      0.91      0.90     48018\\n'"
      ]
     },
     "execution_count": 87,
     "metadata": {},
     "output_type": "execute_result"
    }
   ],
   "source": [
    "target_names = ['class 0', 'class 1']\n",
    "ClassificationReport_w2v_Ensemble=classification_report(y_test, y_pred_w2v_ensb[\"Majority of Votes\"], target_names=target_names)\n",
    "ClassificationReport_w2v_Ensemble\n",
    "\n",
    "#'              precision    recall  f1-score   support\\n\\n     \n",
    "#class 0       0.79      0.60      0.68      7791\\n     \n",
    "#class 1       0.93      0.97      0.95     40227\\n\\n    \n",
    "#accuracy                          0.91     48018\\n   \n",
    "#macro avg     0.86      0.79      0.82     48018\\n\n",
    "#weighted avg  0.90      0.91      0.90     48018\\n'\n"
   ]
  },
  {
   "cell_type": "code",
   "execution_count": 88,
   "metadata": {},
   "outputs": [
    {
     "data": {
      "text/plain": [
       "array([[ 4619,  3172],\n",
       "       [ 1179, 39048]], dtype=int64)"
      ]
     },
     "execution_count": 88,
     "metadata": {},
     "output_type": "execute_result"
    }
   ],
   "source": [
    "ConfusionMatrix_w2v_Ensemble=confusion_matrix(y_test, y_pred_w2v_ensb[\"Majority of Votes\"])\n",
    "ConfusionMatrix_w2v_Ensemble"
   ]
  },
  {
   "cell_type": "code",
   "execution_count": 89,
   "metadata": {},
   "outputs": [
    {
     "data": {
      "text/plain": [
       "0.9093881461118747"
      ]
     },
     "execution_count": 89,
     "metadata": {},
     "output_type": "execute_result"
    }
   ],
   "source": [
    "accuracy_score(y_test, y_pred_w2v_ensb[\"Majority of Votes\"]) #0.909575575825732 accuracy of base model"
   ]
  },
  {
   "cell_type": "code",
   "execution_count": null,
   "metadata": {},
   "outputs": [],
   "source": []
  },
  {
   "cell_type": "markdown",
   "metadata": {},
   "source": [
    "### Ensemble Model on word2vec vector (Classifiers used- Decision Tree, Naive Bayes, Decision Tree and Logistic Regression)"
   ]
  },
  {
   "cell_type": "code",
   "execution_count": 90,
   "metadata": {},
   "outputs": [],
   "source": [
    "from sklearn import model_selection\n",
    "from sklearn.linear_model import LogisticRegression\n",
    "from sklearn.tree import DecisionTreeClassifier\n",
    "from sklearn.svm import SVC\n",
    "from sklearn.naive_bayes import BernoulliNB\n",
    "from sklearn.ensemble import VotingClassifier"
   ]
  },
  {
   "cell_type": "code",
   "execution_count": 91,
   "metadata": {},
   "outputs": [
    {
     "name": "stderr",
     "output_type": "stream",
     "text": [
      "C:\\Users\\halapets\\AppData\\Local\\Continuum\\anaconda3\\lib\\site-packages\\sklearn\\model_selection\\_split.py:296: FutureWarning: Setting a random_state has no effect since shuffle is False. This will raise an error in 0.24. You should leave random_state to its default (None), or set shuffle=True.\n",
      "  FutureWarning\n"
     ]
    }
   ],
   "source": [
    "seed = 7\n",
    "kfold = model_selection.KFold(n_splits=3, random_state=seed)\n",
    "# create the sub models\n",
    "estimators = []\n",
    "model1 = LogisticRegression()\n",
    "estimators.append(('logistic', model1))\n",
    "model2 = DecisionTreeClassifier()\n",
    "estimators.append(('cart', model2))\n",
    "model3 = SVC()\n",
    "estimators.append(('svm', model3))\n",
    "model4 = BernoulliNB()\n",
    "estimators.append(('NB', model4))\n",
    "# create the ensemble model\n",
    "ensemble = VotingClassifier(estimators)\n"
   ]
  },
  {
   "cell_type": "code",
   "execution_count": 92,
   "metadata": {},
   "outputs": [],
   "source": [
    "#removing Product Column from word2vec vectorised data\n",
    "X_Reviews = X.drop('Product', axis = 1)\n"
   ]
  },
  {
   "cell_type": "code",
   "execution_count": 95,
   "metadata": {},
   "outputs": [
    {
     "name": "stderr",
     "output_type": "stream",
     "text": [
      "C:\\Users\\halapets\\AppData\\Local\\Continuum\\anaconda3\\lib\\site-packages\\sklearn\\linear_model\\_logistic.py:939: ConvergenceWarning: lbfgs failed to converge (status=1):\n",
      "STOP: TOTAL NO. of ITERATIONS REACHED LIMIT.\n",
      "\n",
      "Increase the number of iterations (max_iter) or scale the data as shown in:\n",
      "    https://scikit-learn.org/stable/modules/preprocessing.html.\n",
      "Please also refer to the documentation for alternative solver options:\n",
      "    https://scikit-learn.org/stable/modules/linear_model.html#logistic-regression\n",
      "  extra_warning_msg=_LOGISTIC_SOLVER_CONVERGENCE_MSG)\n",
      "C:\\Users\\halapets\\AppData\\Local\\Continuum\\anaconda3\\lib\\site-packages\\sklearn\\linear_model\\_logistic.py:939: ConvergenceWarning: lbfgs failed to converge (status=1):\n",
      "STOP: TOTAL NO. of ITERATIONS REACHED LIMIT.\n",
      "\n",
      "Increase the number of iterations (max_iter) or scale the data as shown in:\n",
      "    https://scikit-learn.org/stable/modules/preprocessing.html.\n",
      "Please also refer to the documentation for alternative solver options:\n",
      "    https://scikit-learn.org/stable/modules/linear_model.html#logistic-regression\n",
      "  extra_warning_msg=_LOGISTIC_SOLVER_CONVERGENCE_MSG)\n",
      "C:\\Users\\halapets\\AppData\\Local\\Continuum\\anaconda3\\lib\\site-packages\\sklearn\\linear_model\\_logistic.py:939: ConvergenceWarning: lbfgs failed to converge (status=1):\n",
      "STOP: TOTAL NO. of ITERATIONS REACHED LIMIT.\n",
      "\n",
      "Increase the number of iterations (max_iter) or scale the data as shown in:\n",
      "    https://scikit-learn.org/stable/modules/preprocessing.html.\n",
      "Please also refer to the documentation for alternative solver options:\n",
      "    https://scikit-learn.org/stable/modules/linear_model.html#logistic-regression\n",
      "  extra_warning_msg=_LOGISTIC_SOLVER_CONVERGENCE_MSG)\n"
     ]
    },
    {
     "name": "stdout",
     "output_type": "stream",
     "text": [
      "0.8846910169636231\n"
     ]
    }
   ],
   "source": [
    "results_w2v = model_selection.cross_val_score(ensemble, X_Reviews, y, cv=kfold)\n",
    "print(results_w2v.mean()) #mean estimate of classification accuracy 0.8846910169636231"
   ]
  },
  {
   "cell_type": "code",
   "execution_count": 96,
   "metadata": {},
   "outputs": [
    {
     "data": {
      "text/plain": [
       "0.008214456007743948"
      ]
     },
     "execution_count": 96,
     "metadata": {},
     "output_type": "execute_result"
    }
   ],
   "source": [
    "results_w2v.std()# Standard Deviation for classification accuracy 0.008214456007743948"
   ]
  },
  {
   "cell_type": "code",
   "execution_count": null,
   "metadata": {},
   "outputs": [],
   "source": []
  },
  {
   "cell_type": "code",
   "execution_count": null,
   "metadata": {},
   "outputs": [],
   "source": []
  },
  {
   "cell_type": "code",
   "execution_count": null,
   "metadata": {},
   "outputs": [],
   "source": []
  },
  {
   "cell_type": "code",
   "execution_count": null,
   "metadata": {},
   "outputs": [],
   "source": []
  },
  {
   "cell_type": "code",
   "execution_count": null,
   "metadata": {},
   "outputs": [],
   "source": []
  },
  {
   "cell_type": "code",
   "execution_count": null,
   "metadata": {},
   "outputs": [],
   "source": []
  },
  {
   "cell_type": "code",
   "execution_count": null,
   "metadata": {},
   "outputs": [],
   "source": []
  },
  {
   "cell_type": "code",
   "execution_count": null,
   "metadata": {},
   "outputs": [],
   "source": []
  },
  {
   "cell_type": "code",
   "execution_count": null,
   "metadata": {},
   "outputs": [],
   "source": []
  },
  {
   "cell_type": "code",
   "execution_count": null,
   "metadata": {},
   "outputs": [],
   "source": []
  },
  {
   "cell_type": "code",
   "execution_count": null,
   "metadata": {},
   "outputs": [],
   "source": []
  },
  {
   "cell_type": "code",
   "execution_count": null,
   "metadata": {},
   "outputs": [],
   "source": []
  },
  {
   "cell_type": "code",
   "execution_count": null,
   "metadata": {},
   "outputs": [],
   "source": []
  },
  {
   "cell_type": "code",
   "execution_count": null,
   "metadata": {},
   "outputs": [],
   "source": []
  },
  {
   "cell_type": "code",
   "execution_count": null,
   "metadata": {},
   "outputs": [],
   "source": []
  },
  {
   "cell_type": "code",
   "execution_count": null,
   "metadata": {},
   "outputs": [],
   "source": []
  },
  {
   "cell_type": "code",
   "execution_count": null,
   "metadata": {},
   "outputs": [],
   "source": []
  },
  {
   "cell_type": "code",
   "execution_count": null,
   "metadata": {},
   "outputs": [],
   "source": []
  },
  {
   "cell_type": "code",
   "execution_count": null,
   "metadata": {},
   "outputs": [],
   "source": []
  },
  {
   "cell_type": "code",
   "execution_count": null,
   "metadata": {},
   "outputs": [],
   "source": []
  },
  {
   "cell_type": "code",
   "execution_count": null,
   "metadata": {},
   "outputs": [],
   "source": []
  },
  {
   "cell_type": "code",
   "execution_count": null,
   "metadata": {},
   "outputs": [],
   "source": []
  },
  {
   "cell_type": "code",
   "execution_count": null,
   "metadata": {},
   "outputs": [],
   "source": []
  },
  {
   "cell_type": "code",
   "execution_count": null,
   "metadata": {},
   "outputs": [],
   "source": []
  },
  {
   "cell_type": "code",
   "execution_count": null,
   "metadata": {},
   "outputs": [],
   "source": []
  },
  {
   "cell_type": "code",
   "execution_count": null,
   "metadata": {},
   "outputs": [],
   "source": []
  },
  {
   "cell_type": "code",
   "execution_count": null,
   "metadata": {},
   "outputs": [],
   "source": []
  },
  {
   "cell_type": "code",
   "execution_count": null,
   "metadata": {},
   "outputs": [],
   "source": []
  },
  {
   "cell_type": "code",
   "execution_count": null,
   "metadata": {},
   "outputs": [],
   "source": []
  },
  {
   "cell_type": "code",
   "execution_count": null,
   "metadata": {},
   "outputs": [],
   "source": []
  },
  {
   "cell_type": "code",
   "execution_count": null,
   "metadata": {},
   "outputs": [],
   "source": []
  },
  {
   "cell_type": "code",
   "execution_count": null,
   "metadata": {},
   "outputs": [],
   "source": []
  },
  {
   "cell_type": "code",
   "execution_count": null,
   "metadata": {},
   "outputs": [],
   "source": []
  },
  {
   "cell_type": "code",
   "execution_count": null,
   "metadata": {},
   "outputs": [],
   "source": []
  },
  {
   "cell_type": "code",
   "execution_count": null,
   "metadata": {},
   "outputs": [],
   "source": []
  },
  {
   "cell_type": "code",
   "execution_count": null,
   "metadata": {},
   "outputs": [],
   "source": []
  },
  {
   "cell_type": "code",
   "execution_count": null,
   "metadata": {},
   "outputs": [],
   "source": []
  },
  {
   "cell_type": "code",
   "execution_count": null,
   "metadata": {},
   "outputs": [],
   "source": []
  },
  {
   "cell_type": "code",
   "execution_count": null,
   "metadata": {},
   "outputs": [],
   "source": []
  },
  {
   "cell_type": "code",
   "execution_count": null,
   "metadata": {},
   "outputs": [],
   "source": []
  },
  {
   "cell_type": "code",
   "execution_count": null,
   "metadata": {},
   "outputs": [],
   "source": []
  },
  {
   "cell_type": "code",
   "execution_count": null,
   "metadata": {},
   "outputs": [],
   "source": []
  },
  {
   "cell_type": "code",
   "execution_count": null,
   "metadata": {},
   "outputs": [],
   "source": []
  },
  {
   "cell_type": "code",
   "execution_count": null,
   "metadata": {},
   "outputs": [],
   "source": []
  },
  {
   "cell_type": "code",
   "execution_count": null,
   "metadata": {},
   "outputs": [],
   "source": []
  },
  {
   "cell_type": "code",
   "execution_count": null,
   "metadata": {},
   "outputs": [],
   "source": []
  },
  {
   "cell_type": "code",
   "execution_count": null,
   "metadata": {},
   "outputs": [],
   "source": []
  },
  {
   "cell_type": "code",
   "execution_count": null,
   "metadata": {},
   "outputs": [],
   "source": []
  },
  {
   "cell_type": "code",
   "execution_count": null,
   "metadata": {},
   "outputs": [],
   "source": []
  },
  {
   "cell_type": "code",
   "execution_count": null,
   "metadata": {},
   "outputs": [],
   "source": []
  },
  {
   "cell_type": "code",
   "execution_count": null,
   "metadata": {},
   "outputs": [],
   "source": []
  },
  {
   "cell_type": "code",
   "execution_count": null,
   "metadata": {},
   "outputs": [],
   "source": []
  },
  {
   "cell_type": "code",
   "execution_count": null,
   "metadata": {},
   "outputs": [],
   "source": []
  },
  {
   "cell_type": "code",
   "execution_count": null,
   "metadata": {},
   "outputs": [],
   "source": []
  },
  {
   "cell_type": "code",
   "execution_count": null,
   "metadata": {},
   "outputs": [],
   "source": []
  },
  {
   "cell_type": "code",
   "execution_count": null,
   "metadata": {},
   "outputs": [],
   "source": []
  },
  {
   "cell_type": "code",
   "execution_count": null,
   "metadata": {},
   "outputs": [],
   "source": []
  },
  {
   "cell_type": "code",
   "execution_count": null,
   "metadata": {},
   "outputs": [],
   "source": []
  },
  {
   "cell_type": "code",
   "execution_count": null,
   "metadata": {},
   "outputs": [],
   "source": []
  },
  {
   "cell_type": "code",
   "execution_count": null,
   "metadata": {},
   "outputs": [],
   "source": []
  },
  {
   "cell_type": "code",
   "execution_count": null,
   "metadata": {},
   "outputs": [],
   "source": []
  },
  {
   "cell_type": "code",
   "execution_count": null,
   "metadata": {},
   "outputs": [],
   "source": []
  },
  {
   "cell_type": "code",
   "execution_count": null,
   "metadata": {},
   "outputs": [],
   "source": []
  },
  {
   "cell_type": "code",
   "execution_count": null,
   "metadata": {},
   "outputs": [],
   "source": []
  },
  {
   "cell_type": "code",
   "execution_count": null,
   "metadata": {},
   "outputs": [],
   "source": []
  },
  {
   "cell_type": "code",
   "execution_count": null,
   "metadata": {},
   "outputs": [],
   "source": []
  },
  {
   "cell_type": "code",
   "execution_count": null,
   "metadata": {},
   "outputs": [],
   "source": []
  },
  {
   "cell_type": "code",
   "execution_count": null,
   "metadata": {},
   "outputs": [],
   "source": []
  },
  {
   "cell_type": "code",
   "execution_count": null,
   "metadata": {},
   "outputs": [],
   "source": []
  },
  {
   "cell_type": "code",
   "execution_count": null,
   "metadata": {},
   "outputs": [],
   "source": []
  },
  {
   "cell_type": "code",
   "execution_count": null,
   "metadata": {},
   "outputs": [],
   "source": []
  },
  {
   "cell_type": "code",
   "execution_count": null,
   "metadata": {},
   "outputs": [],
   "source": []
  },
  {
   "cell_type": "code",
   "execution_count": null,
   "metadata": {},
   "outputs": [],
   "source": []
  },
  {
   "cell_type": "code",
   "execution_count": null,
   "metadata": {},
   "outputs": [],
   "source": []
  },
  {
   "cell_type": "code",
   "execution_count": null,
   "metadata": {},
   "outputs": [],
   "source": []
  },
  {
   "cell_type": "code",
   "execution_count": null,
   "metadata": {},
   "outputs": [],
   "source": []
  },
  {
   "cell_type": "code",
   "execution_count": null,
   "metadata": {},
   "outputs": [],
   "source": []
  },
  {
   "cell_type": "code",
   "execution_count": null,
   "metadata": {},
   "outputs": [],
   "source": []
  },
  {
   "cell_type": "code",
   "execution_count": null,
   "metadata": {},
   "outputs": [],
   "source": []
  },
  {
   "cell_type": "code",
   "execution_count": null,
   "metadata": {},
   "outputs": [],
   "source": []
  },
  {
   "cell_type": "code",
   "execution_count": null,
   "metadata": {},
   "outputs": [],
   "source": []
  },
  {
   "cell_type": "code",
   "execution_count": null,
   "metadata": {},
   "outputs": [],
   "source": []
  },
  {
   "cell_type": "code",
   "execution_count": null,
   "metadata": {},
   "outputs": [],
   "source": []
  },
  {
   "cell_type": "code",
   "execution_count": null,
   "metadata": {},
   "outputs": [],
   "source": []
  },
  {
   "cell_type": "code",
   "execution_count": null,
   "metadata": {},
   "outputs": [],
   "source": []
  },
  {
   "cell_type": "code",
   "execution_count": null,
   "metadata": {},
   "outputs": [],
   "source": []
  },
  {
   "cell_type": "code",
   "execution_count": null,
   "metadata": {},
   "outputs": [],
   "source": []
  },
  {
   "cell_type": "code",
   "execution_count": null,
   "metadata": {},
   "outputs": [],
   "source": []
  },
  {
   "cell_type": "code",
   "execution_count": null,
   "metadata": {},
   "outputs": [],
   "source": []
  },
  {
   "cell_type": "code",
   "execution_count": null,
   "metadata": {},
   "outputs": [],
   "source": []
  },
  {
   "cell_type": "code",
   "execution_count": null,
   "metadata": {},
   "outputs": [],
   "source": []
  },
  {
   "cell_type": "code",
   "execution_count": null,
   "metadata": {},
   "outputs": [],
   "source": []
  },
  {
   "cell_type": "code",
   "execution_count": null,
   "metadata": {},
   "outputs": [],
   "source": []
  },
  {
   "cell_type": "code",
   "execution_count": null,
   "metadata": {},
   "outputs": [],
   "source": []
  },
  {
   "cell_type": "code",
   "execution_count": null,
   "metadata": {},
   "outputs": [],
   "source": []
  },
  {
   "cell_type": "code",
   "execution_count": null,
   "metadata": {},
   "outputs": [],
   "source": []
  },
  {
   "cell_type": "code",
   "execution_count": null,
   "metadata": {},
   "outputs": [],
   "source": []
  },
  {
   "cell_type": "code",
   "execution_count": null,
   "metadata": {},
   "outputs": [],
   "source": []
  },
  {
   "cell_type": "code",
   "execution_count": null,
   "metadata": {},
   "outputs": [],
   "source": []
  },
  {
   "cell_type": "code",
   "execution_count": null,
   "metadata": {},
   "outputs": [],
   "source": []
  },
  {
   "cell_type": "code",
   "execution_count": null,
   "metadata": {},
   "outputs": [],
   "source": []
  },
  {
   "cell_type": "code",
   "execution_count": null,
   "metadata": {},
   "outputs": [],
   "source": []
  },
  {
   "cell_type": "code",
   "execution_count": null,
   "metadata": {},
   "outputs": [],
   "source": []
  },
  {
   "cell_type": "code",
   "execution_count": null,
   "metadata": {},
   "outputs": [],
   "source": []
  },
  {
   "cell_type": "code",
   "execution_count": null,
   "metadata": {},
   "outputs": [],
   "source": []
  },
  {
   "cell_type": "code",
   "execution_count": null,
   "metadata": {},
   "outputs": [],
   "source": []
  },
  {
   "cell_type": "code",
   "execution_count": null,
   "metadata": {},
   "outputs": [],
   "source": []
  },
  {
   "cell_type": "code",
   "execution_count": null,
   "metadata": {},
   "outputs": [],
   "source": []
  },
  {
   "cell_type": "code",
   "execution_count": null,
   "metadata": {},
   "outputs": [],
   "source": []
  },
  {
   "cell_type": "code",
   "execution_count": null,
   "metadata": {},
   "outputs": [],
   "source": []
  },
  {
   "cell_type": "code",
   "execution_count": null,
   "metadata": {},
   "outputs": [],
   "source": []
  },
  {
   "cell_type": "code",
   "execution_count": null,
   "metadata": {},
   "outputs": [],
   "source": []
  },
  {
   "cell_type": "code",
   "execution_count": null,
   "metadata": {},
   "outputs": [],
   "source": []
  },
  {
   "cell_type": "code",
   "execution_count": null,
   "metadata": {},
   "outputs": [],
   "source": []
  },
  {
   "cell_type": "code",
   "execution_count": null,
   "metadata": {},
   "outputs": [],
   "source": []
  },
  {
   "cell_type": "code",
   "execution_count": null,
   "metadata": {},
   "outputs": [],
   "source": []
  },
  {
   "cell_type": "code",
   "execution_count": null,
   "metadata": {},
   "outputs": [],
   "source": []
  },
  {
   "cell_type": "code",
   "execution_count": null,
   "metadata": {},
   "outputs": [],
   "source": []
  },
  {
   "cell_type": "code",
   "execution_count": null,
   "metadata": {},
   "outputs": [],
   "source": []
  },
  {
   "cell_type": "code",
   "execution_count": null,
   "metadata": {},
   "outputs": [],
   "source": []
  },
  {
   "cell_type": "code",
   "execution_count": null,
   "metadata": {},
   "outputs": [],
   "source": []
  },
  {
   "cell_type": "code",
   "execution_count": null,
   "metadata": {},
   "outputs": [],
   "source": []
  },
  {
   "cell_type": "code",
   "execution_count": null,
   "metadata": {},
   "outputs": [],
   "source": []
  },
  {
   "cell_type": "code",
   "execution_count": null,
   "metadata": {},
   "outputs": [],
   "source": []
  },
  {
   "cell_type": "code",
   "execution_count": null,
   "metadata": {},
   "outputs": [],
   "source": []
  },
  {
   "cell_type": "code",
   "execution_count": null,
   "metadata": {},
   "outputs": [],
   "source": []
  },
  {
   "cell_type": "code",
   "execution_count": null,
   "metadata": {},
   "outputs": [],
   "source": []
  },
  {
   "cell_type": "code",
   "execution_count": null,
   "metadata": {},
   "outputs": [],
   "source": []
  },
  {
   "cell_type": "code",
   "execution_count": null,
   "metadata": {},
   "outputs": [],
   "source": []
  },
  {
   "cell_type": "code",
   "execution_count": null,
   "metadata": {},
   "outputs": [],
   "source": []
  },
  {
   "cell_type": "code",
   "execution_count": null,
   "metadata": {},
   "outputs": [],
   "source": []
  },
  {
   "cell_type": "code",
   "execution_count": null,
   "metadata": {},
   "outputs": [],
   "source": []
  },
  {
   "cell_type": "code",
   "execution_count": null,
   "metadata": {},
   "outputs": [],
   "source": []
  },
  {
   "cell_type": "code",
   "execution_count": null,
   "metadata": {},
   "outputs": [],
   "source": []
  },
  {
   "cell_type": "code",
   "execution_count": null,
   "metadata": {},
   "outputs": [],
   "source": []
  },
  {
   "cell_type": "code",
   "execution_count": null,
   "metadata": {},
   "outputs": [],
   "source": []
  },
  {
   "cell_type": "code",
   "execution_count": null,
   "metadata": {},
   "outputs": [],
   "source": []
  },
  {
   "cell_type": "code",
   "execution_count": null,
   "metadata": {},
   "outputs": [],
   "source": []
  },
  {
   "cell_type": "code",
   "execution_count": null,
   "metadata": {},
   "outputs": [],
   "source": []
  },
  {
   "cell_type": "code",
   "execution_count": null,
   "metadata": {},
   "outputs": [],
   "source": []
  },
  {
   "cell_type": "code",
   "execution_count": null,
   "metadata": {},
   "outputs": [],
   "source": []
  },
  {
   "cell_type": "code",
   "execution_count": null,
   "metadata": {},
   "outputs": [],
   "source": []
  },
  {
   "cell_type": "code",
   "execution_count": null,
   "metadata": {},
   "outputs": [],
   "source": []
  },
  {
   "cell_type": "code",
   "execution_count": null,
   "metadata": {},
   "outputs": [],
   "source": []
  },
  {
   "cell_type": "code",
   "execution_count": null,
   "metadata": {},
   "outputs": [],
   "source": []
  },
  {
   "cell_type": "code",
   "execution_count": null,
   "metadata": {},
   "outputs": [],
   "source": []
  },
  {
   "cell_type": "code",
   "execution_count": null,
   "metadata": {},
   "outputs": [],
   "source": []
  },
  {
   "cell_type": "code",
   "execution_count": null,
   "metadata": {},
   "outputs": [],
   "source": []
  },
  {
   "cell_type": "code",
   "execution_count": null,
   "metadata": {},
   "outputs": [],
   "source": []
  },
  {
   "cell_type": "code",
   "execution_count": null,
   "metadata": {},
   "outputs": [],
   "source": []
  },
  {
   "cell_type": "code",
   "execution_count": null,
   "metadata": {},
   "outputs": [],
   "source": []
  },
  {
   "cell_type": "code",
   "execution_count": null,
   "metadata": {},
   "outputs": [],
   "source": []
  },
  {
   "cell_type": "code",
   "execution_count": null,
   "metadata": {},
   "outputs": [],
   "source": []
  },
  {
   "cell_type": "code",
   "execution_count": null,
   "metadata": {},
   "outputs": [],
   "source": []
  },
  {
   "cell_type": "code",
   "execution_count": null,
   "metadata": {},
   "outputs": [],
   "source": []
  },
  {
   "cell_type": "code",
   "execution_count": null,
   "metadata": {},
   "outputs": [],
   "source": []
  },
  {
   "cell_type": "code",
   "execution_count": null,
   "metadata": {},
   "outputs": [],
   "source": []
  },
  {
   "cell_type": "code",
   "execution_count": null,
   "metadata": {},
   "outputs": [],
   "source": []
  },
  {
   "cell_type": "code",
   "execution_count": null,
   "metadata": {},
   "outputs": [],
   "source": []
  },
  {
   "cell_type": "code",
   "execution_count": null,
   "metadata": {},
   "outputs": [],
   "source": []
  },
  {
   "cell_type": "code",
   "execution_count": null,
   "metadata": {},
   "outputs": [],
   "source": []
  },
  {
   "cell_type": "code",
   "execution_count": null,
   "metadata": {},
   "outputs": [],
   "source": []
  },
  {
   "cell_type": "code",
   "execution_count": null,
   "metadata": {},
   "outputs": [],
   "source": []
  }
 ],
 "metadata": {
  "colab": {
   "name": "Word_Embedding_using_word2Vec.ipynb",
   "provenance": [],
   "version": "0.3.2"
  },
  "kernelspec": {
   "display_name": "Python 3",
   "language": "python",
   "name": "python3"
  },
  "language_info": {
   "codemirror_mode": {
    "name": "ipython",
    "version": 3
   },
   "file_extension": ".py",
   "mimetype": "text/x-python",
   "name": "python",
   "nbconvert_exporter": "python",
   "pygments_lexer": "ipython3",
   "version": "3.7.5"
  }
 },
 "nbformat": 4,
 "nbformat_minor": 1
}
