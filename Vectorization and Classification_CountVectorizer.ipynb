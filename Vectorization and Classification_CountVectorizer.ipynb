{
 "cells": [
  {
   "cell_type": "code",
   "execution_count": 12,
   "metadata": {},
   "outputs": [
    {
     "name": "stderr",
     "output_type": "stream",
     "text": [
      "[nltk_data] Downloading package treebank to\n",
      "[nltk_data]     C:\\Users\\halapets\\AppData\\Roaming\\nltk_data...\n",
      "[nltk_data]   Package treebank is already up-to-date!\n",
      "[nltk_data] Downloading package punkt to\n",
      "[nltk_data]     C:\\Users\\halapets\\AppData\\Roaming\\nltk_data...\n",
      "[nltk_data]   Package punkt is already up-to-date!\n",
      "[nltk_data] Downloading package universal_tagset to\n",
      "[nltk_data]     C:\\Users\\halapets\\AppData\\Roaming\\nltk_data...\n",
      "[nltk_data]   Package universal_tagset is already up-to-date!\n"
     ]
    }
   ],
   "source": [
    "#Importing libraries\n",
    "#from sklearn.feature_selection.chi2(X, y)\n",
    "from sklearn.feature_extraction.text import CountVectorizer\n",
    "from sklearn.base import TransformerMixin\n",
    "import numpy as np\n",
    "import pandas as pd\n",
    "from matplotlib import pyplot as plt\n",
    "import nltk\n",
    "from nltk.corpus import stopwords\n",
    "from nltk.tokenize import word_tokenize\n",
    "import re\n",
    "import requests\n",
    "import seaborn as sns\n",
    "import pprint, time\n",
    "from sklearn.model_selection import train_test_split\n",
    "nltk.download('treebank')\n",
    "from nltk.tokenize import sent_tokenize\n",
    "import string\n",
    "from nltk.tokenize import RegexpTokenizer\n",
    "from nltk.stem import WordNetLemmatizer\n",
    "from nltk.stem.porter import PorterStemmer\n",
    "from collections import Counter\n",
    "from spellchecker import SpellChecker\n",
    "import random\n",
    "from sklearn_crfsuite import CRF\n",
    "from sklearn_crfsuite import metrics\n",
    "from sklearn_crfsuite import scorers\n",
    "import base64\n",
    "from sklearn.feature_extraction.text import TfidfVectorizer\n",
    "from sklearn.pipeline import Pipeline\n",
    "from sklearn.metrics import accuracy_score, classification_report, confusion_matrix\n",
    "\n",
    "nltk.download('punkt')\n",
    "\n",
    "nltk.download('universal_tagset')\n",
    "\n",
    "%matplotlib inline\n",
    "\n",
    "punct = string.punctuation"
   ]
  },
  {
   "cell_type": "markdown",
   "metadata": {},
   "source": [
    "### Bag of Words and LinearSVC (Support Vector Classifier)"
   ]
  },
  {
   "cell_type": "code",
   "execution_count": 13,
   "metadata": {},
   "outputs": [],
   "source": [
    "#loading spacy\n",
    "import spacy\n",
    "nlp = spacy.load(\"en_core_web_lg\")\n",
    "nlp.max_length = 16000000"
   ]
  },
  {
   "cell_type": "code",
   "execution_count": 14,
   "metadata": {},
   "outputs": [
    {
     "data": {
      "text/plain": [
       "['himself',\n",
       " 'front',\n",
       " 'full',\n",
       " 'her',\n",
       " 'get',\n",
       " 'ten',\n",
       " 'twelve',\n",
       " 'was',\n",
       " 'done',\n",
       " 'an',\n",
       " 'together',\n",
       " 'beside',\n",
       " 'might',\n",
       " 'even',\n",
       " 'since',\n",
       " 'within',\n",
       " '’re',\n",
       " 'who',\n",
       " 'amount',\n",
       " 'nothing',\n",
       " 'thereby',\n",
       " 'next',\n",
       " 'those',\n",
       " 'using',\n",
       " 'third',\n",
       " 'however',\n",
       " 'through',\n",
       " 'about',\n",
       " 'may',\n",
       " 'under',\n",
       " 'around',\n",
       " 'until',\n",
       " 'if',\n",
       " 'due',\n",
       " 'fifteen',\n",
       " 'would',\n",
       " 'no',\n",
       " 'whence',\n",
       " 'whose',\n",
       " 'below',\n",
       " 'go',\n",
       " 'from',\n",
       " 'did',\n",
       " 'against',\n",
       " '‘m',\n",
       " 'almost',\n",
       " 'been',\n",
       " 'beyond',\n",
       " 'their',\n",
       " 'therein',\n",
       " 'first',\n",
       " 'move',\n",
       " 'any',\n",
       " 'the',\n",
       " 'at',\n",
       " 'same',\n",
       " 'latter',\n",
       " '’s',\n",
       " 'hereby',\n",
       " 'further',\n",
       " '‘ve',\n",
       " 'side',\n",
       " 'your',\n",
       " 'also',\n",
       " 'down',\n",
       " 'each',\n",
       " '‘d',\n",
       " 'all',\n",
       " 'anyway',\n",
       " 'some',\n",
       " 'ever',\n",
       " 'wherein',\n",
       " 'have',\n",
       " 'yours',\n",
       " 'whereafter',\n",
       " 'whither',\n",
       " 'twenty',\n",
       " 'eleven',\n",
       " 'well',\n",
       " 'alone',\n",
       " 'rather',\n",
       " 'and',\n",
       " 'fifty',\n",
       " 'myself',\n",
       " 'therefore',\n",
       " 'thus',\n",
       " 'always',\n",
       " 'namely',\n",
       " 'whenever',\n",
       " 'herein',\n",
       " 'a',\n",
       " 'bottom',\n",
       " 'anywhere',\n",
       " 'indeed',\n",
       " 'whether',\n",
       " 'others',\n",
       " 'during',\n",
       " 'part',\n",
       " \"'d\",\n",
       " 'off',\n",
       " 'ourselves',\n",
       " 'own',\n",
       " 'once',\n",
       " 'often',\n",
       " 'themselves',\n",
       " 'except',\n",
       " 'will',\n",
       " 'again',\n",
       " 'can',\n",
       " 'whereby',\n",
       " \"'m\",\n",
       " 'n‘t',\n",
       " 'its',\n",
       " 'there',\n",
       " 'could',\n",
       " 'on',\n",
       " 'quite',\n",
       " 'yourselves',\n",
       " 'anyone',\n",
       " 'regarding',\n",
       " 'are',\n",
       " 'above',\n",
       " 'ca',\n",
       " 'via',\n",
       " 'yet',\n",
       " 'being',\n",
       " 'take',\n",
       " 'should',\n",
       " '’ve',\n",
       " 'hence',\n",
       " 'give',\n",
       " 'just',\n",
       " 'please',\n",
       " 'either',\n",
       " 'everywhere',\n",
       " 'then',\n",
       " 'empty',\n",
       " '‘s',\n",
       " 'mine',\n",
       " 'had',\n",
       " 'up',\n",
       " 'everything',\n",
       " 'beforehand',\n",
       " 'unless',\n",
       " 'hereafter',\n",
       " 'much',\n",
       " 'afterwards',\n",
       " 'made',\n",
       " 'ours',\n",
       " 'nine',\n",
       " 'hundred',\n",
       " 'seemed',\n",
       " 'formerly',\n",
       " 'last',\n",
       " 'which',\n",
       " 'elsewhere',\n",
       " 'never',\n",
       " 'out',\n",
       " 'you',\n",
       " 'say',\n",
       " 'itself',\n",
       " 'former',\n",
       " 'make',\n",
       " 'one',\n",
       " 'along',\n",
       " 'him',\n",
       " 'before',\n",
       " 'he',\n",
       " 'thereupon',\n",
       " 'otherwise',\n",
       " 'everyone',\n",
       " 'why',\n",
       " 'top',\n",
       " 'back',\n",
       " 'neither',\n",
       " 'that',\n",
       " 'is',\n",
       " 'every',\n",
       " 'call',\n",
       " 'it',\n",
       " 'by',\n",
       " 'hereupon',\n",
       " 'across',\n",
       " 'six',\n",
       " 'although',\n",
       " 'where',\n",
       " 'this',\n",
       " \"'s\",\n",
       " 'whatever',\n",
       " 'behind',\n",
       " 'though',\n",
       " 'toward',\n",
       " 'they',\n",
       " 'nevertheless',\n",
       " 'hers',\n",
       " 'for',\n",
       " 'several',\n",
       " 'too',\n",
       " 'five',\n",
       " 'show',\n",
       " 'name',\n",
       " 'whoever',\n",
       " 'she',\n",
       " 'after',\n",
       " 'onto',\n",
       " \"'re\",\n",
       " 'be',\n",
       " 'eight',\n",
       " 'three',\n",
       " 'somehow',\n",
       " 'anything',\n",
       " 'among',\n",
       " '’m',\n",
       " 'moreover',\n",
       " 'into',\n",
       " 'were',\n",
       " '‘ll',\n",
       " 'me',\n",
       " 'towards',\n",
       " 'most',\n",
       " 'cannot',\n",
       " 'whereupon',\n",
       " 'keep',\n",
       " 'his',\n",
       " 'noone',\n",
       " 'than',\n",
       " 'forty',\n",
       " 'nobody',\n",
       " 'few',\n",
       " 'sixty',\n",
       " 'anyhow',\n",
       " 'over',\n",
       " 'mostly',\n",
       " 'wherever',\n",
       " 'thru',\n",
       " 'has',\n",
       " 'seem',\n",
       " 'must',\n",
       " 'something',\n",
       " \"'ve\",\n",
       " 'whereas',\n",
       " 'becomes',\n",
       " 'less',\n",
       " 'these',\n",
       " 'i',\n",
       " \"'ll\",\n",
       " 'various',\n",
       " 'we',\n",
       " 'besides',\n",
       " 'throughout',\n",
       " 'do',\n",
       " 'am',\n",
       " 'none',\n",
       " 'without',\n",
       " 'here',\n",
       " 'them',\n",
       " 'because',\n",
       " '’d',\n",
       " 're',\n",
       " 'our',\n",
       " 'doing',\n",
       " 'nor',\n",
       " 'us',\n",
       " 'while',\n",
       " '‘re',\n",
       " 'with',\n",
       " 'both',\n",
       " 'how',\n",
       " 'more',\n",
       " 'see',\n",
       " 'sometime',\n",
       " 'put',\n",
       " 'my',\n",
       " 'but',\n",
       " 'in',\n",
       " 'of',\n",
       " 'as',\n",
       " 'latterly',\n",
       " 'still',\n",
       " 'really',\n",
       " 'what',\n",
       " 'another',\n",
       " 'upon',\n",
       " 'or',\n",
       " 'nowhere',\n",
       " 'sometimes',\n",
       " 'to',\n",
       " 'now',\n",
       " 'amongst',\n",
       " 'whole',\n",
       " 'enough',\n",
       " 'yourself',\n",
       " 'herself',\n",
       " 'so',\n",
       " 'become',\n",
       " 'somewhere',\n",
       " 'many',\n",
       " \"n't\",\n",
       " 'very',\n",
       " 'perhaps',\n",
       " 'two',\n",
       " 'per',\n",
       " 'whom',\n",
       " 'meanwhile',\n",
       " 'only',\n",
       " 'when',\n",
       " 'already',\n",
       " 'thereafter',\n",
       " 'other',\n",
       " 'not',\n",
       " 'least',\n",
       " 'someone',\n",
       " 'becoming',\n",
       " 'such',\n",
       " 'seems',\n",
       " 'seeming',\n",
       " 'became',\n",
       " 'four',\n",
       " 'else',\n",
       " 'used',\n",
       " 'thence',\n",
       " 'n’t',\n",
       " 'serious',\n",
       " 'between',\n",
       " '’ll',\n",
       " 'does']"
      ]
     },
     "execution_count": 14,
     "metadata": {},
     "output_type": "execute_result"
    }
   ],
   "source": [
    "from spacy.lang.en.stop_words import STOP_WORDS\n",
    "stopwords = list(STOP_WORDS)\n",
    "stopwords"
   ]
  },
  {
   "cell_type": "code",
   "execution_count": 15,
   "metadata": {},
   "outputs": [
    {
     "data": {
      "text/html": [
       "<div>\n",
       "<style scoped>\n",
       "    .dataframe tbody tr th:only-of-type {\n",
       "        vertical-align: middle;\n",
       "    }\n",
       "\n",
       "    .dataframe tbody tr th {\n",
       "        vertical-align: top;\n",
       "    }\n",
       "\n",
       "    .dataframe thead th {\n",
       "        text-align: right;\n",
       "    }\n",
       "</style>\n",
       "<table border=\"1\" class=\"dataframe\">\n",
       "  <thead>\n",
       "    <tr style=\"text-align: right;\">\n",
       "      <th></th>\n",
       "      <th>Product</th>\n",
       "      <th>ReviewUpdated</th>\n",
       "      <th>Rating</th>\n",
       "      <th>Date</th>\n",
       "      <th>Website</th>\n",
       "      <th>TitleGoodBad</th>\n",
       "      <th>ProductPrice</th>\n",
       "      <th>ProductPriceRange</th>\n",
       "      <th>Year</th>\n",
       "      <th>positive_negative</th>\n",
       "      <th>...</th>\n",
       "      <th>Positive_Negative_Tag</th>\n",
       "      <th>LengthofReviews</th>\n",
       "      <th>SentimentPolarity</th>\n",
       "      <th>SentimentSubjectivity</th>\n",
       "      <th>SentimentPolarityClass</th>\n",
       "      <th>AvgSentPolarity</th>\n",
       "      <th>AvgSentimentPolarityClass</th>\n",
       "      <th>AvgSentimentSubjectivity</th>\n",
       "      <th>ReviewUpdated1</th>\n",
       "      <th>ReviewUpdated2</th>\n",
       "    </tr>\n",
       "  </thead>\n",
       "  <tbody>\n",
       "    <tr>\n",
       "      <th>0</th>\n",
       "      <td>Xiaomi Redmi Note 3</td>\n",
       "      <td>['yet', 'another', 'value', 'money', 'product'...</td>\n",
       "      <td>3.0</td>\n",
       "      <td>Jul 17, 2016 10:59 PM</td>\n",
       "      <td>MouthShut</td>\n",
       "      <td>Yet another Value for Money product from Xiaomi</td>\n",
       "      <td>9999</td>\n",
       "      <td>Budget Range</td>\n",
       "      <td>2016.0</td>\n",
       "      <td>1</td>\n",
       "      <td>...</td>\n",
       "      <td>Positive Rating</td>\n",
       "      <td>344</td>\n",
       "      <td>-0.028571</td>\n",
       "      <td>0.576190</td>\n",
       "      <td>Negative Rating</td>\n",
       "      <td>0.403533</td>\n",
       "      <td>Positive Rating</td>\n",
       "      <td>NaN</td>\n",
       "      <td>Yet another Value for Money product from Xiaom...</td>\n",
       "      <td>Yet another Value for Money product from Xiaom...</td>\n",
       "    </tr>\n",
       "    <tr>\n",
       "      <th>1</th>\n",
       "      <td>Xiaomi Redmi Note 3</td>\n",
       "      <td>['awesome', 'marvelous', 'mobile', 'go', 'valu...</td>\n",
       "      <td>5.0</td>\n",
       "      <td>Jul 17, 2016 10:42 PM</td>\n",
       "      <td>MouthShut</td>\n",
       "      <td>Awesome</td>\n",
       "      <td>9999</td>\n",
       "      <td>Budget Range</td>\n",
       "      <td>2016.0</td>\n",
       "      <td>1</td>\n",
       "      <td>...</td>\n",
       "      <td>Positive Rating</td>\n",
       "      <td>276</td>\n",
       "      <td>0.780000</td>\n",
       "      <td>0.640000</td>\n",
       "      <td>Positive Rating</td>\n",
       "      <td>0.403533</td>\n",
       "      <td>Positive Rating</td>\n",
       "      <td>NaN</td>\n",
       "      <td>Awesome  Marvelous Mobile just go for it., Val...</td>\n",
       "      <td>Awesome  Marvelous Mobile just go for it., Val...</td>\n",
       "    </tr>\n",
       "    <tr>\n",
       "      <th>2</th>\n",
       "      <td>Xiaomi Redmi Note 3</td>\n",
       "      <td>['power', 'pack', 'review', 'redmi', 'note', '...</td>\n",
       "      <td>5.0</td>\n",
       "      <td>Jul 17, 2016 06:18 PM</td>\n",
       "      <td>MouthShut</td>\n",
       "      <td>Power pack review on Redmi Note 3</td>\n",
       "      <td>9999</td>\n",
       "      <td>Budget Range</td>\n",
       "      <td>2016.0</td>\n",
       "      <td>1</td>\n",
       "      <td>...</td>\n",
       "      <td>Positive Rating</td>\n",
       "      <td>322</td>\n",
       "      <td>0.474444</td>\n",
       "      <td>0.477037</td>\n",
       "      <td>Positive Rating</td>\n",
       "      <td>0.403533</td>\n",
       "      <td>Positive Rating</td>\n",
       "      <td>NaN</td>\n",
       "      <td>Power pack review on Redmi Note 3  REDMI NOTE ...</td>\n",
       "      <td>Power pack review on Redmi Note 3  REDMI NOTE ...</td>\n",
       "    </tr>\n",
       "    <tr>\n",
       "      <th>3</th>\n",
       "      <td>Xiaomi Redmi Note 3</td>\n",
       "      <td>['flagship', 'smartfone', 'phone', 'looks', 'v...</td>\n",
       "      <td>4.0</td>\n",
       "      <td>Jul 17, 2016 04:44 PM</td>\n",
       "      <td>MouthShut</td>\n",
       "      <td>Flagship smartfone under 13000rs</td>\n",
       "      <td>9999</td>\n",
       "      <td>Budget Range</td>\n",
       "      <td>2016.0</td>\n",
       "      <td>1</td>\n",
       "      <td>...</td>\n",
       "      <td>Positive Rating</td>\n",
       "      <td>333</td>\n",
       "      <td>0.502500</td>\n",
       "      <td>0.832500</td>\n",
       "      <td>Positive Rating</td>\n",
       "      <td>0.403533</td>\n",
       "      <td>Positive Rating</td>\n",
       "      <td>NaN</td>\n",
       "      <td>Flagship smartfone under 13000rs  This phone l...</td>\n",
       "      <td>Flagship smartfone under 13000rs  This phone l...</td>\n",
       "    </tr>\n",
       "    <tr>\n",
       "      <th>4</th>\n",
       "      <td>Xiaomi Redmi Note 3</td>\n",
       "      <td>['boon', 'mobile', 'master', 'piece', 'economi...</td>\n",
       "      <td>5.0</td>\n",
       "      <td>Jul 17, 2016 12:32 PM</td>\n",
       "      <td>MouthShut</td>\n",
       "      <td>Boon for mobile</td>\n",
       "      <td>9999</td>\n",
       "      <td>Budget Range</td>\n",
       "      <td>2016.0</td>\n",
       "      <td>1</td>\n",
       "      <td>...</td>\n",
       "      <td>Positive Rating</td>\n",
       "      <td>316</td>\n",
       "      <td>0.448571</td>\n",
       "      <td>0.627857</td>\n",
       "      <td>Positive Rating</td>\n",
       "      <td>0.403533</td>\n",
       "      <td>Positive Rating</td>\n",
       "      <td>NaN</td>\n",
       "      <td>Boon for mobile  Master piece in such a econom...</td>\n",
       "      <td>Boon for mobile  Master piece in such a econom...</td>\n",
       "    </tr>\n",
       "  </tbody>\n",
       "</table>\n",
       "<p>5 rows × 23 columns</p>\n",
       "</div>"
      ],
      "text/plain": [
       "               Product                                      ReviewUpdated  \\\n",
       "0  Xiaomi Redmi Note 3  ['yet', 'another', 'value', 'money', 'product'...   \n",
       "1  Xiaomi Redmi Note 3  ['awesome', 'marvelous', 'mobile', 'go', 'valu...   \n",
       "2  Xiaomi Redmi Note 3  ['power', 'pack', 'review', 'redmi', 'note', '...   \n",
       "3  Xiaomi Redmi Note 3  ['flagship', 'smartfone', 'phone', 'looks', 'v...   \n",
       "4  Xiaomi Redmi Note 3  ['boon', 'mobile', 'master', 'piece', 'economi...   \n",
       "\n",
       "   Rating                   Date    Website  \\\n",
       "0     3.0  Jul 17, 2016 10:59 PM  MouthShut   \n",
       "1     5.0  Jul 17, 2016 10:42 PM  MouthShut   \n",
       "2     5.0  Jul 17, 2016 06:18 PM  MouthShut   \n",
       "3     4.0  Jul 17, 2016 04:44 PM  MouthShut   \n",
       "4     5.0  Jul 17, 2016 12:32 PM  MouthShut   \n",
       "\n",
       "                                        TitleGoodBad ProductPrice  \\\n",
       "0  Yet another Value for Money product from Xiaomi           9999   \n",
       "1                                          Awesome           9999   \n",
       "2                Power pack review on Redmi Note 3           9999   \n",
       "3                 Flagship smartfone under 13000rs           9999   \n",
       "4                                  Boon for mobile           9999   \n",
       "\n",
       "  ProductPriceRange    Year  positive_negative  ...  Positive_Negative_Tag  \\\n",
       "0      Budget Range  2016.0                  1  ...        Positive Rating   \n",
       "1      Budget Range  2016.0                  1  ...        Positive Rating   \n",
       "2      Budget Range  2016.0                  1  ...        Positive Rating   \n",
       "3      Budget Range  2016.0                  1  ...        Positive Rating   \n",
       "4      Budget Range  2016.0                  1  ...        Positive Rating   \n",
       "\n",
       "   LengthofReviews SentimentPolarity SentimentSubjectivity  \\\n",
       "0              344         -0.028571              0.576190   \n",
       "1              276          0.780000              0.640000   \n",
       "2              322          0.474444              0.477037   \n",
       "3              333          0.502500              0.832500   \n",
       "4              316          0.448571              0.627857   \n",
       "\n",
       "   SentimentPolarityClass  AvgSentPolarity  AvgSentimentPolarityClass  \\\n",
       "0         Negative Rating         0.403533            Positive Rating   \n",
       "1         Positive Rating         0.403533            Positive Rating   \n",
       "2         Positive Rating         0.403533            Positive Rating   \n",
       "3         Positive Rating         0.403533            Positive Rating   \n",
       "4         Positive Rating         0.403533            Positive Rating   \n",
       "\n",
       "  AvgSentimentSubjectivity                                     ReviewUpdated1  \\\n",
       "0                      NaN  Yet another Value for Money product from Xiaom...   \n",
       "1                      NaN  Awesome  Marvelous Mobile just go for it., Val...   \n",
       "2                      NaN  Power pack review on Redmi Note 3  REDMI NOTE ...   \n",
       "3                      NaN  Flagship smartfone under 13000rs  This phone l...   \n",
       "4                      NaN  Boon for mobile  Master piece in such a econom...   \n",
       "\n",
       "                                      ReviewUpdated2  \n",
       "0  Yet another Value for Money product from Xiaom...  \n",
       "1  Awesome  Marvelous Mobile just go for it., Val...  \n",
       "2  Power pack review on Redmi Note 3  REDMI NOTE ...  \n",
       "3  Flagship smartfone under 13000rs  This phone l...  \n",
       "4  Boon for mobile  Master piece in such a econom...  \n",
       "\n",
       "[5 rows x 23 columns]"
      ]
     },
     "execution_count": 15,
     "metadata": {},
     "output_type": "execute_result"
    }
   ],
   "source": [
    "#reading data\n",
    "LatestMobileReviews1 = pd.read_csv('C:\\\\Users\\\\halapets\\\\Documents\\\\LJMU Research_Sentiment Analysis\\\\LatestMobileReviews.csv',encoding='latin1')\n",
    "LatestMobileReviews1.head()"
   ]
  },
  {
   "cell_type": "code",
   "execution_count": 36,
   "metadata": {},
   "outputs": [],
   "source": [
    "#tokenization and text preprocessing\n",
    "def text_data_cleaning(sentence):\n",
    "    doc = nlp(sentence)\n",
    "    \n",
    "    tokens = []\n",
    "    for token in doc:\n",
    "        if token.lemma_ != \"-PRON-\" or token.pos_ != \"AUX\" or token.pos_ != \"NUM\" or token.pos_ != \"SYM\" or token.pos_ != \"ADP\"  :\n",
    "            temp = token.lemma_.lower().strip()\n",
    "        tokens.append(temp)\n",
    "        \n",
    "    \n",
    "    cleaned_tokens = []\n",
    "    for token in tokens:\n",
    "        if token not in stopwords and token not in punct and token.isalpha():\n",
    "            cleaned_tokens.append(token)\n",
    "    return cleaned_tokens"
   ]
  },
  {
   "cell_type": "code",
   "execution_count": 37,
   "metadata": {},
   "outputs": [],
   "source": [
    "from sklearn.svm import LinearSVC#change\n",
    "\n",
    "#from sklearn.model_selection import GridSearchCV "
   ]
  },
  {
   "cell_type": "code",
   "execution_count": 38,
   "metadata": {},
   "outputs": [],
   "source": [
    "#word vectorization using BOW\n",
    "BOW = CountVectorizer(tokenizer = text_data_cleaning)\n",
    "#create base classifier\n",
    "classifier = LinearSVC()"
   ]
  },
  {
   "cell_type": "code",
   "execution_count": 39,
   "metadata": {},
   "outputs": [],
   "source": [
    "X = LatestMobileReviews1[['Product','ReviewUpdated1']]\n",
    "y= LatestMobileReviews1 ['positive_negative']"
   ]
  },
  {
   "cell_type": "code",
   "execution_count": 40,
   "metadata": {},
   "outputs": [],
   "source": [
    "X_train, X_test, y_train, y_test = train_test_split(X, y, test_size = 0.3, random_state = 1001)"
   ]
  },
  {
   "cell_type": "code",
   "execution_count": 41,
   "metadata": {},
   "outputs": [
    {
     "data": {
      "text/plain": [
       "Index(['Product', 'ReviewUpdated1'], dtype='object')"
      ]
     },
     "execution_count": 41,
     "metadata": {},
     "output_type": "execute_result"
    }
   ],
   "source": [
    "X_train.columns"
   ]
  },
  {
   "cell_type": "code",
   "execution_count": 42,
   "metadata": {},
   "outputs": [
    {
     "data": {
      "text/plain": [
       "((112039, 2), (112039,), (48018, 2), (48018,))"
      ]
     },
     "execution_count": 42,
     "metadata": {},
     "output_type": "execute_result"
    }
   ],
   "source": [
    "X_train.shape, y_train.shape, X_test.shape, y_test.shape"
   ]
  },
  {
   "cell_type": "code",
   "execution_count": 43,
   "metadata": {},
   "outputs": [],
   "source": [
    "#creating a pipeline of steps to be followed for classifier\n",
    "clf_BOW_SVM = Pipeline([('BOW', BOW), ('clf', classifier)])"
   ]
  },
  {
   "cell_type": "code",
   "execution_count": 44,
   "metadata": {},
   "outputs": [
    {
     "name": "stderr",
     "output_type": "stream",
     "text": [
      "C:\\Users\\halapets\\AppData\\Local\\Continuum\\anaconda3\\lib\\site-packages\\sklearn\\svm\\_base.py:947: ConvergenceWarning: Liblinear failed to converge, increase the number of iterations.\n",
      "  \"the number of iterations.\", ConvergenceWarning)\n"
     ]
    },
    {
     "data": {
      "text/plain": [
       "Pipeline(memory=None,\n",
       "         steps=[('BOW',\n",
       "                 CountVectorizer(analyzer='word', binary=False,\n",
       "                                 decode_error='strict',\n",
       "                                 dtype=<class 'numpy.int64'>, encoding='utf-8',\n",
       "                                 input='content', lowercase=True, max_df=1.0,\n",
       "                                 max_features=None, min_df=1,\n",
       "                                 ngram_range=(1, 1), preprocessor=None,\n",
       "                                 stop_words=None, strip_accents=None,\n",
       "                                 token_pattern='(?u)\\\\b\\\\w\\\\w+\\\\b',\n",
       "                                 tokenizer=<function text_data_cleaning at 0x000001EA8FCDA168>,\n",
       "                                 vocabulary=None)),\n",
       "                ('clf',\n",
       "                 LinearSVC(C=1.0, class_weight=None, dual=True,\n",
       "                           fit_intercept=True, intercept_scaling=1,\n",
       "                           loss='squared_hinge', max_iter=1000,\n",
       "                           multi_class='ovr', penalty='l2', random_state=None,\n",
       "                           tol=0.0001, verbose=0))],\n",
       "         verbose=False)"
      ]
     },
     "execution_count": 44,
     "metadata": {},
     "output_type": "execute_result"
    }
   ],
   "source": [
    "#fitting model\n",
    "clf_BOW_SVM.fit(X_train['ReviewUpdated1'], y_train)\n"
   ]
  },
  {
   "cell_type": "code",
   "execution_count": 45,
   "metadata": {},
   "outputs": [
    {
     "data": {
      "text/plain": [
       "Index(['Product', 'ReviewUpdated1'], dtype='object')"
      ]
     },
     "execution_count": 45,
     "metadata": {},
     "output_type": "execute_result"
    }
   ],
   "source": [
    "#Evaluating model on test data\n",
    "y_pred_BOW_SVM = clf_BOW_SVM.predict(X_test['ReviewUpdated1'])\n",
    "X_test.columns"
   ]
  },
  {
   "cell_type": "code",
   "execution_count": 46,
   "metadata": {},
   "outputs": [
    {
     "data": {
      "text/plain": [
       "'              precision    recall  f1-score   support\\n\\n     class 0       0.70      0.58      0.63      7791\\n     class 1       0.92      0.95      0.94     40227\\n\\n    accuracy                           0.89     48018\\n   macro avg       0.81      0.76      0.78     48018\\nweighted avg       0.88      0.89      0.89     48018\\n'"
      ]
     },
     "execution_count": 46,
     "metadata": {},
     "output_type": "execute_result"
    }
   ],
   "source": [
    "target_names = ['class 0', 'class 1']\n",
    "ClassificationReport_BOW_SVM=classification_report(y_test, y_pred_BOW_SVM, target_names=target_names)\n",
    "ClassificationReport_BOW_SVM\n",
    "\n",
    "#'              precision    recall  f1-score   support\\n\\n     \n",
    "#class 0       0.70      0.58      0.63      7791\\n     \n",
    "#class 1       0.92      0.95      0.94     40227\\n\\n    \n",
    "#accuracy                          0.89     48018\\n   \n",
    "#macro avg     0.81      0.76      0.78     48018\\n\n",
    "#weighted avg  0.88      0.89      0.89     48018\\n'"
   ]
  },
  {
   "cell_type": "code",
   "execution_count": 47,
   "metadata": {},
   "outputs": [
    {
     "data": {
      "text/plain": [
       "array([[ 4497,  3294],\n",
       "       [ 1952, 38275]], dtype=int64)"
      ]
     },
     "execution_count": 47,
     "metadata": {},
     "output_type": "execute_result"
    }
   ],
   "source": [
    "ConfusionMatrix_BOW_SVM=confusion_matrix(y_test, y_pred_BOW_SVM)\n",
    "ConfusionMatrix_BOW_SVM"
   ]
  },
  {
   "cell_type": "code",
   "execution_count": 48,
   "metadata": {},
   "outputs": [
    {
     "data": {
      "text/plain": [
       "0.890749302344954"
      ]
     },
     "execution_count": 48,
     "metadata": {},
     "output_type": "execute_result"
    }
   ],
   "source": [
    "accuracy_score(y_test, y_pred_BOW_SVM) #0.890749302344954 accuracy of base model"
   ]
  },
  {
   "cell_type": "code",
   "execution_count": 49,
   "metadata": {},
   "outputs": [],
   "source": [
    "y_pred_BOW_SVM = pd.DataFrame(y_pred_BOW_SVM,X_test['Product'])\n",
    "y_pred_BOW_SVM.rename(columns={\"BOW_SVM\":\"Tags_BOW_SVM\"}, inplace = True)\n",
    "y_pred_BOW_SVM.head(5)\n",
    "len(y_pred_BOW_SVM)#48019\n",
    "y_pred_BOW_SVM.to_csv(\"y_pred_BOW_SVM.csv\", header= True)"
   ]
  },
  {
   "cell_type": "code",
   "execution_count": 50,
   "metadata": {},
   "outputs": [],
   "source": [
    "# defining parameter range \n",
    "#param_grid = {'C': [0.1, 1, 10, 100, 1000]} "
   ]
  },
  {
   "cell_type": "code",
   "execution_count": 85,
   "metadata": {},
   "outputs": [],
   "source": [
    "# Instantiate the grid search model\n",
    "#grid_search_BOW_SVM = GridSearchCV(classifier, param_grid,cv = 3, verbose = 1,n_jobs=1)"
   ]
  },
  {
   "cell_type": "code",
   "execution_count": 87,
   "metadata": {},
   "outputs": [
    {
     "name": "stdout",
     "output_type": "stream",
     "text": [
      "Fitting 3 folds for each of 5 candidates, totalling 15 fits\n"
     ]
    },
    {
     "name": "stderr",
     "output_type": "stream",
     "text": [
      "[Parallel(n_jobs=1)]: Using backend SequentialBackend with 1 concurrent workers.\n",
      "C:\\Users\\halapets\\AppData\\Local\\Continuum\\anaconda3\\lib\\site-packages\\sklearn\\svm\\_base.py:947: ConvergenceWarning: Liblinear failed to converge, increase the number of iterations.\n",
      "  \"the number of iterations.\", ConvergenceWarning)\n",
      "[Parallel(n_jobs=1)]: Done  15 out of  15 | elapsed:  4.0min finished\n"
     ]
    },
    {
     "data": {
      "text/plain": [
       "GridSearchCV(cv=3, error_score=nan,\n",
       "             estimator=LinearSVC(C=1.0, class_weight=None, dual=True,\n",
       "                                 fit_intercept=True, intercept_scaling=1,\n",
       "                                 loss='squared_hinge', max_iter=1000,\n",
       "                                 multi_class='ovr', penalty='l2',\n",
       "                                 random_state=None, tol=0.0001, verbose=0),\n",
       "             iid='deprecated', n_jobs=1,\n",
       "             param_grid={'C': [0.1, 1, 10, 100, 1000]}, pre_dispatch='2*n_jobs',\n",
       "             refit=True, return_train_score=False, scoring=None, verbose=1)"
      ]
     },
     "execution_count": 87,
     "metadata": {},
     "output_type": "execute_result"
    }
   ],
   "source": [
    "# Fit the grid search to the data\n",
    "#grid_search_BOW_SVM.fit(BOW.transform(X_train), y_train)"
   ]
  },
  {
   "cell_type": "code",
   "execution_count": 92,
   "metadata": {},
   "outputs": [
    {
     "data": {
      "text/plain": [
       "LinearSVC(C=1, class_weight=None, dual=True, fit_intercept=True,\n",
       "          intercept_scaling=1, loss='squared_hinge', max_iter=1000,\n",
       "          multi_class='ovr', penalty='l2', random_state=None, tol=0.0001,\n",
       "          verbose=0)"
      ]
     },
     "execution_count": 92,
     "metadata": {},
     "output_type": "execute_result"
    }
   ],
   "source": [
    "#best_grid = grid_search_BOW_SVM.best_estimator_\n",
    "#best_grid"
   ]
  },
  {
   "cell_type": "code",
   "execution_count": 96,
   "metadata": {},
   "outputs": [],
   "source": [
    "#y_pred_grid_search_BOW_SVM = grid_search_BOW_SVM.predict(BOW.transform(X_test))"
   ]
  },
  {
   "cell_type": "code",
   "execution_count": 103,
   "metadata": {},
   "outputs": [
    {
     "data": {
      "text/plain": [
       "'              precision    recall  f1-score   support\\n\\n     class 0       0.80      0.65      0.72     16505\\n     class 1       0.91      0.96      0.93     61332\\n\\n    accuracy                           0.89     77837\\n   macro avg       0.85      0.80      0.82     77837\\nweighted avg       0.89      0.89      0.89     77837\\n'"
      ]
     },
     "execution_count": 103,
     "metadata": {},
     "output_type": "execute_result"
    }
   ],
   "source": [
    "#target_names = ['class 0', 'class 1']\n",
    "#classification_report_BOW_SVM_gridsearch=classification_report(y_test, y_pred_grid_search_BOW_SVM, target_names=target_names)\n",
    "#classification_report_BOW_SVM_gridsearch"
   ]
  },
  {
   "cell_type": "code",
   "execution_count": 104,
   "metadata": {},
   "outputs": [
    {
     "data": {
      "text/plain": [
       "array([[10708,  5797],\n",
       "       [ 2737, 58595]], dtype=int64)"
      ]
     },
     "execution_count": 104,
     "metadata": {},
     "output_type": "execute_result"
    }
   ],
   "source": [
    "#ConfusionMatrix_BOW_SVM_gridsearch=confusion_matrix(y_test, y_pred_grid_search_BOW_SVM)\n",
    "#ConfusionMatrix_BOW_SVM_gridsearch"
   ]
  },
  {
   "cell_type": "code",
   "execution_count": 105,
   "metadata": {},
   "outputs": [
    {
     "data": {
      "text/plain": [
       "0.8903606254095097"
      ]
     },
     "execution_count": 105,
     "metadata": {},
     "output_type": "execute_result"
    }
   ],
   "source": [
    "#accuracy_score(y_test, y_pred_grid_search_BOW_SVM) #0.8903606254095097 accuracy of base model"
   ]
  },
  {
   "cell_type": "markdown",
   "metadata": {},
   "source": [
    "### TF-IDF Vectorization and Logistic Regression Classifier\n"
   ]
  },
  {
   "cell_type": "code",
   "execution_count": 51,
   "metadata": {},
   "outputs": [
    {
     "name": "stderr",
     "output_type": "stream",
     "text": [
      "C:\\Users\\halapets\\AppData\\Local\\Continuum\\anaconda3\\lib\\site-packages\\sklearn\\linear_model\\_logistic.py:939: ConvergenceWarning: lbfgs failed to converge (status=1):\n",
      "STOP: TOTAL NO. of ITERATIONS REACHED LIMIT.\n",
      "\n",
      "Increase the number of iterations (max_iter) or scale the data as shown in:\n",
      "    https://scikit-learn.org/stable/modules/preprocessing.html.\n",
      "Please also refer to the documentation for alternative solver options:\n",
      "    https://scikit-learn.org/stable/modules/linear_model.html#logistic-regression\n",
      "  extra_warning_msg=_LOGISTIC_SOLVER_CONVERGENCE_MSG)\n"
     ]
    },
    {
     "data": {
      "text/plain": [
       "Pipeline(memory=None,\n",
       "         steps=[('BOW',\n",
       "                 CountVectorizer(analyzer='word', binary=False,\n",
       "                                 decode_error='strict',\n",
       "                                 dtype=<class 'numpy.int64'>, encoding='utf-8',\n",
       "                                 input='content', lowercase=True, max_df=1.0,\n",
       "                                 max_features=None, min_df=1,\n",
       "                                 ngram_range=(1, 1), preprocessor=None,\n",
       "                                 stop_words=None, strip_accents=None,\n",
       "                                 token_pattern='(?u)\\\\b\\\\w\\\\w+\\\\b',\n",
       "                                 tokenizer=<function text_data_cleaning at 0x000001EA8FCDA168>,\n",
       "                                 vocabulary=None)),\n",
       "                ('clf',\n",
       "                 LogisticRegression(C=1.0, class_weight=None, dual=False,\n",
       "                                    fit_intercept=True, intercept_scaling=1,\n",
       "                                    l1_ratio=None, max_iter=100,\n",
       "                                    multi_class='auto', n_jobs=None,\n",
       "                                    penalty='l2', random_state=None,\n",
       "                                    solver='lbfgs', tol=0.0001, verbose=0,\n",
       "                                    warm_start=False))],\n",
       "         verbose=False)"
      ]
     },
     "execution_count": 51,
     "metadata": {},
     "output_type": "execute_result"
    }
   ],
   "source": [
    "from sklearn import linear_model\n",
    "#word vectorization using BOW\n",
    "BOW = CountVectorizer(tokenizer = text_data_cleaning)\n",
    "#create base classifier\n",
    "LR = linear_model.LogisticRegression()\n",
    "\n",
    "#creating a pipeline of steps to be followed for classifier\n",
    "clf_BOW_LR = Pipeline([('BOW', BOW), ('clf', LR)])#change\n",
    "\n",
    "#fitting model\n",
    "clf_BOW_LR.fit(X_train['ReviewUpdated1'], y_train)\n",
    "\n"
   ]
  },
  {
   "cell_type": "code",
   "execution_count": 52,
   "metadata": {},
   "outputs": [],
   "source": [
    "#Evaluating model on test data\n",
    "y_pred_BOW_LR = clf_BOW_LR.predict(X_test['ReviewUpdated1'])\n"
   ]
  },
  {
   "cell_type": "code",
   "execution_count": 53,
   "metadata": {},
   "outputs": [
    {
     "data": {
      "text/plain": [
       "'              precision    recall  f1-score   support\\n\\n     class 0       0.76      0.58      0.66      7791\\n     class 1       0.92      0.97      0.94     40227\\n\\n    accuracy                           0.90     48018\\n   macro avg       0.84      0.77      0.80     48018\\nweighted avg       0.90      0.90      0.90     48018\\n'"
      ]
     },
     "execution_count": 53,
     "metadata": {},
     "output_type": "execute_result"
    }
   ],
   "source": [
    "target_names = ['class 0', 'class 1']\n",
    "ClassificationReport_BOW_LR=classification_report(y_test, y_pred_BOW_LR, target_names=target_names)\n",
    "ClassificationReport_BOW_LR\n",
    "\n",
    "#'              precision    recall  f1-score   support\\n\\n     \n",
    "#class 0       0.76      0.58      0.66      7791\\n     \n",
    "#class 1       0.92      0.97      0.94     40227\\n\\n    \n",
    "#accuracy                          0.90     48018\\n   \n",
    "#macro avg     0.84      0.77      0.80     48018\\n\n",
    "#weighted avg  0.90      0.90      0.90     48018\\n'"
   ]
  },
  {
   "cell_type": "code",
   "execution_count": 54,
   "metadata": {},
   "outputs": [
    {
     "data": {
      "text/plain": [
       "array([[ 4520,  3271],\n",
       "       [ 1395, 38832]], dtype=int64)"
      ]
     },
     "execution_count": 54,
     "metadata": {},
     "output_type": "execute_result"
    }
   ],
   "source": [
    "ConfusionMatrix_BOW_LR=confusion_matrix(y_test, y_pred_BOW_LR)\n",
    "ConfusionMatrix_BOW_LR"
   ]
  },
  {
   "cell_type": "code",
   "execution_count": 55,
   "metadata": {},
   "outputs": [
    {
     "data": {
      "text/plain": [
       "0.9028281061268691"
      ]
     },
     "execution_count": 55,
     "metadata": {},
     "output_type": "execute_result"
    }
   ],
   "source": [
    "accuracy_score(y_test, y_pred_BOW_LR) #0.9028281061268691 accuracy of base model"
   ]
  },
  {
   "cell_type": "code",
   "execution_count": 56,
   "metadata": {},
   "outputs": [],
   "source": [
    "y_pred_BOW_LR = pd.DataFrame(y_pred_BOW_LR,X_test['Product'])\n",
    "y_pred_BOW_LR.rename(columns={0:\"Tags_BOW_LR\"}, inplace = True)\n",
    "y_pred_BOW_LR.head(5)\n",
    "#len(y_pred_BOW_LR)\n",
    "y_pred_BOW_LR.to_csv(\"y_pred_BOW_LR.csv\",header = True)\n",
    "\n"
   ]
  },
  {
   "cell_type": "code",
   "execution_count": 57,
   "metadata": {},
   "outputs": [],
   "source": [
    "#Create Hyperparameter Search Space \n",
    "# Create regularization penalty space\n",
    "#penalty = ['l1', 'l2']\n",
    "\n",
    "# Create regularization hyperparameter space\n",
    "#C = np.logspace(0, 4, 10)\n",
    "\n",
    "# Create hyperparameter options\n",
    "#hyperparameters = dict(C=C, penalty=penalty)"
   ]
  },
  {
   "cell_type": "code",
   "execution_count": null,
   "metadata": {},
   "outputs": [],
   "source": [
    "# Create grid search using 5-fold cross validation\n",
    "#grid_search_BOW_LR = GridSearchCV(classifier, hyperparameters, cv=5, verbose=0)"
   ]
  },
  {
   "cell_type": "code",
   "execution_count": null,
   "metadata": {},
   "outputs": [],
   "source": [
    "# Fit the grid search to the data\n",
    "#grid_search_BOW_LR.fit(BOW.transform(X_train), y_train)"
   ]
  },
  {
   "cell_type": "code",
   "execution_count": null,
   "metadata": {},
   "outputs": [],
   "source": [
    "\n",
    "#best_grid_BOW_LR = grid_search_BOW_LR.best_estimator_\n",
    "\n",
    "#best_grid_BOW_LR"
   ]
  },
  {
   "cell_type": "code",
   "execution_count": null,
   "metadata": {},
   "outputs": [],
   "source": [
    "#y_pred_grid_search_BOW_LR = grid_search_BOW_LR.predict(BOW.transform(X_test))"
   ]
  },
  {
   "cell_type": "code",
   "execution_count": null,
   "metadata": {},
   "outputs": [],
   "source": [
    "#target_names = ['class 0', 'class 1']\n",
    "#ClassificationReport_BOW_LR_gridsearch=classification_report(y_test, y_pred_grid_search_BOW_LR, target_names=target_names)"
   ]
  },
  {
   "cell_type": "code",
   "execution_count": null,
   "metadata": {},
   "outputs": [],
   "source": [
    "#ConfusionMatrix_BOW_LR_gridsearch=confusion_matrix(y_test, y_pred_grid_search_BOW_LR)"
   ]
  },
  {
   "cell_type": "code",
   "execution_count": 74,
   "metadata": {},
   "outputs": [
    {
     "data": {
      "text/plain": [
       "102549    Samsung j2 I have a Samsung j2 2016 mobile I b...\n",
       "115553    All about OPPO A37... This phone is one of the...\n",
       "23301     The best budget SMART PHONE Xiaomi redmi note ...\n",
       "158021    Best Budget smartphone in the range of Rs. 699...\n",
       "112653    Perfect mobile at 7K It is a prefect mobile wh...\n",
       "Name: ReviewUpdated1, dtype: object"
      ]
     },
     "execution_count": 74,
     "metadata": {},
     "output_type": "execute_result"
    }
   ],
   "source": [
    "#accuracy_score(y_test, y_pred_grid_search_BOW_LR) #0.8903606254095097 accuracy of base model\n"
   ]
  },
  {
   "cell_type": "markdown",
   "metadata": {},
   "source": [
    "### TF-IDF Vectorization and Naive Bayes Classifier\n"
   ]
  },
  {
   "cell_type": "code",
   "execution_count": 58,
   "metadata": {},
   "outputs": [
    {
     "data": {
      "text/plain": [
       "Pipeline(memory=None,\n",
       "         steps=[('BOW',\n",
       "                 CountVectorizer(analyzer='word', binary=False,\n",
       "                                 decode_error='strict',\n",
       "                                 dtype=<class 'numpy.int64'>, encoding='utf-8',\n",
       "                                 input='content', lowercase=True, max_df=1.0,\n",
       "                                 max_features=None, min_df=1,\n",
       "                                 ngram_range=(1, 1), preprocessor=None,\n",
       "                                 stop_words=None, strip_accents=None,\n",
       "                                 token_pattern='(?u)\\\\b\\\\w\\\\w+\\\\b',\n",
       "                                 tokenizer=<function text_data_cleaning at 0x000001EA8FCDA168>,\n",
       "                                 vocabulary=None)),\n",
       "                ('clf',\n",
       "                 BernoulliNB(alpha=1.0, binarize=0.0, class_prior=None,\n",
       "                             fit_prior=True))],\n",
       "         verbose=False)"
      ]
     },
     "execution_count": 58,
     "metadata": {},
     "output_type": "execute_result"
    }
   ],
   "source": [
    "from sklearn.naive_bayes import BernoulliNB\n",
    "#word vectorization using BOW\n",
    "BOW = CountVectorizer(tokenizer = text_data_cleaning)\n",
    "#create base classifier\n",
    "NB = BernoulliNB()\n",
    "\n",
    "#creating a pipeline of steps to be followed for classifier\n",
    "clf_BOW_NB = Pipeline([('BOW', BOW), ('clf', NB)])#change\n",
    "\n",
    "#fitting model\n",
    "clf_BOW_NB.fit(X_train['ReviewUpdated1'], y_train)"
   ]
  },
  {
   "cell_type": "code",
   "execution_count": 59,
   "metadata": {},
   "outputs": [],
   "source": [
    "#Evaluating model on test data\n",
    "y_pred_BOW_NB = clf_BOW_NB.predict(X_test['ReviewUpdated1'])"
   ]
  },
  {
   "cell_type": "code",
   "execution_count": 60,
   "metadata": {},
   "outputs": [
    {
     "data": {
      "text/plain": [
       "'              precision    recall  f1-score   support\\n\\n     class 0       0.72      0.50      0.59      7791\\n     class 1       0.91      0.96      0.93     40227\\n\\n    accuracy                           0.89     48018\\n   macro avg       0.82      0.73      0.76     48018\\nweighted avg       0.88      0.89      0.88     48018\\n'"
      ]
     },
     "execution_count": 60,
     "metadata": {},
     "output_type": "execute_result"
    }
   ],
   "source": [
    "target_names = ['class 0', 'class 1']\n",
    "ClassificationReport_BOW_NB=classification_report(y_test, y_pred_BOW_NB, target_names=target_names)\n",
    "ClassificationReport_BOW_NB\n",
    "\n",
    "#'              precision    recall  f1-score   support\\n\\n     \n",
    "#class 0       0.72      0.50      0.59      7791\\n     \n",
    "#class 1       0.91      0.96      0.93     40227\\n\\n    \n",
    "#accuracy                          0.89     48018\\n   \n",
    "#macro avg     0.82      0.73      0.76     48018\\n\n",
    "#weighted avg  0.88      0.89      0.88     48018\\n'"
   ]
  },
  {
   "cell_type": "code",
   "execution_count": 61,
   "metadata": {},
   "outputs": [
    {
     "data": {
      "text/plain": [
       "array([[ 3868,  3923],\n",
       "       [ 1487, 38740]], dtype=int64)"
      ]
     },
     "execution_count": 61,
     "metadata": {},
     "output_type": "execute_result"
    }
   ],
   "source": [
    "ConfusionMatrix_BOW_NB=confusion_matrix(y_test, y_pred_BOW_NB)\n",
    "ConfusionMatrix_BOW_NB"
   ]
  },
  {
   "cell_type": "code",
   "execution_count": 62,
   "metadata": {},
   "outputs": [
    {
     "data": {
      "text/plain": [
       "0.8873339164479986"
      ]
     },
     "execution_count": 62,
     "metadata": {},
     "output_type": "execute_result"
    }
   ],
   "source": [
    "accuracy_score(y_test, y_pred_BOW_NB) #0.8873339164479986 accuracy of base model"
   ]
  },
  {
   "cell_type": "code",
   "execution_count": 63,
   "metadata": {},
   "outputs": [],
   "source": [
    "y_pred_BOW_NB = pd.DataFrame(y_pred_BOW_NB,X_test['Product'])\n",
    "y_pred_BOW_NB.rename(columns={0:\"Tags_BOW_NB\"}, inplace = True)\n",
    "y_pred_BOW_NB.head(5)\n",
    "#len(y_pred_BOW_NB)\n",
    "y_pred_BOW_NB.to_csv(\"y_pred_BOW_NB.csv\",header = True)"
   ]
  },
  {
   "cell_type": "markdown",
   "metadata": {},
   "source": [
    "### TF-IDF Vectorization and Decision Tree Classifier"
   ]
  },
  {
   "cell_type": "code",
   "execution_count": 64,
   "metadata": {},
   "outputs": [
    {
     "data": {
      "text/plain": [
       "Pipeline(memory=None,\n",
       "         steps=[('BOW',\n",
       "                 CountVectorizer(analyzer='word', binary=False,\n",
       "                                 decode_error='strict',\n",
       "                                 dtype=<class 'numpy.int64'>, encoding='utf-8',\n",
       "                                 input='content', lowercase=True, max_df=1.0,\n",
       "                                 max_features=None, min_df=1,\n",
       "                                 ngram_range=(1, 1), preprocessor=None,\n",
       "                                 stop_words=None, strip_accents=None,\n",
       "                                 token_pattern='(?u)\\\\b\\\\w\\\\w+\\\\b',\n",
       "                                 tokenizer=<function text_data_c...A8FCDA168>,\n",
       "                                 vocabulary=None)),\n",
       "                ('clf',\n",
       "                 DecisionTreeClassifier(ccp_alpha=0.0, class_weight=None,\n",
       "                                        criterion='gini', max_depth=None,\n",
       "                                        max_features=None, max_leaf_nodes=None,\n",
       "                                        min_impurity_decrease=0.0,\n",
       "                                        min_impurity_split=None,\n",
       "                                        min_samples_leaf=1, min_samples_split=2,\n",
       "                                        min_weight_fraction_leaf=0.0,\n",
       "                                        presort='deprecated', random_state=100,\n",
       "                                        splitter='best'))],\n",
       "         verbose=False)"
      ]
     },
     "execution_count": 64,
     "metadata": {},
     "output_type": "execute_result"
    }
   ],
   "source": [
    "from sklearn.tree import DecisionTreeClassifier \n",
    "#from sklearn.datasets import make_classification\n",
    "#word vectorization using BOW\n",
    "BOW = CountVectorizer(tokenizer = text_data_cleaning)\n",
    "#create base classifier\n",
    "cart = DecisionTreeClassifier(criterion = \"gini\", \n",
    "            random_state = 100) \n",
    "\n",
    "#creating a pipeline of steps to be followed for classifier\n",
    "clf_BOW_CART = Pipeline([('BOW', BOW), ('clf', cart)])#change\n",
    "\n",
    "#fitting model\n",
    "clf_BOW_CART.fit(X_train['ReviewUpdated1'], y_train)\n",
    "\n",
    "\n",
    "\n",
    "#X, y = make_classification(n_samples=1000, n_features=4,\n",
    "#                            n_informative=2, n_redundant=0,\n",
    "#                            random_state=0, shuffle=False)\n",
    "\n",
    "\n",
    "\n",
    "\n"
   ]
  },
  {
   "cell_type": "code",
   "execution_count": 65,
   "metadata": {},
   "outputs": [
    {
     "data": {
      "text/plain": [
       "array([1, 0, 1, ..., 1, 1, 1], dtype=int64)"
      ]
     },
     "execution_count": 65,
     "metadata": {},
     "output_type": "execute_result"
    }
   ],
   "source": [
    "#Evaluating model on test data\n",
    "y_pred_BOW_CART = clf_BOW_CART.predict(X_test['ReviewUpdated1'])\n",
    "y_pred_BOW_CART"
   ]
  },
  {
   "cell_type": "code",
   "execution_count": 66,
   "metadata": {
    "scrolled": true
   },
   "outputs": [
    {
     "data": {
      "text/plain": [
       "'              precision    recall  f1-score   support\\n\\n     class 0       0.57      0.49      0.53      7791\\n     class 1       0.90      0.93      0.92     40227\\n\\n    accuracy                           0.86     48018\\n   macro avg       0.74      0.71      0.72     48018\\nweighted avg       0.85      0.86      0.85     48018\\n'"
      ]
     },
     "execution_count": 66,
     "metadata": {},
     "output_type": "execute_result"
    }
   ],
   "source": [
    "target_names = ['class 0', 'class 1']\n",
    "ClassificationReport_BOW_CART=classification_report(y_test, y_pred_BOW_CART, target_names=target_names)\n",
    "ClassificationReport_BOW_CART\n",
    "\n",
    "#'              precision    recall  f1-score   support\\n\\n     \n",
    "#class 0       0.57      0.49      0.53      7791\\n     \n",
    "#class 1       0.90      0.93      0.92     40227\\n\\n    \n",
    "#accuracy                          0.86     48018\\n   \n",
    "#macro avg     0.74      0.71      0.72     48018\\n\n",
    "#weighted avg  0.85      0.86      0.85     48018\\n'"
   ]
  },
  {
   "cell_type": "code",
   "execution_count": 67,
   "metadata": {},
   "outputs": [
    {
     "data": {
      "text/plain": [
       "array([[ 3817,  3974],\n",
       "       [ 2864, 37363]], dtype=int64)"
      ]
     },
     "execution_count": 67,
     "metadata": {},
     "output_type": "execute_result"
    }
   ],
   "source": [
    "ConfusionMatrix_BOW_CART=confusion_matrix(y_test, y_pred_BOW_CART)\n",
    "ConfusionMatrix_BOW_CART"
   ]
  },
  {
   "cell_type": "code",
   "execution_count": 68,
   "metadata": {},
   "outputs": [
    {
     "data": {
      "text/plain": [
       "0.8575950685159732"
      ]
     },
     "execution_count": 68,
     "metadata": {},
     "output_type": "execute_result"
    }
   ],
   "source": [
    "accuracy_score(y_test, y_pred_BOW_CART) #0.8575950685159732 accuracy of base model"
   ]
  },
  {
   "cell_type": "code",
   "execution_count": 69,
   "metadata": {},
   "outputs": [],
   "source": [
    "y_pred_BOW_CART = pd.DataFrame(y_pred_BOW_CART,X_test['Product'])\n",
    "y_pred_BOW_CART.rename(columns={0:\"Tags_BOW_CART\"}, inplace = True)\n",
    "y_pred_BOW_CART.head(5)\n",
    "#len(y_pred_BOW_CART)\n",
    "y_pred_BOW_CART.to_csv(\"y_pred_BOW_CART.csv\",header = True)"
   ]
  },
  {
   "cell_type": "code",
   "execution_count": 98,
   "metadata": {},
   "outputs": [],
   "source": [
    "#random_grid = {'n_estimators': [200, 400, 600, 800, 1000, 1200, 1400, 1600, 1800, 2000],\n",
    "#              'max_features': [200,300]}"
   ]
  },
  {
   "cell_type": "code",
   "execution_count": null,
   "metadata": {},
   "outputs": [],
   "source": [
    "# Create grid search using 5-fold cross validation\n",
    "#rf_random  = RandomizedSearchCV(rf, random_grid,n_iter = 100, cv=5, verbose=2, random_state=42, n_jobs = -1)"
   ]
  },
  {
   "cell_type": "code",
   "execution_count": null,
   "metadata": {},
   "outputs": [],
   "source": [
    "# Fit the grid search to the data\n",
    "#rf_random.fit(BOW.transform(X_train), y_train)"
   ]
  },
  {
   "cell_type": "code",
   "execution_count": null,
   "metadata": {},
   "outputs": [],
   "source": [
    "\n",
    "#best_grid_BOW_RF = rf_random.best_params_\n",
    "\n",
    "#best_grid_BOW_RF"
   ]
  },
  {
   "cell_type": "code",
   "execution_count": null,
   "metadata": {},
   "outputs": [],
   "source": [
    "#y_pred_grid_search_BOW_RF = rf_random.predict(BOW.transform(X_test))"
   ]
  },
  {
   "cell_type": "code",
   "execution_count": null,
   "metadata": {},
   "outputs": [],
   "source": [
    "#target_names = ['class 0', 'class 1']\n",
    "#ClassificationReport_BOW_RF_gridsearch=classification_report(y_test, y_pred_grid_search_BOW_RF, target_names=target_names)"
   ]
  },
  {
   "cell_type": "code",
   "execution_count": null,
   "metadata": {},
   "outputs": [],
   "source": [
    "#ConfusionMatrix_BOW_RF_gridsearch=confusion_matrix(y_test, y_pred_grid_search_BOW_RF)"
   ]
  },
  {
   "cell_type": "code",
   "execution_count": null,
   "metadata": {},
   "outputs": [],
   "source": [
    "#accuracy_score(y_test, y_pred_grid_search_BOW_RF) #0.8903606254095097 accuracy of base model"
   ]
  },
  {
   "cell_type": "code",
   "execution_count": null,
   "metadata": {},
   "outputs": [],
   "source": []
  },
  {
   "cell_type": "code",
   "execution_count": null,
   "metadata": {},
   "outputs": [],
   "source": [
    "#Ensemble Model based on Individual Classifiers using Majority of voting"
   ]
  },
  {
   "cell_type": "code",
   "execution_count": 70,
   "metadata": {},
   "outputs": [],
   "source": [
    "y_pred_BOW_NB = pd.read_csv(\"y_pred_BOW_NB.csv\",index_col=None)\n",
    "y_pred_BOW_LR= pd.read_csv(\"y_pred_BOW_LR.csv\",index_col=None)\n",
    "y_pred_BOW_CART= pd.read_csv(\"y_pred_BOW_CART.csv\",index_col=None)\n",
    "y_pred_BOW_SVM= pd.read_csv(\"y_pred_BOW_SVM.csv\",index_col=None)"
   ]
  },
  {
   "cell_type": "code",
   "execution_count": 71,
   "metadata": {},
   "outputs": [],
   "source": [
    "y_pred_BOW_ensb=y_pred_BOW_NB.merge(y_pred_BOW_LR, how = 'inner',left_index = True, right_index = True, on = 'Product')\n"
   ]
  },
  {
   "cell_type": "code",
   "execution_count": 72,
   "metadata": {},
   "outputs": [],
   "source": [
    "y_pred_BOW_ensb = y_pred_BOW_ensb.merge(y_pred_BOW_CART, how='inner', left_index = True, right_index = True, on = 'Product')"
   ]
  },
  {
   "cell_type": "code",
   "execution_count": 73,
   "metadata": {},
   "outputs": [
    {
     "data": {
      "text/plain": [
       "(48018, 4)"
      ]
     },
     "execution_count": 73,
     "metadata": {},
     "output_type": "execute_result"
    }
   ],
   "source": [
    "y_pred_BOW_ensb.shape"
   ]
  },
  {
   "cell_type": "code",
   "execution_count": 74,
   "metadata": {},
   "outputs": [
    {
     "data": {
      "text/html": [
       "<div>\n",
       "<style scoped>\n",
       "    .dataframe tbody tr th:only-of-type {\n",
       "        vertical-align: middle;\n",
       "    }\n",
       "\n",
       "    .dataframe tbody tr th {\n",
       "        vertical-align: top;\n",
       "    }\n",
       "\n",
       "    .dataframe thead th {\n",
       "        text-align: right;\n",
       "    }\n",
       "</style>\n",
       "<table border=\"1\" class=\"dataframe\">\n",
       "  <thead>\n",
       "    <tr style=\"text-align: right;\">\n",
       "      <th></th>\n",
       "      <th>Product</th>\n",
       "      <th>Tags_BOW_NB</th>\n",
       "      <th>Tags_BOW_LR</th>\n",
       "      <th>Tags_BOW_CART</th>\n",
       "    </tr>\n",
       "  </thead>\n",
       "  <tbody>\n",
       "    <tr>\n",
       "      <th>0</th>\n",
       "      <td>Xiaomi Redmi 4A</td>\n",
       "      <td>1</td>\n",
       "      <td>1</td>\n",
       "      <td>1</td>\n",
       "    </tr>\n",
       "    <tr>\n",
       "      <th>1</th>\n",
       "      <td>Lenovo K3 Note</td>\n",
       "      <td>1</td>\n",
       "      <td>1</td>\n",
       "      <td>0</td>\n",
       "    </tr>\n",
       "    <tr>\n",
       "      <th>2</th>\n",
       "      <td>Samsung Galaxy Note 3</td>\n",
       "      <td>1</td>\n",
       "      <td>1</td>\n",
       "      <td>1</td>\n",
       "    </tr>\n",
       "    <tr>\n",
       "      <th>3</th>\n",
       "      <td>Xiaomi Redmi Note 3</td>\n",
       "      <td>1</td>\n",
       "      <td>1</td>\n",
       "      <td>1</td>\n",
       "    </tr>\n",
       "    <tr>\n",
       "      <th>4</th>\n",
       "      <td>Xiaomi Redmi 3S Prime</td>\n",
       "      <td>1</td>\n",
       "      <td>1</td>\n",
       "      <td>1</td>\n",
       "    </tr>\n",
       "  </tbody>\n",
       "</table>\n",
       "</div>"
      ],
      "text/plain": [
       "                 Product  Tags_BOW_NB  Tags_BOW_LR  Tags_BOW_CART\n",
       "0        Xiaomi Redmi 4A            1            1              1\n",
       "1         Lenovo K3 Note            1            1              0\n",
       "2  Samsung Galaxy Note 3            1            1              1\n",
       "3    Xiaomi Redmi Note 3            1            1              1\n",
       "4  Xiaomi Redmi 3S Prime            1            1              1"
      ]
     },
     "execution_count": 74,
     "metadata": {},
     "output_type": "execute_result"
    }
   ],
   "source": [
    "\n",
    "y_pred_BOW_ensb.head()"
   ]
  },
  {
   "cell_type": "code",
   "execution_count": 75,
   "metadata": {},
   "outputs": [],
   "source": [
    "y_pred_BOW_ensb = y_pred_BOW_ensb.merge(y_pred_BOW_SVM, how='inner', left_index = True, right_index = True, on = 'Product')"
   ]
  },
  {
   "cell_type": "code",
   "execution_count": 76,
   "metadata": {},
   "outputs": [
    {
     "data": {
      "text/plain": [
       "Index(['Product', 'Tags_BOW_NB', 'Tags_BOW_LR', 'Tags_BOW_CART',\n",
       "       'Tags_BOW_SVM'],\n",
       "      dtype='object')"
      ]
     },
     "execution_count": 76,
     "metadata": {},
     "output_type": "execute_result"
    }
   ],
   "source": [
    "\n",
    "y_pred_BOW_ensb.columns"
   ]
  },
  {
   "cell_type": "code",
   "execution_count": 77,
   "metadata": {},
   "outputs": [],
   "source": [
    "#Adding weights on classifiers based on the performance of the classifiers in terms of accuracy, precision and recall\n",
    "#Naive Bayes and Decision Tree has been added a weight of 0.5 each\n",
    "y_pred_BOW_ensb[\"Total Votes\"] = (0.5*y_pred_BOW_ensb[\"Tags_BOW_NB\"])+y_pred_BOW_ensb[\"Tags_BOW_LR\"] + (0.5*y_pred_BOW_ensb[\"Tags_BOW_CART\"])+y_pred_BOW_ensb[\"Tags_BOW_SVM\"]\n"
   ]
  },
  {
   "cell_type": "code",
   "execution_count": 78,
   "metadata": {},
   "outputs": [],
   "source": [
    "y_pred_BOW_ensb[\"Majority of Votes\"]  = [1 if x >=2 else 0 for x in y_pred_BOW_ensb[\"Total Votes\"]] "
   ]
  },
  {
   "cell_type": "code",
   "execution_count": 79,
   "metadata": {},
   "outputs": [
    {
     "data": {
      "text/plain": [
       "'              precision    recall  f1-score   support\\n\\n     class 0       0.75      0.61      0.67      7791\\n     class 1       0.93      0.96      0.94     40227\\n\\n    accuracy                           0.90     48018\\n   macro avg       0.84      0.78      0.81     48018\\nweighted avg       0.90      0.90      0.90     48018\\n'"
      ]
     },
     "execution_count": 79,
     "metadata": {},
     "output_type": "execute_result"
    }
   ],
   "source": [
    "target_names = ['class 0', 'class 1']\n",
    "ClassificationReport_BOW_Ensemble=classification_report(y_test, y_pred_BOW_ensb[\"Majority of Votes\"], target_names=target_names)\n",
    "ClassificationReport_BOW_Ensemble\n",
    "\n",
    "#'              precision    recall  f1-score   support\\n\\n     \n",
    "#class 0       0.75      0.61      0.67      7791\\n     \n",
    "#class 1       0.93      0.96      0.94     40227\\n\\n    \n",
    "#accuracy                          0.90     48018\\n   \n",
    "#macro avg     0.84      0.78      0.81     48018\\n\n",
    "#weighted avg  0.90      0.90      0.90     48018\\n'\n",
    "\n"
   ]
  },
  {
   "cell_type": "code",
   "execution_count": 80,
   "metadata": {},
   "outputs": [
    {
     "data": {
      "text/plain": [
       "array([[ 4715,  3076],\n",
       "       [ 1586, 38641]], dtype=int64)"
      ]
     },
     "execution_count": 80,
     "metadata": {},
     "output_type": "execute_result"
    }
   ],
   "source": [
    "ConfusionMatrix_BOW_Ensemble=confusion_matrix(y_test, y_pred_BOW_ensb[\"Majority of Votes\"])\n",
    "ConfusionMatrix_BOW_Ensemble"
   ]
  },
  {
   "cell_type": "code",
   "execution_count": 81,
   "metadata": {},
   "outputs": [
    {
     "data": {
      "text/plain": [
       "0.9029114082219167"
      ]
     },
     "execution_count": 81,
     "metadata": {},
     "output_type": "execute_result"
    }
   ],
   "source": [
    "accuracy_score(y_test, y_pred_BOW_ensb[\"Majority of Votes\"]) #0.9029114082219167 accuracy of base model"
   ]
  },
  {
   "cell_type": "code",
   "execution_count": null,
   "metadata": {},
   "outputs": [],
   "source": []
  },
  {
   "cell_type": "code",
   "execution_count": null,
   "metadata": {},
   "outputs": [],
   "source": []
  },
  {
   "cell_type": "code",
   "execution_count": null,
   "metadata": {},
   "outputs": [],
   "source": []
  },
  {
   "cell_type": "code",
   "execution_count": null,
   "metadata": {},
   "outputs": [],
   "source": []
  },
  {
   "cell_type": "code",
   "execution_count": null,
   "metadata": {},
   "outputs": [],
   "source": []
  },
  {
   "cell_type": "code",
   "execution_count": null,
   "metadata": {},
   "outputs": [],
   "source": []
  },
  {
   "cell_type": "code",
   "execution_count": null,
   "metadata": {},
   "outputs": [],
   "source": []
  },
  {
   "cell_type": "code",
   "execution_count": null,
   "metadata": {},
   "outputs": [],
   "source": []
  },
  {
   "cell_type": "code",
   "execution_count": null,
   "metadata": {},
   "outputs": [],
   "source": []
  },
  {
   "cell_type": "code",
   "execution_count": null,
   "metadata": {},
   "outputs": [],
   "source": []
  },
  {
   "cell_type": "code",
   "execution_count": null,
   "metadata": {},
   "outputs": [],
   "source": []
  },
  {
   "cell_type": "code",
   "execution_count": null,
   "metadata": {},
   "outputs": [],
   "source": []
  },
  {
   "cell_type": "code",
   "execution_count": null,
   "metadata": {},
   "outputs": [],
   "source": []
  },
  {
   "cell_type": "code",
   "execution_count": null,
   "metadata": {},
   "outputs": [],
   "source": []
  },
  {
   "cell_type": "code",
   "execution_count": null,
   "metadata": {},
   "outputs": [],
   "source": []
  },
  {
   "cell_type": "code",
   "execution_count": null,
   "metadata": {},
   "outputs": [],
   "source": []
  },
  {
   "cell_type": "code",
   "execution_count": null,
   "metadata": {},
   "outputs": [],
   "source": []
  },
  {
   "cell_type": "code",
   "execution_count": null,
   "metadata": {},
   "outputs": [],
   "source": []
  },
  {
   "cell_type": "code",
   "execution_count": null,
   "metadata": {},
   "outputs": [],
   "source": []
  },
  {
   "cell_type": "code",
   "execution_count": null,
   "metadata": {},
   "outputs": [],
   "source": []
  },
  {
   "cell_type": "code",
   "execution_count": null,
   "metadata": {},
   "outputs": [],
   "source": []
  },
  {
   "cell_type": "code",
   "execution_count": null,
   "metadata": {},
   "outputs": [],
   "source": []
  },
  {
   "cell_type": "code",
   "execution_count": null,
   "metadata": {},
   "outputs": [],
   "source": []
  },
  {
   "cell_type": "code",
   "execution_count": null,
   "metadata": {},
   "outputs": [],
   "source": []
  },
  {
   "cell_type": "code",
   "execution_count": null,
   "metadata": {},
   "outputs": [],
   "source": []
  },
  {
   "cell_type": "code",
   "execution_count": null,
   "metadata": {},
   "outputs": [],
   "source": []
  },
  {
   "cell_type": "code",
   "execution_count": null,
   "metadata": {},
   "outputs": [],
   "source": []
  },
  {
   "cell_type": "code",
   "execution_count": null,
   "metadata": {},
   "outputs": [],
   "source": []
  },
  {
   "cell_type": "code",
   "execution_count": null,
   "metadata": {},
   "outputs": [],
   "source": []
  },
  {
   "cell_type": "code",
   "execution_count": null,
   "metadata": {},
   "outputs": [],
   "source": []
  },
  {
   "cell_type": "code",
   "execution_count": null,
   "metadata": {},
   "outputs": [],
   "source": []
  },
  {
   "cell_type": "code",
   "execution_count": null,
   "metadata": {},
   "outputs": [],
   "source": []
  },
  {
   "cell_type": "code",
   "execution_count": null,
   "metadata": {},
   "outputs": [],
   "source": []
  },
  {
   "cell_type": "code",
   "execution_count": null,
   "metadata": {},
   "outputs": [],
   "source": []
  },
  {
   "cell_type": "code",
   "execution_count": null,
   "metadata": {},
   "outputs": [],
   "source": []
  },
  {
   "cell_type": "code",
   "execution_count": null,
   "metadata": {},
   "outputs": [],
   "source": []
  },
  {
   "cell_type": "code",
   "execution_count": null,
   "metadata": {},
   "outputs": [],
   "source": []
  },
  {
   "cell_type": "code",
   "execution_count": null,
   "metadata": {},
   "outputs": [],
   "source": []
  },
  {
   "cell_type": "code",
   "execution_count": null,
   "metadata": {},
   "outputs": [],
   "source": []
  },
  {
   "cell_type": "code",
   "execution_count": null,
   "metadata": {},
   "outputs": [],
   "source": []
  },
  {
   "cell_type": "code",
   "execution_count": null,
   "metadata": {},
   "outputs": [],
   "source": []
  },
  {
   "cell_type": "code",
   "execution_count": null,
   "metadata": {},
   "outputs": [],
   "source": []
  },
  {
   "cell_type": "code",
   "execution_count": null,
   "metadata": {},
   "outputs": [],
   "source": []
  },
  {
   "cell_type": "code",
   "execution_count": null,
   "metadata": {},
   "outputs": [],
   "source": []
  },
  {
   "cell_type": "code",
   "execution_count": null,
   "metadata": {},
   "outputs": [],
   "source": []
  },
  {
   "cell_type": "code",
   "execution_count": null,
   "metadata": {},
   "outputs": [],
   "source": []
  },
  {
   "cell_type": "code",
   "execution_count": null,
   "metadata": {},
   "outputs": [],
   "source": []
  },
  {
   "cell_type": "code",
   "execution_count": null,
   "metadata": {},
   "outputs": [],
   "source": []
  },
  {
   "cell_type": "code",
   "execution_count": null,
   "metadata": {},
   "outputs": [],
   "source": []
  },
  {
   "cell_type": "code",
   "execution_count": null,
   "metadata": {},
   "outputs": [],
   "source": []
  },
  {
   "cell_type": "code",
   "execution_count": null,
   "metadata": {},
   "outputs": [],
   "source": []
  },
  {
   "cell_type": "code",
   "execution_count": null,
   "metadata": {},
   "outputs": [],
   "source": []
  },
  {
   "cell_type": "code",
   "execution_count": null,
   "metadata": {},
   "outputs": [],
   "source": []
  },
  {
   "cell_type": "code",
   "execution_count": null,
   "metadata": {},
   "outputs": [],
   "source": []
  },
  {
   "cell_type": "code",
   "execution_count": null,
   "metadata": {},
   "outputs": [],
   "source": []
  },
  {
   "cell_type": "code",
   "execution_count": null,
   "metadata": {},
   "outputs": [],
   "source": []
  },
  {
   "cell_type": "code",
   "execution_count": null,
   "metadata": {},
   "outputs": [],
   "source": []
  },
  {
   "cell_type": "code",
   "execution_count": null,
   "metadata": {},
   "outputs": [],
   "source": []
  },
  {
   "cell_type": "code",
   "execution_count": null,
   "metadata": {},
   "outputs": [],
   "source": []
  },
  {
   "cell_type": "code",
   "execution_count": null,
   "metadata": {},
   "outputs": [],
   "source": []
  },
  {
   "cell_type": "code",
   "execution_count": null,
   "metadata": {},
   "outputs": [],
   "source": []
  },
  {
   "cell_type": "code",
   "execution_count": null,
   "metadata": {},
   "outputs": [],
   "source": []
  },
  {
   "cell_type": "code",
   "execution_count": null,
   "metadata": {},
   "outputs": [],
   "source": []
  },
  {
   "cell_type": "code",
   "execution_count": null,
   "metadata": {},
   "outputs": [],
   "source": []
  },
  {
   "cell_type": "code",
   "execution_count": null,
   "metadata": {},
   "outputs": [],
   "source": []
  },
  {
   "cell_type": "code",
   "execution_count": null,
   "metadata": {},
   "outputs": [],
   "source": []
  },
  {
   "cell_type": "code",
   "execution_count": null,
   "metadata": {},
   "outputs": [],
   "source": []
  },
  {
   "cell_type": "code",
   "execution_count": null,
   "metadata": {},
   "outputs": [],
   "source": []
  },
  {
   "cell_type": "code",
   "execution_count": null,
   "metadata": {},
   "outputs": [],
   "source": []
  },
  {
   "cell_type": "code",
   "execution_count": null,
   "metadata": {},
   "outputs": [],
   "source": []
  },
  {
   "cell_type": "code",
   "execution_count": null,
   "metadata": {},
   "outputs": [],
   "source": []
  },
  {
   "cell_type": "code",
   "execution_count": null,
   "metadata": {},
   "outputs": [],
   "source": []
  },
  {
   "cell_type": "code",
   "execution_count": null,
   "metadata": {},
   "outputs": [],
   "source": []
  },
  {
   "cell_type": "code",
   "execution_count": null,
   "metadata": {},
   "outputs": [],
   "source": []
  },
  {
   "cell_type": "code",
   "execution_count": null,
   "metadata": {},
   "outputs": [],
   "source": []
  },
  {
   "cell_type": "code",
   "execution_count": null,
   "metadata": {},
   "outputs": [],
   "source": []
  },
  {
   "cell_type": "code",
   "execution_count": null,
   "metadata": {},
   "outputs": [],
   "source": []
  },
  {
   "cell_type": "code",
   "execution_count": null,
   "metadata": {},
   "outputs": [],
   "source": []
  },
  {
   "cell_type": "code",
   "execution_count": null,
   "metadata": {},
   "outputs": [],
   "source": []
  },
  {
   "cell_type": "code",
   "execution_count": null,
   "metadata": {},
   "outputs": [],
   "source": []
  },
  {
   "cell_type": "code",
   "execution_count": null,
   "metadata": {},
   "outputs": [],
   "source": []
  },
  {
   "cell_type": "code",
   "execution_count": null,
   "metadata": {},
   "outputs": [],
   "source": []
  },
  {
   "cell_type": "code",
   "execution_count": null,
   "metadata": {},
   "outputs": [],
   "source": []
  },
  {
   "cell_type": "code",
   "execution_count": null,
   "metadata": {},
   "outputs": [],
   "source": []
  },
  {
   "cell_type": "code",
   "execution_count": null,
   "metadata": {},
   "outputs": [],
   "source": []
  },
  {
   "cell_type": "code",
   "execution_count": null,
   "metadata": {},
   "outputs": [],
   "source": []
  },
  {
   "cell_type": "code",
   "execution_count": null,
   "metadata": {},
   "outputs": [],
   "source": []
  },
  {
   "cell_type": "code",
   "execution_count": null,
   "metadata": {},
   "outputs": [],
   "source": []
  },
  {
   "cell_type": "code",
   "execution_count": null,
   "metadata": {},
   "outputs": [],
   "source": []
  },
  {
   "cell_type": "code",
   "execution_count": null,
   "metadata": {},
   "outputs": [],
   "source": []
  },
  {
   "cell_type": "code",
   "execution_count": null,
   "metadata": {},
   "outputs": [],
   "source": []
  },
  {
   "cell_type": "code",
   "execution_count": null,
   "metadata": {},
   "outputs": [],
   "source": []
  },
  {
   "cell_type": "code",
   "execution_count": null,
   "metadata": {},
   "outputs": [],
   "source": []
  },
  {
   "cell_type": "code",
   "execution_count": null,
   "metadata": {},
   "outputs": [],
   "source": []
  },
  {
   "cell_type": "code",
   "execution_count": null,
   "metadata": {},
   "outputs": [],
   "source": []
  },
  {
   "cell_type": "code",
   "execution_count": null,
   "metadata": {},
   "outputs": [],
   "source": []
  },
  {
   "cell_type": "code",
   "execution_count": null,
   "metadata": {},
   "outputs": [],
   "source": []
  },
  {
   "cell_type": "code",
   "execution_count": null,
   "metadata": {},
   "outputs": [],
   "source": []
  },
  {
   "cell_type": "code",
   "execution_count": null,
   "metadata": {},
   "outputs": [],
   "source": []
  }
 ],
 "metadata": {
  "kernelspec": {
   "display_name": "Python 3",
   "language": "python",
   "name": "python3"
  },
  "language_info": {
   "codemirror_mode": {
    "name": "ipython",
    "version": 3
   },
   "file_extension": ".py",
   "mimetype": "text/x-python",
   "name": "python",
   "nbconvert_exporter": "python",
   "pygments_lexer": "ipython3",
   "version": "3.7.5"
  }
 },
 "nbformat": 4,
 "nbformat_minor": 2
}
